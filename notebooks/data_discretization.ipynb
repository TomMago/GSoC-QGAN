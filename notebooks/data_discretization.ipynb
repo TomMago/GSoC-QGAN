{
 "cells": [
  {
   "cell_type": "markdown",
   "id": "d8f878dc-e6aa-42e0-a29c-b042db7fef83",
   "metadata": {},
   "source": [
    "In this notebook I produce a discretized version of the quark gluon dataset.\n",
    "\n",
    "I scale it down to NxN and discretize each pixel to M values."
   ]
  },
  {
   "cell_type": "markdown",
   "id": "d2a0fd18-998a-49a9-a6e0-0dfcc52396b6",
   "metadata": {},
   "source": [
    "Parameters:\n",
    "    \n",
    "size: N (scale down to NxN)\n",
    "Nvals: M (M values per pixel)\n",
    "Nsamples: number of samples to write to the nwe dataset)\n",
    "file_name: filename of the output dataset"
   ]
  },
  {
   "cell_type": "code",
   "execution_count": 1,
   "id": "63a8f96f-7fb8-40ff-9ffb-bd4433e7965d",
   "metadata": {},
   "outputs": [],
   "source": [
    "size = 4\n",
    "Nvals = 4\n",
    "Nsamples = 100000\n",
    "file_name = \"QG_train_normalized_N4_M4_bilinear_xl\"\n",
    "\n",
    "# which channel to use\n",
    "channel = 1\n",
    "# batch size when reading and writing\n",
    "batch_size = 200"
   ]
  },
  {
   "cell_type": "code",
   "execution_count": 10,
   "id": "231cb03b-260a-42f8-aa6a-d8c1fadd1180",
   "metadata": {},
   "outputs": [],
   "source": [
    "import numpy as np\n",
    "import matplotlib.pyplot as plt\n",
    "import tensorflow as tf\n",
    "import h5py\n",
    "import matplotlib\n",
    "from itertools import product"
   ]
  },
  {
   "cell_type": "code",
   "execution_count": 3,
   "id": "abd5b2a4-e2d6-42ca-b993-5cd7f93184e0",
   "metadata": {},
   "outputs": [],
   "source": [
    "f = h5py.File(\"../data/quark-gluon_train-set_n793900.hdf5\",\"r\")\n",
    "x_train = f.get('X_jets')\n",
    "y_train = f.get('y')"
   ]
  },
  {
   "cell_type": "markdown",
   "id": "eff0bd61-19d7-46ce-8ff1-45b182488235",
   "metadata": {},
   "source": [
    "Method to discretize an image to Nvals values per pixel"
   ]
  },
  {
   "cell_type": "code",
   "execution_count": 4,
   "id": "3646422e-e991-43c9-9ada-9ecf1cc0a873",
   "metadata": {},
   "outputs": [],
   "source": [
    "def discretize_img(img):\n",
    "    bins = np.linspace(0,1,Nvals+1)\n",
    "    vals = np.linspace(0,1,Nvals)\n",
    "    inds = np.digitize(img, bins)\n",
    "    return vals[inds-1]"
   ]
  },
  {
   "cell_type": "markdown",
   "id": "737b72b6-9bbc-4e56-864c-621e657e99b3",
   "metadata": {},
   "source": [
    "crap and resize an image with the given rescale method.\n",
    "crop fraction gives the percentage of the image to retain after the crop "
   ]
  },
  {
   "cell_type": "code",
   "execution_count": 5,
   "id": "edbd9983-0019-4756-9c8c-76fc48757453",
   "metadata": {},
   "outputs": [],
   "source": [
    "def crop_and_resize(x, channel, scale, crop_fraction=0.8, meth=\"bilinear\"):\n",
    "    cropped = tf.image.central_crop(x[:,:,:,channel].reshape(x.shape[0],125,125,1), crop_fraction)\n",
    "    return tf.image.resize(cropped, (scale,scale), method=meth).numpy()"
   ]
  },
  {
   "cell_type": "code",
   "execution_count": 6,
   "id": "89d1cb2f-4bdc-4a3b-8ec1-db72543c9cc8",
   "metadata": {
    "tags": []
   },
   "outputs": [
    {
     "name": "stderr",
     "output_type": "stream",
     "text": [
      "2023-10-04 12:50:25.609694: W tensorflow/compiler/xla/stream_executor/platform/default/dso_loader.cc:64] Could not load dynamic library 'libcuda.so.1'; dlerror: libcuda.so.1: cannot open shared object file: No such file or directory\n",
      "2023-10-04 12:50:25.609728: W tensorflow/compiler/xla/stream_executor/cuda/cuda_driver.cc:265] failed call to cuInit: UNKNOWN ERROR (303)\n",
      "2023-10-04 12:50:25.609755: I tensorflow/compiler/xla/stream_executor/cuda/cuda_diagnostics.cc:156] kernel driver does not appear to be running on this host (tomskopfbahnhof): /proc/driver/nvidia/version does not exist\n",
      "2023-10-04 12:50:25.610113: I tensorflow/core/platform/cpu_feature_guard.cc:193] This TensorFlow binary is optimized with oneAPI Deep Neural Network Library (oneDNN) to use the following CPU instructions in performance-critical operations:  AVX2 FMA\n",
      "To enable them in other operations, rebuild TensorFlow with the appropriate compiler flags.\n"
     ]
    },
    {
     "name": "stdout",
     "output_type": "stream",
     "text": [
      "batch  499 / 500\r"
     ]
    }
   ],
   "source": [
    "scale = size\n",
    "num_batches = Nsamples//batch_size\n",
    "\n",
    "events = num_batches*batch_size\n",
    "\n",
    "fnew = h5py.File(file_name, \"w\")\n",
    "\n",
    "dsetx = fnew.create_dataset(\"X\", (events,scale,scale), dtype='f')\n",
    "dsety = fnew.create_dataset(\"y\", (events,), dtype='i')\n",
    " \n",
    "for i in range(int(num_batches)):\n",
    "    y = y_train[i * batch_size: (i + 1) * batch_size]\n",
    "    x = x_train[i * batch_size: (i + 1) * batch_size]\n",
    "    \n",
    "    #div1 = np.max(x, axis=(1,2)).reshape((batch_size,1,1,3))\n",
    "    #div1[div1 == 0] = 1\n",
    "    #x = x / (div1+0.00001)\n",
    "    \n",
    "    x_train_small = crop_and_resize(x, channel, scale, crop_fraction=0.7)#, meth=\"lanczos5\")\n",
    "    \n",
    "    div1 = np.max(x_train_small, axis=(1,2)).reshape((batch_size,1,1,1))\n",
    "    div1[div1 == 0] = 1\n",
    "    x_train_small = x_train_small / (div1+0.00001)\n",
    "    \n",
    "    x_discr = discretize_img(x_train_small)\n",
    "    \n",
    "    dsety[i * batch_size: (i + 1) * batch_size] = y\n",
    "    dsetx[i * batch_size: (i + 1) * batch_size] = x_discr.reshape((x_discr.shape[0], scale, scale))\n",
    "    print(\"batch \",i,\"/\",num_batches, end=\"\\r\")\n",
    "    \n",
    "fnew.close()"
   ]
  },
  {
   "cell_type": "code",
   "execution_count": 7,
   "id": "673d0c72-74b7-4280-b249-1acb85628a02",
   "metadata": {},
   "outputs": [],
   "source": [
    "fnew.close()"
   ]
  },
  {
   "cell_type": "code",
   "execution_count": 8,
   "id": "0592e063-3ee3-4fd0-9ec2-c4838173d025",
   "metadata": {},
   "outputs": [
    {
     "data": {
      "text/plain": [
       "<matplotlib.colorbar.Colorbar at 0x7fc92ae87f10>"
      ]
     },
     "execution_count": 8,
     "metadata": {},
     "output_type": "execute_result"
    },
    {
     "data": {
      "image/png": "[encoded data removed]",
      "text/plain": [
       "<Figure size 432x288 with 2 Axes>"
      ]
     },
     "metadata": {
      "needs_background": "light"
     },
     "output_type": "display_data"
    }
   ],
   "source": [
    "ftest = h5py.File(file_name,\"r\")\n",
    "plt.imshow(np.mean(ftest['X'],axis=0),norm=matplotlib.colors.LogNorm())\n",
    "plt.colorbar()"
   ]
  },
  {
   "cell_type": "code",
   "execution_count": 13,
   "id": "32f2b2f4-a13d-4750-bc0e-081092e0fb58",
   "metadata": {},
   "outputs": [
    {
     "data": {
      "image/png": "[encoded data removed]",
      "text/plain": [
       "<Figure size 432x288 with 6 Axes>"
      ]
     },
     "metadata": {
      "needs_background": "light"
     },
     "output_type": "display_data"
    }
   ],
   "source": [
    "fig, ax = plt.subplots(2, 3)\n",
    "for i,j in product(range(2),range(3)):\n",
    "    num = np.random.randint(0,ftest['X'].shape[0])\n",
    "    ax[i,j].imshow(ftest['X'][num])\n",
    "fig.tight_layout()"
   ]
  },
  {
   "cell_type": "code",
   "execution_count": 14,
   "id": "13cab869-a973-40ff-9fdb-fc6c78b18df5",
   "metadata": {},
   "outputs": [],
   "source": [
    "ftest.close()"
   ]
  }
 ],
 "metadata": {
  "kernelspec": {
   "display_name": "tfq",
   "language": "python",
   "name": "tfq"
  },
  "language_info": {
   "codemirror_mode": {
    "name": "ipython",
    "version": 3
   },
   "file_extension": ".py",
   "mimetype": "text/x-python",
   "name": "python",
   "nbconvert_exporter": "python",
   "pygments_lexer": "ipython3",
   "version": "3.9.12"
  }
 },
 "nbformat": 4,
 "nbformat_minor": 5
}
