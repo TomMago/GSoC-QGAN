{
 "cells": [
  {
   "cell_type": "code",
   "execution_count": 1,
   "id": "f75d6aba-26d9-418b-81cc-e9c3b44278a1",
   "metadata": {},
   "outputs": [],
   "source": [
    "import matplotlib\n",
    "import matplotlib.pyplot as plt\n",
    "import pennylane as qml\n",
    "from pennylane import numpy as np\n",
    "import time\n",
    "from pennylane.optimize import AdamOptimizer\n",
    "import torch\n",
    "import h5py\n",
    "from itertools import product\n",
    "\n",
    "plt.rcParams['figure.dpi'] = 300\n",
    "plt.rcParams['figure.figsize'] = [3, 1]\n",
    "plt.rcParams.update({\n",
    "    \"text.usetex\": True,\n",
    "    \"font.family\": \"Helvetica\"\n",
    "})"
   ]
  },
  {
   "cell_type": "markdown",
   "id": "85d00751-1e31-4d76-90d9-45106f03002b",
   "metadata": {},
   "source": [
    "## Settings"
   ]
  },
  {
   "cell_type": "markdown",
   "id": "1fdd9c0e-5f2f-49e1-b16a-f8fdc33a7615",
   "metadata": {},
   "source": [
    "We set the batch size and the discretization scheme of the data"
   ]
  },
  {
   "cell_type": "code",
   "execution_count": 2,
   "id": "5d4c06ad-1ad0-430e-b1fe-6dd295f651ba",
   "metadata": {},
   "outputs": [],
   "source": [
    "# batch size\n",
    "nbatch = 6000\n",
    "# size of image NxN\n",
    "N = 3\n",
    "# discrete values per pixel\n",
    "M = 2\n",
    "# Image data to read (as hdf5)\n",
    "file_name = \"../data/QG_train_normalized_N3_M2_bilinear_xl\"\n",
    "#file_name = \"QG_train_normalized_N3_M2_bilinear_xl\"\n",
    "\n",
    "# Layers for the quantum model\n",
    "n_layers = 30\n",
    "\n",
    "# Number of qubits per pixel\n",
    "qM = int(np.log2(M))\n",
    "\n",
    "# Maximal integer value of unnormalized images\n",
    "nM = M - 1\n",
    "\n",
    "# total number of qubits\n",
    "num_qubits = int(N**2 * qM)\n",
    "# Number of basis states\n",
    "num_discrete_values = 2**num_qubits\n",
    "\n",
    "reg = 0.000001"
   ]
  },
  {
   "cell_type": "markdown",
   "id": "42594711-6d99-4ccd-a23b-e17bc9422ece",
   "metadata": {},
   "source": [
    "## Data"
   ]
  },
  {
   "cell_type": "markdown",
   "id": "8f931223-b253-4d92-be74-0017298afb61",
   "metadata": {},
   "source": [
    "First we read in the data"
   ]
  },
  {
   "cell_type": "code",
   "execution_count": 3,
   "id": "e70763be-ca3c-4204-89c7-d5b2cc0ad1d5",
   "metadata": {},
   "outputs": [],
   "source": [
    "f = h5py.File(file_name,\"r\")\n",
    "x_train = f.get('X')\n",
    "y_train = f.get('y')"
   ]
  },
  {
   "cell_type": "markdown",
   "id": "23239cb5-3aeb-4c92-97f7-86bd9a906b2b",
   "metadata": {},
   "source": [
    "lets check the two classes"
   ]
  },
  {
   "cell_type": "code",
   "execution_count": 4,
   "id": "f985952e-7458-4280-ab3f-89496e40ff54",
   "metadata": {},
   "outputs": [
    {
     "data": {
      "text/plain": [
       "(-0.5, 2.5, 2.5, -0.5)"
      ]
     },
     "execution_count": 4,
     "metadata": {},
     "output_type": "execute_result"
    },
    {
     "data": {
      "image/png": "[encoded data removed]",
      "text/plain": [
       "<Figure size 432x288 with 1 Axes>"
      ]
     },
     "metadata": {
      "needs_background": "light"
     },
     "output_type": "display_data"
    }
   ],
   "source": [
    "plt.imshow(np.mean(x_train[y_train[:]==1],axis=0),norm=matplotlib.colors.LogNorm())\n",
    "plt.axis('off')"
   ]
  },
  {
   "cell_type": "code",
   "execution_count": 5,
   "id": "6e519f3e-d862-4be6-aeb7-5f3e2a8e00b9",
   "metadata": {},
   "outputs": [
    {
     "data": {
      "text/plain": [
       "(-0.5, 2.5, 2.5, -0.5)"
      ]
     },
     "execution_count": 5,
     "metadata": {},
     "output_type": "execute_result"
    },
    {
     "data": {
      "image/png": "[encoded data removed]",
      "text/plain": [
       "<Figure size 432x288 with 1 Axes>"
      ]
     },
     "metadata": {
      "needs_background": "light"
     },
     "output_type": "display_data"
    }
   ],
   "source": [
    "plt.imshow(np.mean(x_train[y_train[:]==0],axis=0),norm=matplotlib.colors.LogNorm())\n",
    "plt.axis('off')"
   ]
  },
  {
   "cell_type": "markdown",
   "id": "5100c35f-a16a-4247-8ca0-da75371e215f",
   "metadata": {},
   "source": [
    "lets look at some examples"
   ]
  },
  {
   "cell_type": "code",
   "execution_count": 6,
   "id": "00244b08-8d19-4b27-a54e-e35de2caceae",
   "metadata": {},
   "outputs": [
    {
     "data": {
      "image/png": "[encoded data removed]",
      "text/plain": [
       "<Figure size 432x288 with 6 Axes>"
      ]
     },
     "metadata": {
      "needs_background": "light"
     },
     "output_type": "display_data"
    }
   ],
   "source": [
    "fig, ax = plt.subplots(2, 3)\n",
    "for i,j in product(range(2),range(3)):\n",
    "    num = np.random.randint(0,x_train.shape[0])\n",
    "    ax[i,j].imshow(x_train[num])\n",
    "    ax[i,j].axis('off')\n",
    "fig.tight_layout()"
   ]
  },
  {
   "cell_type": "markdown",
   "id": "50bc8f88-eaa7-44ee-8994-9d3ce5524dfa",
   "metadata": {},
   "source": [
    "Now we grab the data for one class and close the file.\n",
    "This is the data we will be working with and which we wish to model."
   ]
  },
  {
   "cell_type": "code",
   "execution_count": 7,
   "id": "06ca5084-3f7b-4795-8fc6-530db9a960da",
   "metadata": {},
   "outputs": [
    {
     "data": {
      "text/plain": [
       "(49962, 3, 3)"
      ]
     },
     "execution_count": 7,
     "metadata": {},
     "output_type": "execute_result"
    }
   ],
   "source": [
    "data = x_train[y_train[:]==1]\n",
    "f.close()\n",
    "data.shape"
   ]
  },
  {
   "cell_type": "markdown",
   "id": "9aee6117-f2f0-4b01-a319-eb28ec06b060",
   "metadata": {},
   "source": [
    "We can use the mean to check how the distribution looks like on average"
   ]
  },
  {
   "cell_type": "code",
   "execution_count": 8,
   "id": "d20395c8-8eeb-42fb-ae20-c2332c9518d1",
   "metadata": {},
   "outputs": [],
   "source": [
    "mean_data = np.mean(data,axis=0)"
   ]
  },
  {
   "cell_type": "markdown",
   "id": "0a37c535-cac7-441d-b5c4-c178f8c2f155",
   "metadata": {},
   "source": [
    "## Utillity functions"
   ]
  },
  {
   "cell_type": "markdown",
   "id": "aa4af460-4f77-44c7-8ca0-4c8c2a8c1dc3",
   "metadata": {},
   "source": [
    "We will use some utility functions during the training:"
   ]
  },
  {
   "cell_type": "code",
   "execution_count": 9,
   "id": "0d6951eb-b4f6-4cf2-a2eb-fc3f38c859c1",
   "metadata": {},
   "outputs": [],
   "source": [
    "def int_to_bin_list(num, bits):\n",
    "    \"\"\"Function to convert an integer to a list of 0s and 1s representing its binary\n",
    "\n",
    "    Args:\n",
    "        num (int): The integer to convert \n",
    "        bits (int): The number of bits for binary representaion\n",
    "\n",
    "    Returns:\n",
    "        list[int]: List of 0s and 1s representing the binary with 'bits' bits\n",
    "    \"\"\"\n",
    "    return [(num>>k)&1 for k in range(0,bits)][::-1]"
   ]
  },
  {
   "cell_type": "code",
   "execution_count": 10,
   "id": "f8a88da5-8fb1-413d-a96e-7e14c2573f7c",
   "metadata": {},
   "outputs": [],
   "source": [
    "def convert_dim_to_integer(arr, dim):\n",
    "    \"\"\"function to concat a single dimension of an array of 0s and 1s to integeers\n",
    "\n",
    "    Args:\n",
    "        arry (list(int)): The integer array to use\n",
    "        dim (int): The dimension to cancat\n",
    "\n",
    "    Returns:\n",
    "        list[int]: list with dimension dim removed an concated to integers\n",
    "    \"\"\"\n",
    "    num_values = 2 ** arr.shape[dim]\n",
    "    arr = torch.flip(arr,(1,))\n",
    "    integer_array = np.sum(arr * (2 ** np.arange(arr.shape[dim])), axis=-1)\n",
    "\n",
    "    return torch.tensor(integer_array)"
   ]
  },
  {
   "cell_type": "code",
   "execution_count": 11,
   "id": "60c90e4c-9775-4573-afb9-16c9e2851dd9",
   "metadata": {},
   "outputs": [],
   "source": [
    "def normalize_image(img):\n",
    "    \"\"\"normalize an image given as 2d array of integers to [0,1]\n",
    "\n",
    "    Args:\n",
    "        img (list(int)): 2d int array with maximum value nM\n",
    "\n",
    "    Returns:\n",
    "        list[int]: Normalized image\n",
    "    \"\"\"\n",
    "    return img / nM"
   ]
  },
  {
   "cell_type": "code",
   "execution_count": 12,
   "id": "f23a767d-5534-4718-aec3-b78178e2134d",
   "metadata": {},
   "outputs": [],
   "source": [
    "def basis_array_to_img(basis_array):\n",
    "    \"\"\"Convert a basis state, that is a 1D array of 0s and 1s to a NxN image\n",
    "\n",
    "    Args:\n",
    "        basis_array (list[int]): 1D int array of length num_qubits\n",
    "\n",
    "    Returns:\n",
    "        list[int]: 2d image array\n",
    "    \"\"\"\n",
    "    basis_array = basis_array.reshape(N,N,qM)\n",
    "    return normalize_image(convert_dim_to_integer(basis_array,2))"
   ]
  },
  {
   "cell_type": "code",
   "execution_count": 13,
   "id": "f077a577-eb6e-4d0d-a388-63aab01fc46d",
   "metadata": {},
   "outputs": [],
   "source": [
    "def batch_basis_array_to_img(batch_basis_array):\n",
    "    \"\"\"Convert a batch of basis states, that is a 1D arrays of 0s and 1s to a NxN images\n",
    "\n",
    "    Args:\n",
    "        batch_basis_array (list[int]): batch of 1D int arrays of length num_qubits\n",
    "\n",
    "    Returns:\n",
    "        list[int]: batch of 2d image arrays\n",
    "    \"\"\"\n",
    "    batch_basis_array = batch_basis_array.reshape(batch_basis_array.shape[0],N,N,qM)\n",
    "    return normalize_image(convert_dim_to_integer(batch_basis_array,3))"
   ]
  },
  {
   "cell_type": "code",
   "execution_count": 14,
   "id": "2bb9d0d5-b610-4e57-ae8a-5585fa565ad2",
   "metadata": {},
   "outputs": [],
   "source": [
    "def tensor_to_int(tensor):\n",
    "    \"\"\"Convert a pytorch tensor to integer values\n",
    "\n",
    "    Args:\n",
    "        tensor (torch.tensor): tensor of 0s and 1s\n",
    "    Returns:\n",
    "        torch.tensor: tensor containing integer values\n",
    "    \"\"\"\n",
    "    tensor = tensor.long()\n",
    "    num_columns = tensor.size(1)\n",
    "    weights = 2 ** torch.arange(num_columns - 1, -1, -1)\n",
    "    int_values = torch.sum(tensor * weights, dim=1)\n",
    "    \n",
    "    return int_values"
   ]
  },
  {
   "cell_type": "code",
   "execution_count": 15,
   "id": "6eb71b05-a7a3-483d-a695-b15dc073bd0f",
   "metadata": {},
   "outputs": [],
   "source": [
    "from IPython.display import clear_output\n",
    "\n",
    "matplotlib.rc('xtick', labelsize=20) \n",
    "matplotlib.rc('ytick', labelsize=20) \n",
    "\n",
    "def plot_training_progress(epoch, samples_tuple, mean_gen_image):\n",
    "    \"\"\"Plot some training quantities\n",
    "    \n",
    "    Args:\n",
    "        epoch (int): step to plot\n",
    "        samples_tuble (Tuple[torch.tensor[int])): A tuple of different samples of the basis states to use to evaluate the loss function\n",
    "        mean_gen_image (toch.tensor): 2D tensor representing the mean of the generated images\n",
    "    \"\"\"\n",
    "\n",
    "    clear_output(wait=True)\n",
    "    fig, ((ax1, ax2, ax3), (ax4, ax5, ax6)) = plt.subplots(2, 3, figsize=(18, 12))\n",
    "    fig.tight_layout(pad=10.0)\n",
    "\n",
    "    # Generator Loss\n",
    "    ax3.plot(generator_loss_values, label=\"generator loss\", color=\"royalblue\")\n",
    "    ax3.plot(discriminator_loss_values, label=\"discriminator loss\", color=\"magenta\")\n",
    "    ax3.legend(loc=\"best\", fontsize=16)\n",
    "    ax3.set_xlabel(\"epoch\", fontsize=16)\n",
    "    ax3.set_ylabel(\"Loss\", fontsize=16)\n",
    "\n",
    "    # KL divergence\n",
    "    ax2.plot(entropies)\n",
    "    ax2.set_xlabel(\"epoch\", fontsize=18)\n",
    "    ax2.set_ylabel(\"KL divergence\", fontsize=18)\n",
    "    ax2.set_yscale(\"log\")\n",
    "    \n",
    "    # mean generator image\n",
    "    im = ax1.imshow(mean_gen_image, norm=matplotlib.colors.LogNorm())\n",
    "    plt.colorbar(im,ax=ax1)\n",
    "    ax1.title.set_text('Mean of generated images')\n",
    "\n",
    "    \n",
    "    # mean data image\n",
    "    im2 = ax4.imshow(mean_data, norm=matplotlib.colors.LogNorm())\n",
    "    plt.colorbar(im2,ax=ax4)\n",
    "    ax2.title.set_text('Mean of data images')\n",
    "    \n",
    "    # mean square error\n",
    "    ax5.plot(mses)\n",
    "    ax5.set_xlabel(\"epoch\", fontsize=18)\n",
    "    ax5.set_ylabel(\"MSE of mean images\", fontsize=18)\n",
    "    ax5.set_yscale(\"log\")\n",
    "    \n",
    "    # plt.savefig(f\"imgs/{epoch}.png\")\n",
    "    \n",
    "    plt.show()"
   ]
  },
  {
   "cell_type": "code",
   "execution_count": 16,
   "id": "d1e02894-a052-4f89-be4d-212a8bca5b6f",
   "metadata": {},
   "outputs": [],
   "source": [
    "def iterate_minibatches(data, batch_size):\n",
    "    \"\"\"generator of mini batches of specified batch size\n",
    "\n",
    "    Args:\n",
    "        data (torch.tensor): dataset of arbitary dimension\n",
    "        \n",
    "    Yields:\n",
    "        torch.tensor: Batch of batch_size \n",
    "    \"\"\"\n",
    "    for start_idx in range(0, data.shape[0] - batch_size + 1, batch_size):\n",
    "        idxs = slice(start_idx, start_idx + batch_size)\n",
    "        yield data[idxs]"
   ]
  },
  {
   "cell_type": "markdown",
   "id": "e9d88ba4-b314-4bf9-89f7-2e6b39eb0341",
   "metadata": {},
   "source": [
    "# Model"
   ]
  },
  {
   "cell_type": "markdown",
   "id": "b17658a7-e0ca-42a5-a246-69480f330dbf",
   "metadata": {},
   "source": [
    "Now we are ready to build our models"
   ]
  },
  {
   "cell_type": "markdown",
   "id": "68ddec6b-682d-473a-a250-58b25415e129",
   "metadata": {},
   "source": [
    "## Generator circuits"
   ]
  },
  {
   "cell_type": "markdown",
   "id": "a9121cb0-6704-404c-9fe2-859e214d3f6b",
   "metadata": {},
   "source": [
    "We build a simple circuit for the generator which basically consists of a strongly entangling layer.\n",
    "Note that I pass an input to the circuit becauset this is required to build a pytorch layer from the circuit. **However we dont use this input!**\n",
    "\n",
    "Increasing cachesize is required for larger circuits"
   ]
  },
  {
   "cell_type": "code",
   "execution_count": 17,
   "id": "2be3e809-2454-4a4d-9d30-e6185a625ed4",
   "metadata": {},
   "outputs": [],
   "source": [
    "dev = qml.device(\"default.qubit.torch\", wires=num_qubits)\n",
    "\n",
    "@qml.qnode(dev, interface=\"torch\", diff_method=\"backprop\", cachesize=1000000)\n",
    "def circuit(inputs, weights):\n",
    "    for wire in range(num_qubits): qml.Hadamard(wires=wire)\n",
    "    qml.StronglyEntanglingLayers(weights=weights, wires=list(range(num_qubits)))\n",
    "    return qml.probs()"
   ]
  },
  {
   "cell_type": "markdown",
   "id": "58992bab-2041-460d-a81f-7230b4a37905",
   "metadata": {},
   "source": [
    "If we want to sample from the generator we define a circuit with the respective measurements"
   ]
  },
  {
   "cell_type": "code",
   "execution_count": 18,
   "id": "112bd16e-60d3-46d2-adb3-8056d5f50ae3",
   "metadata": {},
   "outputs": [],
   "source": [
    "dev_sample = qml.device(\"default.qubit\", wires=num_qubits, shots=nbatch)\n",
    "\n",
    "@qml.qnode(dev_sample, interface=\"torch\")\n",
    "def circuit_sample(inputs, weights):\n",
    "    for wire in range(num_qubits): qml.Hadamard(wires=wire)\n",
    "    qml.StronglyEntanglingLayers(weights=weights, wires=list(range(num_qubits)))\n",
    "    return qml.sample()"
   ]
  },
  {
   "cell_type": "markdown",
   "id": "7089dc06-52c0-423d-9b12-aad86e602d93",
   "metadata": {},
   "source": [
    "## Hybrid model building"
   ]
  },
  {
   "cell_type": "markdown",
   "id": "b59ec23c-c79f-4ce4-9d91-69060a2997bd",
   "metadata": {},
   "source": [
    "The weight shapes are determined from the number of layers and number of qubits. This format is expected by the strongly entangling layer."
   ]
  },
  {
   "cell_type": "code",
   "execution_count": 19,
   "id": "511e3252-b022-4cc8-b2bf-7278878c1a12",
   "metadata": {},
   "outputs": [],
   "source": [
    "weight_shapes = {\"weights\": (n_layers, num_qubits,3)}\n",
    "qlayer = qml.qnn.TorchLayer(circuit, weight_shapes)"
   ]
  },
  {
   "cell_type": "markdown",
   "id": "8d4fc82b-90a5-48c3-b00d-c20a333e8175",
   "metadata": {},
   "source": [
    "Here we define the discriminator as simple feed forward neural network."
   ]
  },
  {
   "cell_type": "code",
   "execution_count": 20,
   "id": "d7816b35-0f7d-4312-b68b-4dd943e2f7f3",
   "metadata": {},
   "outputs": [],
   "source": [
    "from torch import nn\n",
    "\n",
    "class Discriminator(nn.Module):\n",
    "    def __init__(self, input_size):\n",
    "        super(Discriminator, self).__init__()\n",
    "\n",
    "        self.linear_input = nn.Linear(input_size, 50)\n",
    "        self.leaky_relu = nn.LeakyReLU(0.2)\n",
    "        self.linear1 = nn.Linear(50, 20)\n",
    "        self.linear2 = nn.Linear(20, 1)\n",
    "        self.sigmoid = nn.Sigmoid()\n",
    "        self.flatten = nn.Flatten()\n",
    "\n",
    "    def forward(self, inputs):\n",
    "        x = self.flatten(inputs)\n",
    "        x = self.linear_input(x)\n",
    "        x = self.leaky_relu(x)\n",
    "        x = self.linear1(x)\n",
    "        x = self.leaky_relu(x)\n",
    "        x = self.linear2(x)\n",
    "        x = self.sigmoid(x)\n",
    "        return x"
   ]
  },
  {
   "cell_type": "code",
   "execution_count": 21,
   "id": "ac8741cf-d61a-4b59-b0cd-701822839634",
   "metadata": {},
   "outputs": [],
   "source": [
    "generator = qlayer\n",
    "discriminator = Discriminator(N**2)"
   ]
  },
  {
   "cell_type": "markdown",
   "id": "37c92289-0d20-4ddd-adec-632d94cf6d8b",
   "metadata": {
    "tags": []
   },
   "source": [
    "# Training"
   ]
  },
  {
   "cell_type": "markdown",
   "id": "aa29feea-cfca-4e41-8ddf-6f61ad4c2b12",
   "metadata": {},
   "source": [
    "For evaluation we want to compute the KL divergence. To do so, we need to obtain the probabilities for every basis state occuring in the dataset.\n",
    "\n",
    "I do that by casting the input images to integers and then determin how often each of these integers occurs in the dataset."
   ]
  },
  {
   "cell_type": "code",
   "execution_count": 22,
   "id": "9052701f-597f-4562-a683-ab6f2a8a0cbf",
   "metadata": {},
   "outputs": [],
   "source": [
    "prob_distr = data.reshape(-1,N**2)\n",
    "prob_distr_nums = convert_dim_to_integer(torch.tensor(prob_distr),1)\n",
    "vals, counts = np.unique(prob_distr_nums, return_counts=True)\n",
    "counts_full = np.zeros(num_discrete_values)\n",
    "counts_full[vals.astype(int)] = counts\n",
    "counts_full_norm = counts_full / prob_distr_nums.shape[0]"
   ]
  },
  {
   "cell_type": "markdown",
   "id": "146133ce-2e79-4215-9062-7b8d593fd9f2",
   "metadata": {},
   "source": [
    "Now we can come to the training.\n",
    "We specify the training parameters ad"
   ]
  },
  {
   "cell_type": "code",
   "execution_count": 23,
   "id": "b36a775e-b67d-498a-a1a0-9d5d84523b41",
   "metadata": {},
   "outputs": [],
   "source": [
    "from torch.optim import Adam\n",
    "\n",
    "lr = 0.001  # learning rate\n",
    "b1 = 0.6  # first momentum \n",
    "b2 = 0.999  # second momentum \n",
    "n_epochs = 500 # number epochs\n",
    "decayRate = 0.9992 # decay rate for lr decay\n",
    "weight_decay = 0 # adam weight decay\n",
    "\n",
    "generator_optimizer = Adam(generator.parameters(), lr=lr, betas=(b1, b2), weight_decay=weight_decay, amsgrad=True)\n",
    "discriminator_optimizer = Adam(\n",
    "    discriminator.parameters(), lr=lr, betas=(b1, b2), weight_decay=weight_decay, amsgrad=True\n",
    ")\n",
    "\n",
    "\n",
    "gen_lr_scheduler = torch.optim.lr_scheduler.ExponentialLR(optimizer=generator_optimizer, gamma=decayRate)\n",
    "disc_lr_scheduler = torch.optim.lr_scheduler.ExponentialLR(optimizer=discriminator_optimizer, gamma=decayRate)"
   ]
  },
  {
   "cell_type": "code",
   "execution_count": 24,
   "id": "bab6ac4a-4649-4dbd-b0c1-c64dfe0839e9",
   "metadata": {},
   "outputs": [],
   "source": [
    "def loss_true(inputs, w):\n",
    "    loss = w * torch.log(inputs + reg)\n",
    "    return -torch.sum(loss)\n",
    "\n",
    "def loss_false(inputs, w):\n",
    "    loss = w * torch.log(1 - inputs)\n",
    "    return -torch.sum(loss)"
   ]
  },
  {
   "cell_type": "raw",
   "id": "4f52c5e7-bd3a-4dab-82dd-c8eebce52d0f",
   "metadata": {},
   "source": [
    "def adversarial_loss(inputs, target, w):\n",
    "    bce_loss = target * torch.log(inputs) + (1 - target) * torch.log(1 - inputs)\n",
    "    weighted_loss = w * bce_loss\n",
    "    total_loss = -torch.sum(weighted_loss)\n",
    "    return total_loss"
   ]
  },
  {
   "cell_type": "code",
   "execution_count": 25,
   "id": "44271d15-e370-44d0-9796-a496a4c5ab1d",
   "metadata": {
    "tags": []
   },
   "outputs": [
    {
     "data": {
      "image/png": "[encoded data removed]",
      "text/plain": [
       "<Figure size 1296x864 with 8 Axes>"
      ]
     },
     "metadata": {
      "needs_background": "light"
     },
     "output_type": "display_data"
    },
    {
     "name": "stdout",
     "output_type": "stream",
     "text": [
      "Fit in 9001.10 sec\n"
     ]
    }
   ],
   "source": [
    "import time\n",
    "from scipy.stats import multivariate_normal, entropy\n",
    "\n",
    "#torch.nn.init.uniform_(list(generator.parameters())[0], a=-np.pi, b=np.pi)\n",
    "torch.nn.init.uniform_(list(generator.parameters())[0], a=-0.1, b=0.1)\n",
    "\n",
    "\n",
    "\n",
    "data = torch.tensor(data, requires_grad=False)\n",
    "\n",
    "generator_loss_values = []\n",
    "discriminator_loss_values = []\n",
    "entropies = []\n",
    "mses = []\n",
    "\n",
    "start = time.time()\n",
    "for epoch in range(n_epochs):\n",
    "\n",
    "    #samples = circuit_sample(1, list(generator.parameters())[0].detach())\n",
    "    #samples = torch.tensor(np.random.randint(0,16, size=(nbatch,)), dtype=torch.float).reshape(nbatch,1)\n",
    "    samples = torch.tensor(np.random.randint(0,M,size=(nbatch,num_qubits)), dtype=torch.float)\n",
    "    samples_idx = convert_dim_to_integer(samples,1)\n",
    "    samples_img = batch_basis_array_to_img(samples)\n",
    "    \n",
    "    for j,Xbatch in enumerate(iterate_minibatches(data, batch_size=nbatch)):\n",
    " \n",
    "        # discriminator values\n",
    "        disc_value = discriminator(samples_img.float())\n",
    "    \n",
    "        # gen dist\n",
    "        gen_dist = generator(torch.tensor([]))\n",
    "        \n",
    "        # Train generator\n",
    "        generator_optimizer.zero_grad()\n",
    "        #generator_loss = adversarial_loss(disc_value.detach().reshape(-1), valid, gen_dist[samples_idx.long().reshape(-1)])\n",
    "        generator_loss = loss_true(disc_value.detach().reshape(-1), gen_dist[samples_idx.long().reshape(-1)])\n",
    "        \n",
    "        # store for plotting\n",
    "        generator_loss_values.append(generator_loss.detach().item())\n",
    "\n",
    "        generator_loss.backward(retain_graph=True)\n",
    "        generator_optimizer.step()\n",
    "\n",
    "        # Train Discriminator\n",
    "        discriminator_optimizer.zero_grad()\n",
    "     \n",
    "        real_disc_vals = discriminator(Xbatch.float())\n",
    "    \n",
    "        #real_loss = adversarial_loss(real_disc_vals.reshape(-1), valid, torch.tensor(np.ones(nbatch)*1/nbatch, requires_grad=False))\n",
    "        real_loss = loss_true(real_disc_vals.reshape(-1), torch.tensor(np.ones(nbatch)*1/nbatch, requires_grad=False))\n",
    "        #fake_loss = adversarial_loss(disc_value.reshape(-1), fake, gen_dist.detach()[samples_idx.long().reshape(-1)])\n",
    "        fake_loss = loss_false(disc_value.reshape(-1), gen_dist.detach()[samples_idx.long().reshape(-1)])\n",
    "        discriminator_loss = (real_loss + fake_loss) / 2    \n",
    "        \n",
    "        # Store for plotting\n",
    "        discriminator_loss_values.append(discriminator_loss.detach().item())\n",
    "    \n",
    "        discriminator_loss.backward()\n",
    "        discriminator_optimizer.step()\n",
    "        \n",
    "        mean_gen_image = torch.sum(gen_dist.detach().squeeze().reshape(-1,1,1)*batch_basis_array_to_img(torch.tensor([int_to_bin_list(x,num_qubits) for x in range(2**num_qubits)])),0)\n",
    "        \n",
    "        \n",
    "        entropy_val = entropy(gen_dist.detach()+0.000001, counts_full_norm+0.000001)\n",
    "        entropies.append(entropy_val)\n",
    "        \n",
    "        mse_val = np.mean((mean_gen_image.numpy()-mean_data)**2)\n",
    "        mses.append(mse_val)\n",
    "        \n",
    "        gen_lr_scheduler.step()\n",
    "        disc_lr_scheduler.step()\n",
    "\n",
    "        plot_training_progress(epoch, (samples,),mean_gen_image)\n",
    "        \n",
    "elapsed = time.time() - start\n",
    "print(f\"Fit in {elapsed:0.2f} sec\")"
   ]
  },
  {
   "cell_type": "code",
   "execution_count": 26,
   "id": "3aa2572c-9d67-4ed0-bf29-094e18e9cd64",
   "metadata": {},
   "outputs": [
    {
     "data": {
      "image/png": "[encoded data removed]",
      "text/plain": [
       "<Figure size 1296x864 with 8 Axes>"
      ]
     },
     "metadata": {
      "needs_background": "light"
     },
     "output_type": "display_data"
    }
   ],
   "source": [
    "plot_training_progress(epoch, (samples,),mean_gen_image)"
   ]
  },
  {
   "cell_type": "code",
   "execution_count": 27,
   "id": "31765b6b-d75a-4082-9458-eaec6d26d25e",
   "metadata": {},
   "outputs": [
    {
     "data": {
      "text/plain": [
       "tensor(0.8306)"
      ]
     },
     "execution_count": 27,
     "metadata": {},
     "output_type": "execute_result"
    }
   ],
   "source": [
    "torch.sum(mean_gen_image)"
   ]
  },
  {
   "cell_type": "code",
   "execution_count": 28,
   "id": "3c94c27b-30b6-4e7c-be58-3f5b46e7e897",
   "metadata": {},
   "outputs": [
    {
     "data": {
      "text/plain": [
       "tensor([[0., 0., 0.],\n",
       "        [0., 1., 0.],\n",
       "        [0., 0., 0.]])"
      ]
     },
     "execution_count": 28,
     "metadata": {},
     "output_type": "execute_result"
    }
   ],
   "source": [
    "basis_array_to_img(circuit_sample(1, list(generator.parameters())[0].detach())[0])"
   ]
  },
  {
   "cell_type": "code",
   "execution_count": 29,
   "id": "1c4e9797-8f0f-4f80-9582-2b40df75db6f",
   "metadata": {},
   "outputs": [
    {
     "data": {
      "text/plain": [
       "torch.Size([512, 3, 3])"
      ]
     },
     "execution_count": 29,
     "metadata": {},
     "output_type": "execute_result"
    }
   ],
   "source": [
    "batch_basis_array_to_img(torch.tensor([int_to_bin_list(x,num_qubits) for x in range(2**num_qubits)])).shape"
   ]
  },
  {
   "cell_type": "code",
   "execution_count": 30,
   "id": "87b93b7f-392c-40bd-9ea6-5ec664686ee1",
   "metadata": {},
   "outputs": [
    {
     "data": {
      "text/plain": [
       "tensor([5.0404e-01, 4.0984e-03, 7.8192e-04, 2.2109e-04, 1.1788e-03, 4.4624e-05,\n",
       "        8.7489e-04, 1.1429e-03, 2.5373e-04, 5.2495e-05, 9.6460e-04, 1.1636e-06,\n",
       "        1.3137e-03, 1.9233e-04, 3.9190e-04, 1.6686e-04, 3.5084e-01, 2.7869e-03,\n",
       "        3.3127e-04, 1.6120e-04, 2.5450e-03, 1.6627e-05, 6.4173e-04, 1.5816e-04,\n",
       "        6.6953e-03, 1.7835e-04, 8.3955e-05, 9.2453e-06, 6.1228e-04, 3.2750e-06,\n",
       "        2.7570e-04, 1.2862e-05, 1.6155e-03, 3.4226e-04, 2.9544e-05, 4.6366e-04,\n",
       "        2.6211e-05, 6.3156e-05, 6.1009e-05, 5.4649e-04, 1.2867e-03, 5.8188e-05,\n",
       "        1.9140e-04, 1.5141e-04, 3.4941e-05, 4.1442e-04, 1.0439e-05, 1.4219e-04,\n",
       "        1.0868e-02, 4.0396e-05, 7.9219e-04, 2.6052e-04, 4.6345e-05, 1.1618e-04,\n",
       "        1.3480e-04, 2.7791e-04, 7.3994e-04, 9.5953e-07, 5.8753e-06, 1.2523e-04,\n",
       "        1.3677e-04, 3.7458e-05, 3.1373e-05, 2.9750e-05, 2.7080e-04, 5.5257e-04,\n",
       "        5.5952e-04, 1.5889e-05, 1.4872e-03, 2.7554e-05, 1.1697e-04, 6.4727e-05,\n",
       "        2.9082e-04, 7.5607e-05, 2.1439e-04, 1.0488e-04, 1.8989e-04, 1.3851e-04,\n",
       "        2.3842e-04, 6.0860e-05, 2.6431e-04, 8.7832e-05, 3.3625e-04, 8.9257e-05,\n",
       "        5.4678e-04, 6.9362e-04, 3.4462e-05, 1.0150e-04, 4.2439e-04, 1.7183e-04,\n",
       "        3.5440e-04, 5.3923e-05, 2.6989e-04, 3.2790e-05, 4.3452e-05, 1.2485e-04,\n",
       "        8.3905e-05, 1.6825e-04, 5.8610e-05, 1.2553e-04, 1.3159e-04, 6.5224e-06,\n",
       "        9.6360e-05, 1.4970e-04, 2.6788e-04, 4.4822e-05, 1.2647e-05, 1.0611e-04,\n",
       "        2.0585e-05, 4.3520e-05, 1.2261e-05, 1.7762e-05, 2.1532e-03, 1.6977e-04,\n",
       "        2.8390e-04, 4.3980e-04, 2.3016e-04, 4.9264e-04, 3.6061e-04, 3.9247e-04,\n",
       "        2.2249e-04, 5.4080e-04, 7.2156e-05, 1.4276e-04, 1.7243e-04, 1.9043e-04,\n",
       "        1.7534e-05, 6.2180e-06, 6.1929e-04, 5.4015e-05, 4.5247e-04, 3.0197e-04,\n",
       "        8.4467e-04, 1.2297e-04, 3.2331e-04, 5.6000e-05, 5.4263e-05, 1.4804e-04,\n",
       "        7.8701e-04, 1.0512e-05, 7.9316e-04, 3.2280e-04, 2.9478e-04, 5.1213e-05,\n",
       "        1.2121e-03, 4.8472e-04, 1.0026e-03, 3.7488e-05, 1.3499e-04, 1.6610e-04,\n",
       "        4.4591e-04, 2.8420e-04, 9.7105e-04, 2.0142e-04, 7.5835e-05, 1.6032e-05,\n",
       "        4.3806e-04, 3.4471e-04, 4.8320e-04, 3.3424e-04, 3.5454e-03, 2.7684e-04,\n",
       "        9.9595e-05, 2.8181e-04, 1.5425e-04, 4.2156e-04, 1.9778e-04, 5.4911e-05,\n",
       "        1.6705e-04, 6.3929e-05, 4.1311e-04, 2.1758e-05, 2.8939e-05, 1.1858e-04,\n",
       "        1.4279e-04, 8.4842e-06, 1.0108e-03, 1.0815e-04, 9.9780e-06, 9.1597e-05,\n",
       "        1.5441e-04, 2.1136e-04, 1.6707e-04, 5.3439e-05, 6.2104e-04, 1.5665e-04,\n",
       "        3.2319e-04, 1.8998e-04, 1.9352e-05, 1.5905e-06, 5.4725e-05, 4.9118e-05,\n",
       "        4.1798e-04, 1.7902e-04, 4.9490e-04, 4.1397e-05, 1.2631e-03, 2.8309e-04,\n",
       "        9.4016e-04, 1.9736e-04, 4.9825e-05, 4.6363e-04, 3.7329e-05, 1.5454e-04,\n",
       "        3.5403e-05, 4.0074e-04, 7.1602e-05, 8.5070e-06, 3.6210e-05, 1.5387e-03,\n",
       "        5.0482e-05, 2.8933e-04, 4.2662e-04, 7.0445e-04, 9.6642e-04, 6.1677e-05,\n",
       "        9.8271e-05, 2.9521e-04, 5.7132e-05, 1.6142e-04, 1.1016e-05, 2.1451e-05,\n",
       "        2.3804e-04, 1.8815e-04, 2.1196e-04, 5.5002e-05, 6.1114e-04, 4.3964e-05,\n",
       "        3.1163e-05, 2.9128e-05, 6.0252e-06, 4.3226e-06, 2.9567e-05, 2.1297e-04,\n",
       "        4.6625e-05, 1.9686e-06, 3.0518e-04, 2.5631e-04, 1.4009e-04, 2.5358e-05,\n",
       "        3.3446e-04, 7.4148e-04, 3.2633e-04, 2.5221e-05, 1.4398e-04, 1.7489e-04,\n",
       "        1.9252e-04, 2.6196e-04, 1.3154e-04, 2.7036e-06, 1.2614e-05, 1.1326e-04,\n",
       "        5.8803e-05, 6.8465e-05, 3.9730e-05, 7.4101e-06, 1.7557e-03, 6.4016e-04,\n",
       "        5.9217e-04, 2.9820e-04, 6.4108e-04, 9.1055e-05, 1.1795e-04, 4.0960e-04,\n",
       "        9.2561e-04, 4.2139e-05, 1.2706e-04, 1.3975e-05, 1.0876e-03, 1.4579e-04,\n",
       "        4.2607e-05, 3.4522e-04, 3.2002e-03, 4.3058e-04, 1.5621e-04, 5.2832e-04,\n",
       "        2.5832e-04, 3.1822e-05, 1.5249e-04, 1.7019e-04, 1.8811e-04, 3.7912e-04,\n",
       "        1.3364e-04, 1.1115e-04, 3.8667e-04, 1.2564e-04, 7.1461e-04, 4.0021e-05,\n",
       "        2.6745e-04, 4.7465e-04, 2.7820e-07, 4.4206e-06, 1.4434e-05, 3.4323e-04,\n",
       "        1.6150e-05, 1.0658e-04, 3.2019e-04, 2.0272e-04, 8.3268e-06, 3.3601e-06,\n",
       "        2.5566e-04, 3.7170e-07, 7.0178e-05, 1.0571e-05, 9.2131e-05, 5.6423e-05,\n",
       "        2.5000e-04, 3.9568e-04, 3.3165e-05, 3.2821e-05, 2.0229e-04, 2.2809e-04,\n",
       "        9.6169e-05, 6.7034e-05, 2.6365e-05, 1.6293e-04, 1.2001e-05, 1.7041e-04,\n",
       "        4.0595e-05, 9.8567e-06, 1.0425e-03, 1.2608e-04, 9.1414e-04, 1.5214e-04,\n",
       "        1.4646e-04, 5.6131e-05, 2.0218e-05, 1.3242e-04, 4.5098e-05, 7.0267e-05,\n",
       "        3.0493e-05, 5.8253e-05, 1.0028e-04, 5.2791e-05, 1.3202e-05, 1.5255e-04,\n",
       "        2.1519e-03, 1.1477e-04, 4.6152e-05, 1.1197e-04, 3.1658e-05, 1.6267e-04,\n",
       "        7.0887e-05, 1.5844e-04, 9.4844e-05, 1.1490e-04, 5.4936e-04, 1.1005e-05,\n",
       "        1.9715e-04, 5.6569e-05, 1.5236e-04, 8.8227e-06, 2.6960e-05, 5.8727e-04,\n",
       "        3.8561e-06, 2.0935e-05, 1.0526e-04, 1.1156e-04, 1.0108e-04, 2.1076e-04,\n",
       "        2.1821e-04, 2.5597e-04, 3.4951e-06, 4.3619e-05, 2.6390e-04, 1.8418e-04,\n",
       "        1.7622e-05, 8.1151e-05, 5.3583e-04, 4.0564e-04, 8.8484e-05, 1.2786e-04,\n",
       "        1.3105e-04, 4.0759e-05, 2.3353e-06, 4.4773e-05, 2.3702e-04, 2.6730e-04,\n",
       "        1.2201e-05, 4.6780e-05, 6.2663e-05, 4.3357e-05, 5.6134e-05, 8.2602e-05,\n",
       "        4.2016e-04, 1.6178e-04, 2.0051e-04, 4.4866e-04, 8.0327e-05, 4.8960e-05,\n",
       "        2.7462e-04, 7.2398e-05, 9.7489e-05, 2.3380e-05, 8.4708e-05, 2.7418e-04,\n",
       "        3.4496e-04, 1.3685e-04, 2.3654e-04, 2.5517e-04, 6.3231e-05, 1.7706e-04,\n",
       "        1.2117e-05, 3.6500e-04, 1.7183e-05, 1.2522e-04, 2.5253e-04, 5.4442e-05,\n",
       "        1.2156e-03, 5.7319e-05, 2.3152e-04, 1.5882e-05, 7.1942e-05, 6.3978e-05,\n",
       "        5.5877e-06, 2.3111e-05, 4.7329e-05, 7.9351e-04, 4.8873e-04, 1.3423e-05,\n",
       "        2.2206e-05, 2.8994e-04, 1.0842e-04, 9.1288e-05, 1.7535e-04, 1.8454e-05,\n",
       "        2.7427e-05, 2.8263e-05, 5.9501e-05, 4.7465e-05, 3.8571e-05, 1.4340e-05,\n",
       "        4.1682e-04, 1.7549e-04, 1.4842e-04, 1.9440e-04, 1.6594e-05, 4.8027e-05,\n",
       "        1.5484e-04, 3.7618e-05, 2.9273e-04, 1.9918e-04, 1.3125e-04, 1.6530e-05,\n",
       "        1.2113e-04, 9.4406e-05, 1.7211e-05, 7.7695e-06, 2.8697e-04, 4.3799e-05,\n",
       "        3.0099e-04, 7.7274e-05, 1.6502e-05, 2.5671e-04, 1.3382e-04, 3.7658e-04,\n",
       "        2.7618e-04, 1.0656e-04, 8.5169e-04, 4.8599e-05, 2.2379e-04, 8.8592e-05,\n",
       "        2.8347e-04, 2.3582e-04, 8.7293e-05, 5.1967e-05, 6.9932e-04, 2.7028e-04,\n",
       "        5.3132e-05, 3.4257e-05, 7.9799e-05, 6.3344e-05, 7.9749e-05, 1.4798e-04,\n",
       "        1.4919e-06, 1.3713e-04, 1.3233e-04, 1.9729e-04, 4.1981e-05, 5.4893e-06,\n",
       "        2.0233e-05, 1.8386e-04, 1.6094e-04, 1.7056e-06, 1.7515e-05, 2.0422e-07,\n",
       "        9.1901e-05, 3.8905e-05, 1.2676e-04, 4.3740e-05, 9.9516e-05, 2.1960e-05,\n",
       "        1.8559e-04, 1.2837e-04, 1.2443e-05, 1.2131e-04, 5.5674e-04, 4.4577e-05,\n",
       "        1.5104e-05, 2.5376e-04, 1.2615e-04, 1.0712e-06, 4.4967e-05, 8.5244e-05,\n",
       "        2.6858e-05, 1.4770e-04, 5.4496e-05, 4.8710e-05, 1.0517e-04, 3.1767e-05,\n",
       "        5.3477e-05, 4.0512e-05], dtype=torch.float64)"
      ]
     },
     "execution_count": 30,
     "metadata": {},
     "output_type": "execute_result"
    }
   ],
   "source": [
    "circuit(1, list(generator.parameters())[0].detach())"
   ]
  },
  {
   "cell_type": "code",
   "execution_count": 31,
   "id": "16ca259c-c8a8-400c-9963-fb596d94e253",
   "metadata": {},
   "outputs": [
    {
     "data": {
      "text/plain": [
       "tensor([4.01044794e-01, 5.94451783e-03, 7.44565870e-03, 6.00456347e-05,\n",
       "        5.28401585e-03, 4.00304231e-05, 4.00304231e-05, 0.00000000e+00,\n",
       "        1.11885033e-02, 8.00608462e-05, 2.20167327e-04, 0.00000000e+00,\n",
       "        4.00304231e-05, 0.00000000e+00, 0.00000000e+00, 0.00000000e+00,\n",
       "        5.24818862e-01, 1.10083664e-03, 2.08158200e-03, 0.00000000e+00,\n",
       "        1.04079100e-03, 2.00152116e-05, 2.00152116e-05, 0.00000000e+00,\n",
       "        2.60197750e-03, 2.00152116e-05, 2.00152116e-05, 0.00000000e+00,\n",
       "        0.00000000e+00, 0.00000000e+00, 0.00000000e+00, 0.00000000e+00,\n",
       "        1.01477123e-02, 2.00152116e-05, 1.00076058e-04, 0.00000000e+00,\n",
       "        6.00456347e-05, 0.00000000e+00, 0.00000000e+00, 0.00000000e+00,\n",
       "        1.00076058e-04, 0.00000000e+00, 0.00000000e+00, 0.00000000e+00,\n",
       "        0.00000000e+00, 0.00000000e+00, 0.00000000e+00, 0.00000000e+00,\n",
       "        2.34177975e-03, 0.00000000e+00, 0.00000000e+00, 0.00000000e+00,\n",
       "        0.00000000e+00, 0.00000000e+00, 0.00000000e+00, 0.00000000e+00,\n",
       "        0.00000000e+00, 0.00000000e+00, 0.00000000e+00, 0.00000000e+00,\n",
       "        0.00000000e+00, 0.00000000e+00, 0.00000000e+00, 0.00000000e+00,\n",
       "        5.86445699e-03, 4.00304231e-05, 2.00152116e-05, 0.00000000e+00,\n",
       "        2.00152116e-05, 0.00000000e+00, 0.00000000e+00, 0.00000000e+00,\n",
       "        8.00608462e-05, 0.00000000e+00, 0.00000000e+00, 0.00000000e+00,\n",
       "        0.00000000e+00, 0.00000000e+00, 0.00000000e+00, 0.00000000e+00,\n",
       "        8.80669309e-04, 0.00000000e+00, 0.00000000e+00, 0.00000000e+00,\n",
       "        0.00000000e+00, 0.00000000e+00, 0.00000000e+00, 0.00000000e+00,\n",
       "        0.00000000e+00, 0.00000000e+00, 0.00000000e+00, 0.00000000e+00,\n",
       "        0.00000000e+00, 0.00000000e+00, 0.00000000e+00, 0.00000000e+00,\n",
       "        2.00152116e-05, 0.00000000e+00, 0.00000000e+00, 0.00000000e+00,\n",
       "        0.00000000e+00, 0.00000000e+00, 0.00000000e+00, 0.00000000e+00,\n",
       "        0.00000000e+00, 0.00000000e+00, 0.00000000e+00, 0.00000000e+00,\n",
       "        0.00000000e+00, 0.00000000e+00, 0.00000000e+00, 0.00000000e+00,\n",
       "        0.00000000e+00, 0.00000000e+00, 0.00000000e+00, 0.00000000e+00,\n",
       "        0.00000000e+00, 0.00000000e+00, 0.00000000e+00, 0.00000000e+00,\n",
       "        0.00000000e+00, 0.00000000e+00, 0.00000000e+00, 0.00000000e+00,\n",
       "        0.00000000e+00, 0.00000000e+00, 0.00000000e+00, 0.00000000e+00,\n",
       "        8.24626716e-03, 0.00000000e+00, 4.00304231e-05, 0.00000000e+00,\n",
       "        0.00000000e+00, 0.00000000e+00, 0.00000000e+00, 0.00000000e+00,\n",
       "        1.00076058e-04, 0.00000000e+00, 0.00000000e+00, 0.00000000e+00,\n",
       "        0.00000000e+00, 0.00000000e+00, 0.00000000e+00, 0.00000000e+00,\n",
       "        1.82138425e-03, 2.00152116e-05, 0.00000000e+00, 0.00000000e+00,\n",
       "        0.00000000e+00, 0.00000000e+00, 0.00000000e+00, 0.00000000e+00,\n",
       "        2.00152116e-05, 0.00000000e+00, 0.00000000e+00, 0.00000000e+00,\n",
       "        0.00000000e+00, 0.00000000e+00, 0.00000000e+00, 0.00000000e+00,\n",
       "        1.00076058e-04, 0.00000000e+00, 0.00000000e+00, 0.00000000e+00,\n",
       "        0.00000000e+00, 0.00000000e+00, 0.00000000e+00, 0.00000000e+00,\n",
       "        0.00000000e+00, 0.00000000e+00, 0.00000000e+00, 0.00000000e+00,\n",
       "        0.00000000e+00, 0.00000000e+00, 0.00000000e+00, 0.00000000e+00,\n",
       "        0.00000000e+00, 0.00000000e+00, 0.00000000e+00, 0.00000000e+00,\n",
       "        0.00000000e+00, 0.00000000e+00, 0.00000000e+00, 0.00000000e+00,\n",
       "        0.00000000e+00, 0.00000000e+00, 0.00000000e+00, 0.00000000e+00,\n",
       "        0.00000000e+00, 0.00000000e+00, 0.00000000e+00, 0.00000000e+00,\n",
       "        6.00456347e-05, 0.00000000e+00, 0.00000000e+00, 0.00000000e+00,\n",
       "        0.00000000e+00, 0.00000000e+00, 0.00000000e+00, 0.00000000e+00,\n",
       "        0.00000000e+00, 0.00000000e+00, 0.00000000e+00, 0.00000000e+00,\n",
       "        0.00000000e+00, 0.00000000e+00, 0.00000000e+00, 0.00000000e+00,\n",
       "        2.00152116e-05, 0.00000000e+00, 0.00000000e+00, 0.00000000e+00,\n",
       "        0.00000000e+00, 0.00000000e+00, 0.00000000e+00, 0.00000000e+00,\n",
       "        0.00000000e+00, 0.00000000e+00, 0.00000000e+00, 0.00000000e+00,\n",
       "        0.00000000e+00, 0.00000000e+00, 0.00000000e+00, 0.00000000e+00,\n",
       "        0.00000000e+00, 0.00000000e+00, 0.00000000e+00, 0.00000000e+00,\n",
       "        0.00000000e+00, 0.00000000e+00, 0.00000000e+00, 0.00000000e+00,\n",
       "        0.00000000e+00, 0.00000000e+00, 0.00000000e+00, 0.00000000e+00,\n",
       "        0.00000000e+00, 0.00000000e+00, 0.00000000e+00, 0.00000000e+00,\n",
       "        0.00000000e+00, 0.00000000e+00, 0.00000000e+00, 0.00000000e+00,\n",
       "        0.00000000e+00, 0.00000000e+00, 0.00000000e+00, 0.00000000e+00,\n",
       "        0.00000000e+00, 0.00000000e+00, 0.00000000e+00, 0.00000000e+00,\n",
       "        0.00000000e+00, 0.00000000e+00, 0.00000000e+00, 0.00000000e+00,\n",
       "        5.48416797e-03, 4.00304231e-05, 2.00152116e-05, 0.00000000e+00,\n",
       "        0.00000000e+00, 0.00000000e+00, 0.00000000e+00, 0.00000000e+00,\n",
       "        1.00076058e-04, 0.00000000e+00, 0.00000000e+00, 0.00000000e+00,\n",
       "        0.00000000e+00, 0.00000000e+00, 0.00000000e+00, 0.00000000e+00,\n",
       "        1.00076058e-03, 0.00000000e+00, 0.00000000e+00, 0.00000000e+00,\n",
       "        0.00000000e+00, 0.00000000e+00, 0.00000000e+00, 0.00000000e+00,\n",
       "        0.00000000e+00, 0.00000000e+00, 0.00000000e+00, 0.00000000e+00,\n",
       "        0.00000000e+00, 0.00000000e+00, 0.00000000e+00, 0.00000000e+00,\n",
       "        6.00456347e-05, 0.00000000e+00, 0.00000000e+00, 0.00000000e+00,\n",
       "        0.00000000e+00, 0.00000000e+00, 0.00000000e+00, 0.00000000e+00,\n",
       "        0.00000000e+00, 0.00000000e+00, 0.00000000e+00, 0.00000000e+00,\n",
       "        0.00000000e+00, 0.00000000e+00, 0.00000000e+00, 0.00000000e+00,\n",
       "        2.00152116e-05, 0.00000000e+00, 0.00000000e+00, 0.00000000e+00,\n",
       "        0.00000000e+00, 0.00000000e+00, 0.00000000e+00, 0.00000000e+00,\n",
       "        0.00000000e+00, 0.00000000e+00, 0.00000000e+00, 0.00000000e+00,\n",
       "        0.00000000e+00, 0.00000000e+00, 0.00000000e+00, 0.00000000e+00,\n",
       "        2.00152116e-05, 0.00000000e+00, 0.00000000e+00, 0.00000000e+00,\n",
       "        0.00000000e+00, 0.00000000e+00, 0.00000000e+00, 0.00000000e+00,\n",
       "        0.00000000e+00, 0.00000000e+00, 0.00000000e+00, 0.00000000e+00,\n",
       "        0.00000000e+00, 0.00000000e+00, 0.00000000e+00, 0.00000000e+00,\n",
       "        0.00000000e+00, 0.00000000e+00, 0.00000000e+00, 0.00000000e+00,\n",
       "        0.00000000e+00, 0.00000000e+00, 0.00000000e+00, 0.00000000e+00,\n",
       "        0.00000000e+00, 0.00000000e+00, 0.00000000e+00, 0.00000000e+00,\n",
       "        0.00000000e+00, 0.00000000e+00, 0.00000000e+00, 0.00000000e+00,\n",
       "        0.00000000e+00, 0.00000000e+00, 0.00000000e+00, 0.00000000e+00,\n",
       "        0.00000000e+00, 0.00000000e+00, 0.00000000e+00, 0.00000000e+00,\n",
       "        0.00000000e+00, 0.00000000e+00, 0.00000000e+00, 0.00000000e+00,\n",
       "        0.00000000e+00, 0.00000000e+00, 0.00000000e+00, 0.00000000e+00,\n",
       "        0.00000000e+00, 0.00000000e+00, 0.00000000e+00, 0.00000000e+00,\n",
       "        0.00000000e+00, 0.00000000e+00, 0.00000000e+00, 0.00000000e+00,\n",
       "        0.00000000e+00, 0.00000000e+00, 0.00000000e+00, 0.00000000e+00,\n",
       "        0.00000000e+00, 0.00000000e+00, 0.00000000e+00, 0.00000000e+00,\n",
       "        2.00152116e-05, 0.00000000e+00, 0.00000000e+00, 0.00000000e+00,\n",
       "        0.00000000e+00, 0.00000000e+00, 0.00000000e+00, 0.00000000e+00,\n",
       "        0.00000000e+00, 0.00000000e+00, 0.00000000e+00, 0.00000000e+00,\n",
       "        0.00000000e+00, 0.00000000e+00, 0.00000000e+00, 0.00000000e+00,\n",
       "        0.00000000e+00, 0.00000000e+00, 0.00000000e+00, 0.00000000e+00,\n",
       "        0.00000000e+00, 0.00000000e+00, 0.00000000e+00, 0.00000000e+00,\n",
       "        0.00000000e+00, 0.00000000e+00, 0.00000000e+00, 0.00000000e+00,\n",
       "        0.00000000e+00, 0.00000000e+00, 0.00000000e+00, 0.00000000e+00,\n",
       "        0.00000000e+00, 0.00000000e+00, 0.00000000e+00, 0.00000000e+00,\n",
       "        0.00000000e+00, 0.00000000e+00, 0.00000000e+00, 0.00000000e+00,\n",
       "        0.00000000e+00, 0.00000000e+00, 0.00000000e+00, 0.00000000e+00,\n",
       "        0.00000000e+00, 0.00000000e+00, 0.00000000e+00, 0.00000000e+00,\n",
       "        0.00000000e+00, 0.00000000e+00, 0.00000000e+00, 0.00000000e+00,\n",
       "        0.00000000e+00, 0.00000000e+00, 0.00000000e+00, 0.00000000e+00,\n",
       "        0.00000000e+00, 0.00000000e+00, 0.00000000e+00, 0.00000000e+00,\n",
       "        0.00000000e+00, 0.00000000e+00, 0.00000000e+00, 0.00000000e+00,\n",
       "        0.00000000e+00, 0.00000000e+00, 0.00000000e+00, 0.00000000e+00,\n",
       "        0.00000000e+00, 0.00000000e+00, 0.00000000e+00, 0.00000000e+00,\n",
       "        0.00000000e+00, 0.00000000e+00, 0.00000000e+00, 0.00000000e+00,\n",
       "        0.00000000e+00, 0.00000000e+00, 0.00000000e+00, 0.00000000e+00,\n",
       "        0.00000000e+00, 0.00000000e+00, 0.00000000e+00, 0.00000000e+00,\n",
       "        0.00000000e+00, 0.00000000e+00, 0.00000000e+00, 0.00000000e+00,\n",
       "        0.00000000e+00, 0.00000000e+00, 0.00000000e+00, 0.00000000e+00,\n",
       "        0.00000000e+00, 0.00000000e+00, 0.00000000e+00, 0.00000000e+00,\n",
       "        0.00000000e+00, 0.00000000e+00, 0.00000000e+00, 0.00000000e+00,\n",
       "        0.00000000e+00, 0.00000000e+00, 0.00000000e+00, 0.00000000e+00,\n",
       "        0.00000000e+00, 0.00000000e+00, 0.00000000e+00, 0.00000000e+00,\n",
       "        0.00000000e+00, 0.00000000e+00, 0.00000000e+00, 0.00000000e+00,\n",
       "        0.00000000e+00, 0.00000000e+00, 0.00000000e+00, 0.00000000e+00,\n",
       "        0.00000000e+00, 0.00000000e+00, 0.00000000e+00, 0.00000000e+00,\n",
       "        0.00000000e+00, 0.00000000e+00, 0.00000000e+00, 0.00000000e+00,\n",
       "        0.00000000e+00, 0.00000000e+00, 0.00000000e+00, 0.00000000e+00], requires_grad=True)"
      ]
     },
     "execution_count": 31,
     "metadata": {},
     "output_type": "execute_result"
    }
   ],
   "source": [
    "counts_full_norm"
   ]
  },
  {
   "cell_type": "code",
   "execution_count": 32,
   "id": "3c6bda05-3789-4cd9-873d-9570b75741dc",
   "metadata": {},
   "outputs": [
    {
     "data": {
      "text/plain": [
       "tensor(0.3508, dtype=torch.float64)"
      ]
     },
     "execution_count": 32,
     "metadata": {},
     "output_type": "execute_result"
    }
   ],
   "source": [
    "circuit(1, list(generator.parameters())[0].detach())[16]"
   ]
  },
  {
   "cell_type": "code",
   "execution_count": 33,
   "id": "c742e6d0-360d-4a6f-a1e3-8c327a4c7bde",
   "metadata": {},
   "outputs": [
    {
     "data": {
      "text/plain": [
       "16"
      ]
     },
     "execution_count": 33,
     "metadata": {},
     "output_type": "execute_result"
    }
   ],
   "source": [
    "np.argmax(counts_full_norm)"
   ]
  },
  {
   "cell_type": "code",
   "execution_count": 34,
   "id": "de4d9a5f-ced8-4c76-bfc3-8a36bd1fda5c",
   "metadata": {},
   "outputs": [
    {
     "data": {
      "text/plain": [
       "tensor([5.0404e-01, 4.0984e-03, 7.8192e-04, 2.2109e-04, 1.1788e-03, 4.4624e-05,\n",
       "        8.7489e-04, 1.1429e-03, 2.5373e-04, 5.2495e-05, 9.6460e-04, 1.1636e-06,\n",
       "        1.3137e-03, 1.9233e-04, 3.9190e-04, 1.6686e-04, 3.5084e-01, 2.7869e-03,\n",
       "        3.3127e-04, 1.6120e-04, 2.5450e-03, 1.6627e-05, 6.4173e-04, 1.5816e-04,\n",
       "        6.6953e-03, 1.7835e-04, 8.3955e-05, 9.2453e-06, 6.1228e-04, 3.2750e-06,\n",
       "        2.7570e-04, 1.2862e-05, 1.6155e-03, 3.4226e-04, 2.9544e-05, 4.6366e-04,\n",
       "        2.6211e-05, 6.3156e-05, 6.1009e-05, 5.4649e-04, 1.2867e-03, 5.8188e-05,\n",
       "        1.9140e-04, 1.5141e-04, 3.4941e-05, 4.1442e-04, 1.0439e-05, 1.4219e-04,\n",
       "        1.0868e-02, 4.0396e-05, 7.9219e-04, 2.6052e-04, 4.6345e-05, 1.1618e-04,\n",
       "        1.3480e-04, 2.7791e-04, 7.3994e-04, 9.5953e-07, 5.8753e-06, 1.2523e-04,\n",
       "        1.3677e-04, 3.7458e-05, 3.1373e-05, 2.9750e-05, 2.7080e-04, 5.5257e-04,\n",
       "        5.5952e-04, 1.5889e-05, 1.4872e-03, 2.7554e-05, 1.1697e-04, 6.4727e-05,\n",
       "        2.9082e-04, 7.5607e-05, 2.1439e-04, 1.0488e-04, 1.8989e-04, 1.3851e-04,\n",
       "        2.3842e-04, 6.0860e-05, 2.6431e-04, 8.7832e-05, 3.3625e-04, 8.9257e-05,\n",
       "        5.4678e-04, 6.9362e-04, 3.4462e-05, 1.0150e-04, 4.2439e-04, 1.7183e-04,\n",
       "        3.5440e-04, 5.3923e-05, 2.6989e-04, 3.2790e-05, 4.3452e-05, 1.2485e-04,\n",
       "        8.3905e-05, 1.6825e-04, 5.8610e-05, 1.2553e-04, 1.3159e-04, 6.5224e-06,\n",
       "        9.6360e-05, 1.4970e-04, 2.6788e-04, 4.4822e-05, 1.2647e-05, 1.0611e-04,\n",
       "        2.0585e-05, 4.3520e-05, 1.2261e-05, 1.7762e-05, 2.1532e-03, 1.6977e-04,\n",
       "        2.8390e-04, 4.3980e-04, 2.3016e-04, 4.9264e-04, 3.6061e-04, 3.9247e-04,\n",
       "        2.2249e-04, 5.4080e-04, 7.2156e-05, 1.4276e-04, 1.7243e-04, 1.9043e-04,\n",
       "        1.7534e-05, 6.2180e-06, 6.1929e-04, 5.4015e-05, 4.5247e-04, 3.0197e-04,\n",
       "        8.4467e-04, 1.2297e-04, 3.2331e-04, 5.6000e-05, 5.4263e-05, 1.4804e-04,\n",
       "        7.8701e-04, 1.0512e-05, 7.9316e-04, 3.2280e-04, 2.9478e-04, 5.1213e-05,\n",
       "        1.2121e-03, 4.8472e-04, 1.0026e-03, 3.7488e-05, 1.3499e-04, 1.6610e-04,\n",
       "        4.4591e-04, 2.8420e-04, 9.7105e-04, 2.0142e-04, 7.5835e-05, 1.6032e-05,\n",
       "        4.3806e-04, 3.4471e-04, 4.8320e-04, 3.3424e-04, 3.5454e-03, 2.7684e-04,\n",
       "        9.9595e-05, 2.8181e-04, 1.5425e-04, 4.2156e-04, 1.9778e-04, 5.4911e-05,\n",
       "        1.6705e-04, 6.3929e-05, 4.1311e-04, 2.1758e-05, 2.8939e-05, 1.1858e-04,\n",
       "        1.4279e-04, 8.4842e-06, 1.0108e-03, 1.0815e-04, 9.9780e-06, 9.1597e-05,\n",
       "        1.5441e-04, 2.1136e-04, 1.6707e-04, 5.3439e-05, 6.2104e-04, 1.5665e-04,\n",
       "        3.2319e-04, 1.8998e-04, 1.9352e-05, 1.5905e-06, 5.4725e-05, 4.9118e-05,\n",
       "        4.1798e-04, 1.7902e-04, 4.9490e-04, 4.1397e-05, 1.2631e-03, 2.8309e-04,\n",
       "        9.4016e-04, 1.9736e-04, 4.9825e-05, 4.6363e-04, 3.7329e-05, 1.5454e-04,\n",
       "        3.5403e-05, 4.0074e-04, 7.1602e-05, 8.5070e-06, 3.6210e-05, 1.5387e-03,\n",
       "        5.0482e-05, 2.8933e-04, 4.2662e-04, 7.0445e-04, 9.6642e-04, 6.1677e-05,\n",
       "        9.8271e-05, 2.9521e-04, 5.7132e-05, 1.6142e-04, 1.1016e-05, 2.1451e-05,\n",
       "        2.3804e-04, 1.8815e-04, 2.1196e-04, 5.5002e-05, 6.1114e-04, 4.3964e-05,\n",
       "        3.1163e-05, 2.9128e-05, 6.0252e-06, 4.3226e-06, 2.9567e-05, 2.1297e-04,\n",
       "        4.6625e-05, 1.9686e-06, 3.0518e-04, 2.5631e-04, 1.4009e-04, 2.5358e-05,\n",
       "        3.3446e-04, 7.4148e-04, 3.2633e-04, 2.5221e-05, 1.4398e-04, 1.7489e-04,\n",
       "        1.9252e-04, 2.6196e-04, 1.3154e-04, 2.7036e-06, 1.2614e-05, 1.1326e-04,\n",
       "        5.8803e-05, 6.8465e-05, 3.9730e-05, 7.4101e-06, 1.7557e-03, 6.4016e-04,\n",
       "        5.9217e-04, 2.9820e-04, 6.4108e-04, 9.1055e-05, 1.1795e-04, 4.0960e-04,\n",
       "        9.2561e-04, 4.2139e-05, 1.2706e-04, 1.3975e-05, 1.0876e-03, 1.4579e-04,\n",
       "        4.2607e-05, 3.4522e-04, 3.2002e-03, 4.3058e-04, 1.5621e-04, 5.2832e-04,\n",
       "        2.5832e-04, 3.1822e-05, 1.5249e-04, 1.7019e-04, 1.8811e-04, 3.7912e-04,\n",
       "        1.3364e-04, 1.1115e-04, 3.8667e-04, 1.2564e-04, 7.1461e-04, 4.0021e-05,\n",
       "        2.6745e-04, 4.7465e-04, 2.7820e-07, 4.4206e-06, 1.4434e-05, 3.4323e-04,\n",
       "        1.6150e-05, 1.0658e-04, 3.2019e-04, 2.0272e-04, 8.3268e-06, 3.3601e-06,\n",
       "        2.5566e-04, 3.7170e-07, 7.0178e-05, 1.0571e-05, 9.2131e-05, 5.6423e-05,\n",
       "        2.5000e-04, 3.9568e-04, 3.3165e-05, 3.2821e-05, 2.0229e-04, 2.2809e-04,\n",
       "        9.6169e-05, 6.7034e-05, 2.6365e-05, 1.6293e-04, 1.2001e-05, 1.7041e-04,\n",
       "        4.0595e-05, 9.8567e-06, 1.0425e-03, 1.2608e-04, 9.1414e-04, 1.5214e-04,\n",
       "        1.4646e-04, 5.6131e-05, 2.0218e-05, 1.3242e-04, 4.5098e-05, 7.0267e-05,\n",
       "        3.0493e-05, 5.8253e-05, 1.0028e-04, 5.2791e-05, 1.3202e-05, 1.5255e-04,\n",
       "        2.1519e-03, 1.1477e-04, 4.6152e-05, 1.1197e-04, 3.1658e-05, 1.6267e-04,\n",
       "        7.0887e-05, 1.5844e-04, 9.4844e-05, 1.1490e-04, 5.4936e-04, 1.1005e-05,\n",
       "        1.9715e-04, 5.6569e-05, 1.5236e-04, 8.8227e-06, 2.6960e-05, 5.8727e-04,\n",
       "        3.8561e-06, 2.0935e-05, 1.0526e-04, 1.1156e-04, 1.0108e-04, 2.1076e-04,\n",
       "        2.1821e-04, 2.5597e-04, 3.4951e-06, 4.3619e-05, 2.6390e-04, 1.8418e-04,\n",
       "        1.7622e-05, 8.1151e-05, 5.3583e-04, 4.0564e-04, 8.8484e-05, 1.2786e-04,\n",
       "        1.3105e-04, 4.0759e-05, 2.3353e-06, 4.4773e-05, 2.3702e-04, 2.6730e-04,\n",
       "        1.2201e-05, 4.6780e-05, 6.2663e-05, 4.3357e-05, 5.6134e-05, 8.2602e-05,\n",
       "        4.2016e-04, 1.6178e-04, 2.0051e-04, 4.4866e-04, 8.0327e-05, 4.8960e-05,\n",
       "        2.7462e-04, 7.2398e-05, 9.7489e-05, 2.3380e-05, 8.4708e-05, 2.7418e-04,\n",
       "        3.4496e-04, 1.3685e-04, 2.3654e-04, 2.5517e-04, 6.3231e-05, 1.7706e-04,\n",
       "        1.2117e-05, 3.6500e-04, 1.7183e-05, 1.2522e-04, 2.5253e-04, 5.4442e-05,\n",
       "        1.2156e-03, 5.7319e-05, 2.3152e-04, 1.5882e-05, 7.1942e-05, 6.3978e-05,\n",
       "        5.5877e-06, 2.3111e-05, 4.7329e-05, 7.9351e-04, 4.8873e-04, 1.3423e-05,\n",
       "        2.2206e-05, 2.8994e-04, 1.0842e-04, 9.1288e-05, 1.7535e-04, 1.8454e-05,\n",
       "        2.7427e-05, 2.8263e-05, 5.9501e-05, 4.7465e-05, 3.8571e-05, 1.4340e-05,\n",
       "        4.1682e-04, 1.7549e-04, 1.4842e-04, 1.9440e-04, 1.6594e-05, 4.8027e-05,\n",
       "        1.5484e-04, 3.7618e-05, 2.9273e-04, 1.9918e-04, 1.3125e-04, 1.6530e-05,\n",
       "        1.2113e-04, 9.4406e-05, 1.7211e-05, 7.7695e-06, 2.8697e-04, 4.3799e-05,\n",
       "        3.0099e-04, 7.7274e-05, 1.6502e-05, 2.5671e-04, 1.3382e-04, 3.7658e-04,\n",
       "        2.7618e-04, 1.0656e-04, 8.5169e-04, 4.8599e-05, 2.2379e-04, 8.8592e-05,\n",
       "        2.8347e-04, 2.3582e-04, 8.7293e-05, 5.1967e-05, 6.9932e-04, 2.7028e-04,\n",
       "        5.3132e-05, 3.4257e-05, 7.9799e-05, 6.3344e-05, 7.9749e-05, 1.4798e-04,\n",
       "        1.4919e-06, 1.3713e-04, 1.3233e-04, 1.9729e-04, 4.1981e-05, 5.4893e-06,\n",
       "        2.0233e-05, 1.8386e-04, 1.6094e-04, 1.7056e-06, 1.7515e-05, 2.0422e-07,\n",
       "        9.1901e-05, 3.8905e-05, 1.2676e-04, 4.3740e-05, 9.9516e-05, 2.1960e-05,\n",
       "        1.8559e-04, 1.2837e-04, 1.2443e-05, 1.2131e-04, 5.5674e-04, 4.4577e-05,\n",
       "        1.5104e-05, 2.5376e-04, 1.2615e-04, 1.0712e-06, 4.4967e-05, 8.5244e-05,\n",
       "        2.6858e-05, 1.4770e-04, 5.4496e-05, 4.8710e-05, 1.0517e-04, 3.1767e-05,\n",
       "        5.3477e-05, 4.0512e-05], dtype=torch.float64)"
      ]
     },
     "execution_count": 34,
     "metadata": {},
     "output_type": "execute_result"
    }
   ],
   "source": [
    "circuit(1, list(generator.parameters())[0].detach())"
   ]
  }
 ],
 "metadata": {
  "kernelspec": {
   "display_name": "tfq",
   "language": "python",
   "name": "tfq"
  },
  "language_info": {
   "codemirror_mode": {
    "name": "ipython",
    "version": 3
   },
   "file_extension": ".py",
   "mimetype": "text/x-python",
   "name": "python",
   "nbconvert_exporter": "python",
   "pygments_lexer": "ipython3",
   "version": "3.9.12"
  }
 },
 "nbformat": 4,
 "nbformat_minor": 5
}
