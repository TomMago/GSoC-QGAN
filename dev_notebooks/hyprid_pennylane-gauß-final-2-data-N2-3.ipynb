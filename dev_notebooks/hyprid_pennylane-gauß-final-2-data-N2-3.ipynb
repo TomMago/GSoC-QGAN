{
 "cells": [
  {
   "cell_type": "code",
   "execution_count": 1,
   "id": "f75d6aba-26d9-418b-81cc-e9c3b44278a1",
   "metadata": {},
   "outputs": [],
   "source": [
    "import matplotlib\n",
    "import matplotlib.pyplot as plt\n",
    "import pennylane as qml\n",
    "from pennylane import numpy as np\n",
    "import time\n",
    "from pennylane.optimize import AdamOptimizer\n",
    "import torch\n",
    "import h5py\n",
    "\n",
    "plt.rcParams['figure.dpi'] = 300\n",
    "plt.rcParams['figure.figsize'] = [3, 1]\n",
    "plt.rcParams.update({\n",
    "    \"text.usetex\": True,\n",
    "    \"font.family\": \"Helvetica\"\n",
    "})"
   ]
  },
  {
   "cell_type": "markdown",
   "id": "85d00751-1e31-4d76-90d9-45106f03002b",
   "metadata": {},
   "source": [
    "## Settings"
   ]
  },
  {
   "cell_type": "code",
   "execution_count": 2,
   "id": "5d4c06ad-1ad0-430e-b1fe-6dd295f651ba",
   "metadata": {},
   "outputs": [],
   "source": [
    "nbatch = 6000\n",
    "N = 3\n",
    "M = 2\n",
    "nM = M - 1\n",
    "qM = int(np.log2(M))\n",
    "num_dim = 1\n",
    "num_qubits = int(N**2 * np.log2(M))\n",
    "num_discrete_values = 2**num_qubits\n",
    "\n",
    "file_name = \"QG_train_normalized_N3_M2_bilinear_xl\"\n",
    "\n",
    "reg = 0.000001"
   ]
  },
  {
   "cell_type": "markdown",
   "id": "42594711-6d99-4ccd-a23b-e17bc9422ece",
   "metadata": {},
   "source": [
    "## Data"
   ]
  },
  {
   "cell_type": "code",
   "execution_count": 3,
   "id": "698b09f5-c48c-4520-a0ed-96edd2fd4b85",
   "metadata": {},
   "outputs": [],
   "source": [
    "f = h5py.File(file_name,\"r\")"
   ]
  },
  {
   "cell_type": "code",
   "execution_count": 4,
   "id": "e70763be-ca3c-4204-89c7-d5b2cc0ad1d5",
   "metadata": {},
   "outputs": [],
   "source": [
    "x_train = f.get('X')\n",
    "y_train = f.get('y')"
   ]
  },
  {
   "cell_type": "code",
   "execution_count": 5,
   "id": "f985952e-7458-4280-ab3f-89496e40ff54",
   "metadata": {},
   "outputs": [
    {
     "data": {
      "text/plain": [
       "(-0.5, 2.5, 2.5, -0.5)"
      ]
     },
     "execution_count": 5,
     "metadata": {},
     "output_type": "execute_result"
    },
    {
     "data": {
      "image/png": "[encoded data removed]",
      "text/plain": [
       "<Figure size 432x288 with 1 Axes>"
      ]
     },
     "metadata": {
      "needs_background": "light"
     },
     "output_type": "display_data"
    }
   ],
   "source": [
    "plt.imshow(np.mean(x_train[y_train[:]==1],axis=0),norm=matplotlib.colors.LogNorm())\n",
    "plt.axis('off')"
   ]
  },
  {
   "cell_type": "code",
   "execution_count": 6,
   "id": "6e519f3e-d862-4be6-aeb7-5f3e2a8e00b9",
   "metadata": {},
   "outputs": [
    {
     "data": {
      "text/plain": [
       "(-0.5, 2.5, 2.5, -0.5)"
      ]
     },
     "execution_count": 6,
     "metadata": {},
     "output_type": "execute_result"
    },
    {
     "data": {
      "image/png": "[encoded data removed]",
      "text/plain": [
       "<Figure size 432x288 with 1 Axes>"
      ]
     },
     "metadata": {
      "needs_background": "light"
     },
     "output_type": "display_data"
    }
   ],
   "source": [
    "plt.imshow(np.mean(x_train[y_train[:]==0],axis=0),norm=matplotlib.colors.LogNorm())\n",
    "plt.axis('off')"
   ]
  },
  {
   "cell_type": "code",
   "execution_count": 7,
   "id": "00244b08-8d19-4b27-a54e-e35de2caceae",
   "metadata": {},
   "outputs": [
    {
     "data": {
      "text/plain": [
       "(-0.5, 2.5, 2.5, -0.5)"
      ]
     },
     "execution_count": 7,
     "metadata": {},
     "output_type": "execute_result"
    },
    {
     "data": {
      "image/png": "[encoded data removed]",
      "text/plain": [
       "<Figure size 432x288 with 6 Axes>"
      ]
     },
     "metadata": {
      "needs_background": "light"
     },
     "output_type": "display_data"
    }
   ],
   "source": [
    "fig, ax = plt.subplots(2, 3)\n",
    "nums = np.random.randint(0,6,size=(6,))\n",
    "ax[0,0].imshow(x_train[nums[0]])\n",
    "ax[0,0].axis('off')\n",
    "ax[0,1].imshow(x_train[nums[1]])\n",
    "ax[0,1].axis('off')\n",
    "ax[0,2].imshow(x_train[nums[2]])\n",
    "ax[0,2].axis('off')\n",
    "ax[1,0].imshow(x_train[nums[3]])\n",
    "ax[1,0].axis('off')\n",
    "ax[1,1].imshow(x_train[nums[4]])\n",
    "ax[1,1].axis('off')\n",
    "ax[1,2].imshow(x_train[nums[5]])\n",
    "ax[1,2].axis('off')"
   ]
  },
  {
   "cell_type": "code",
   "execution_count": 8,
   "id": "06ca5084-3f7b-4795-8fc6-530db9a960da",
   "metadata": {},
   "outputs": [],
   "source": [
    "data = x_train[y_train[:]==1]"
   ]
  },
  {
   "cell_type": "code",
   "execution_count": 9,
   "id": "b6f241be-277d-4c9a-b817-56b906ff2e25",
   "metadata": {},
   "outputs": [],
   "source": [
    "f.close()"
   ]
  },
  {
   "cell_type": "code",
   "execution_count": 10,
   "id": "c25903c8-54b3-4f5f-b4d3-0bc4a57b8a44",
   "metadata": {},
   "outputs": [
    {
     "data": {
      "text/plain": [
       "(49962, 3, 3)"
      ]
     },
     "execution_count": 10,
     "metadata": {},
     "output_type": "execute_result"
    }
   ],
   "source": [
    "data.shape"
   ]
  },
  {
   "cell_type": "code",
   "execution_count": 11,
   "id": "ed59fe1c-809e-4a85-91c1-2926f30fc901",
   "metadata": {},
   "outputs": [],
   "source": [
    "prob_distr = data.reshape(-1,9)"
   ]
  },
  {
   "cell_type": "code",
   "execution_count": 12,
   "id": "d20395c8-8eeb-42fb-ae20-c2332c9518d1",
   "metadata": {},
   "outputs": [],
   "source": [
    "mean_data = np.mean(data,axis=0)"
   ]
  },
  {
   "cell_type": "markdown",
   "id": "0a37c535-cac7-441d-b5c4-c178f8c2f155",
   "metadata": {},
   "source": [
    "## Utillity functions"
   ]
  },
  {
   "cell_type": "code",
   "execution_count": 13,
   "id": "0d6951eb-b4f6-4cf2-a2eb-fc3f38c859c1",
   "metadata": {},
   "outputs": [],
   "source": [
    "def int_to_bin_list(num,bits):\n",
    "    return [(num>>k)&1 for k in range(0,bits)][::-1]"
   ]
  },
  {
   "cell_type": "code",
   "execution_count": 14,
   "id": "f8a88da5-8fb1-413d-a96e-7e14c2573f7c",
   "metadata": {},
   "outputs": [],
   "source": [
    "def convert_dim_to_integer(arr,dim):\n",
    "    # Calculate the number of possible values \n",
    "    num_values = 2 ** arr.shape[dim]\n",
    "    arr = torch.flip(arr,(1,))\n",
    "    # Sum along the last dimension to convert it to integers\n",
    "    integer_array = np.sum(arr * (2 ** np.arange(arr.shape[dim])), axis=-1)\n",
    "\n",
    "    return torch.tensor(integer_array)"
   ]
  },
  {
   "cell_type": "code",
   "execution_count": 15,
   "id": "60c90e4c-9775-4573-afb9-16c9e2851dd9",
   "metadata": {},
   "outputs": [],
   "source": [
    "def normalize_image(img):\n",
    "    return img / nM"
   ]
  },
  {
   "cell_type": "code",
   "execution_count": 16,
   "id": "f23a767d-5534-4718-aec3-b78178e2134d",
   "metadata": {},
   "outputs": [],
   "source": [
    "def basis_array_to_img(basis_array):\n",
    "    basis_array = basis_array.reshape(N,N,qM)\n",
    "    return normalize_image(convert_dim_to_integer(basis_array,2))"
   ]
  },
  {
   "cell_type": "code",
   "execution_count": 17,
   "id": "f077a577-eb6e-4d0d-a388-63aab01fc46d",
   "metadata": {},
   "outputs": [],
   "source": [
    "def batch_basis_array_to_img(batch_basis_array):\n",
    "    batch_basis_array = batch_basis_array.reshape(batch_basis_array.shape[0],N,N,qM)\n",
    "    return normalize_image(convert_dim_to_integer(batch_basis_array,3))"
   ]
  },
  {
   "cell_type": "code",
   "execution_count": 18,
   "id": "2bb9d0d5-b610-4e57-ae8a-5585fa565ad2",
   "metadata": {},
   "outputs": [],
   "source": [
    "def tensor_to_int(tensor):\n",
    "    tensor = tensor.long()\n",
    "    \n",
    "    # Calculate the number of columns in the tensor\n",
    "    num_columns = tensor.size(1)\n",
    "    \n",
    "    # Create a weight tensor for binary to integer conversion\n",
    "    weights = 2 ** torch.arange(num_columns - 1, -1, -1)\n",
    "    \n",
    "    # Calculate the integer values for each row\n",
    "    int_values = torch.sum(tensor * weights, dim=1)\n",
    "    \n",
    "    return int_values"
   ]
  },
  {
   "cell_type": "code",
   "execution_count": 19,
   "id": "6eb71b05-a7a3-483d-a695-b15dc073bd0f",
   "metadata": {},
   "outputs": [],
   "source": [
    "from IPython.display import clear_output\n",
    "\n",
    "matplotlib.rc('xtick', labelsize=20) \n",
    "matplotlib.rc('ytick', labelsize=20) \n",
    "\n",
    "def plot_training_progress(n, samples_tuple,mean_gen_image):\n",
    "    # we don't plot if we don't have enough data\n",
    "    if len(generator_loss_values) < 2:\n",
    "        return\n",
    "\n",
    "    clear_output(wait=True)\n",
    "    fig, ((ax1, ax2, ax3), (ax4, ax5, ax6)) = plt.subplots(2, 3, figsize=(18, 12))\n",
    "    fig.tight_layout(pad=10.0)\n",
    "\n",
    "    # Generator Loss\n",
    "    ax3.plot(generator_loss_values, label=\"generator loss\", color=\"royalblue\")\n",
    "    ax3.plot(discriminator_loss_values, label=\"discriminator loss\", color=\"magenta\")\n",
    "    ax3.legend(loc=\"best\", fontsize=16)\n",
    "    ax3.set_xlabel(\"epoch\", fontsize=16)\n",
    "    ax3.set_ylabel(\"Loss\", fontsize=16)\n",
    "    #ax3.grid()\n",
    "\n",
    "    # Relative Entropy\n",
    "    ax2.plot(entropies)\n",
    "    ax2.set_xlabel(\"epoch\", fontsize=18)\n",
    "    ax2.set_ylabel(\"KL divergence\", fontsize=18)\n",
    "    ax2.set_yscale(\"log\")\n",
    "    #ax2.grid()\n",
    "    \n",
    "    #paramsg = generator.weights\n",
    "    #generated_probabilities = circuit(1,paramsg).detach()\n",
    "    im = ax1.imshow(mean_gen_image, norm=matplotlib.colors.LogNorm())\n",
    "    plt.colorbar(im,ax=ax1)\n",
    "    #ax3.grid()\n",
    "    #plt.savefig(f\"imgs/plt-{n}.png\")\n",
    "    \n",
    "    im2 = ax4.imshow(mean_data, norm=matplotlib.colors.LogNorm())\n",
    "    plt.colorbar(im2,ax=ax4)\n",
    "    \n",
    "    ax5.plot(mses)\n",
    "    ax5.set_xlabel(\"epoch\", fontsize=18)\n",
    "    ax5.set_ylabel(\"MSE\", fontsize=18)\n",
    "    ax5.set_yscale(\"log\")\n",
    "        \n",
    "\n",
    "    plt.show()"
   ]
  },
  {
   "cell_type": "code",
   "execution_count": 20,
   "id": "d1e02894-a052-4f89-be4d-212a8bca5b6f",
   "metadata": {},
   "outputs": [],
   "source": [
    "def iterate_minibatches(data, batch_size):\n",
    "    for start_idx in range(0, data.shape[0] - batch_size + 1, batch_size):\n",
    "        idxs = slice(start_idx, start_idx + batch_size)\n",
    "        yield data[idxs]"
   ]
  },
  {
   "cell_type": "markdown",
   "id": "e9d88ba4-b314-4bf9-89f7-2e6b39eb0341",
   "metadata": {},
   "source": [
    "# Model"
   ]
  },
  {
   "cell_type": "markdown",
   "id": "68ddec6b-682d-473a-a250-58b25415e129",
   "metadata": {},
   "source": [
    "## Generator circuits"
   ]
  },
  {
   "cell_type": "code",
   "execution_count": 21,
   "id": "2be3e809-2454-4a4d-9d30-e6185a625ed4",
   "metadata": {},
   "outputs": [],
   "source": [
    "dev = qml.device(\"default.qubit.torch\", wires=num_qubits)\n",
    "\n",
    "@qml.qnode(dev, interface=\"torch\", diff_method=\"backprop\", cachesize=1000000)\n",
    "def circuit(inputs, weights):\n",
    "    for wire in range(num_qubits): qml.Hadamard(wires=wire)\n",
    "    qml.StronglyEntanglingLayers(weights=weights, wires=list(range(num_qubits)))\n",
    "    return qml.probs()"
   ]
  },
  {
   "cell_type": "code",
   "execution_count": 22,
   "id": "112bd16e-60d3-46d2-adb3-8056d5f50ae3",
   "metadata": {},
   "outputs": [],
   "source": [
    "dev_sample = qml.device(\"default.qubit\", wires=num_qubits, shots=nbatch)\n",
    "\n",
    "@qml.qnode(dev_sample, interface=\"torch\")\n",
    "def circuit_sample(inputs, weights):\n",
    "    for wire in range(num_qubits): qml.Hadamard(wires=wire)\n",
    "    qml.StronglyEntanglingLayers(weights=weights, wires=list(range(num_qubits)))\n",
    "    return qml.sample()"
   ]
  },
  {
   "cell_type": "markdown",
   "id": "7089dc06-52c0-423d-9b12-aad86e602d93",
   "metadata": {},
   "source": [
    "## Hybrid model building"
   ]
  },
  {
   "cell_type": "code",
   "execution_count": 23,
   "id": "8cfee725-a814-4f84-bbe8-4de6ae0e54cc",
   "metadata": {},
   "outputs": [],
   "source": [
    "n_layers = 30\n",
    "weight_shapes = {\"weights\": (n_layers, num_qubits,3)}"
   ]
  },
  {
   "cell_type": "code",
   "execution_count": 24,
   "id": "511e3252-b022-4cc8-b2bf-7278878c1a12",
   "metadata": {},
   "outputs": [],
   "source": [
    "qlayer = qml.qnn.TorchLayer(circuit, weight_shapes)"
   ]
  },
  {
   "cell_type": "code",
   "execution_count": 25,
   "id": "d7816b35-0f7d-4312-b68b-4dd943e2f7f3",
   "metadata": {},
   "outputs": [],
   "source": [
    "from torch import nn\n",
    "\n",
    "class Discriminator(nn.Module):\n",
    "    def __init__(self, input_size):\n",
    "        super(Discriminator, self).__init__()\n",
    "\n",
    "        self.linear_input = nn.Linear(input_size, 50)\n",
    "        self.leaky_relu = nn.LeakyReLU(0.2)\n",
    "        self.linear1 = nn.Linear(50, 20)\n",
    "        self.linear2 = nn.Linear(20, 1)\n",
    "        self.sigmoid = nn.Sigmoid()\n",
    "        self.flatten = nn.Flatten()\n",
    "\n",
    "    def forward(self, input: torch.Tensor) -> torch.Tensor:\n",
    "        x = self.flatten(input)\n",
    "        x = self.linear_input(x)\n",
    "        x = self.leaky_relu(x)\n",
    "        x = self.linear1(x)\n",
    "        x = self.leaky_relu(x)\n",
    "        x = self.linear2(x)\n",
    "        x = self.sigmoid(x)\n",
    "        return x"
   ]
  },
  {
   "cell_type": "code",
   "execution_count": 26,
   "id": "ac8741cf-d61a-4b59-b0cd-701822839634",
   "metadata": {},
   "outputs": [],
   "source": [
    "generator = qlayer\n",
    "discriminator = Discriminator(N**2)"
   ]
  },
  {
   "cell_type": "markdown",
   "id": "37c92289-0d20-4ddd-adec-632d94cf6d8b",
   "metadata": {
    "tags": []
   },
   "source": [
    "# Training"
   ]
  },
  {
   "cell_type": "code",
   "execution_count": 27,
   "id": "77ad797a-1bd1-4b9c-8a84-16f1975cae1f",
   "metadata": {},
   "outputs": [],
   "source": [
    "prob_distr_nums = convert_dim_to_integer(torch.tensor(prob_distr),1)"
   ]
  },
  {
   "cell_type": "code",
   "execution_count": 28,
   "id": "2e910359-72a9-429c-a045-dc4f86c9bedf",
   "metadata": {},
   "outputs": [],
   "source": [
    "vals, counts = np.unique(prob_distr_nums, return_counts=True)"
   ]
  },
  {
   "cell_type": "code",
   "execution_count": 29,
   "id": "80418166-65b6-4c40-ae55-efcbb4303d90",
   "metadata": {},
   "outputs": [],
   "source": [
    "counts_full = np.zeros(num_discrete_values)"
   ]
  },
  {
   "cell_type": "code",
   "execution_count": 30,
   "id": "34b89d4a-7630-465b-9837-f90a02c105d7",
   "metadata": {},
   "outputs": [],
   "source": [
    "counts_full[vals.astype(int)] = counts"
   ]
  },
  {
   "cell_type": "code",
   "execution_count": 31,
   "id": "37d48f5a-f3b9-4dfa-ab35-9eec956bdf16",
   "metadata": {},
   "outputs": [],
   "source": [
    "counts_full_norm = counts_full / prob_distr_nums.shape[0]"
   ]
  },
  {
   "cell_type": "code",
   "execution_count": 32,
   "id": "b36a775e-b67d-498a-a1a0-9d5d84523b41",
   "metadata": {},
   "outputs": [],
   "source": [
    "from torch.optim import Adam\n",
    "\n",
    "lr = 0.001  # learning rate\n",
    "#b1 = 0.7  # first momentum parameter\n",
    "b1 = 0.6  # first momentum parameter\n",
    "b2 = 0.999  # second momentum parameter\n",
    "\n",
    "generator_optimizer = Adam(generator.parameters(), lr=lr, betas=(b1, b2), weight_decay=0, amsgrad=True)\n",
    "discriminator_optimizer = Adam(\n",
    "    discriminator.parameters(), lr=lr, betas=(b1, b2), weight_decay=0, amsgrad=True\n",
    ")\n",
    "\n",
    "decayRate = 0.9992\n",
    "gen_lr_scheduler = torch.optim.lr_scheduler.ExponentialLR(optimizer=generator_optimizer, gamma=decayRate)\n",
    "disc_lr_scheduler = torch.optim.lr_scheduler.ExponentialLR(optimizer=discriminator_optimizer, gamma=decayRate)"
   ]
  },
  {
   "cell_type": "code",
   "execution_count": 33,
   "id": "707a5911-94a7-42b3-9683-da3f762f84c6",
   "metadata": {},
   "outputs": [],
   "source": [
    "def adversarial_loss(inputs, target, w):\n",
    "    bce_loss = target * torch.log(inputs) + (1 - target) * torch.log(1 - inputs)\n",
    "    weighted_loss = w * bce_loss\n",
    "    total_loss = -torch.sum(weighted_loss)\n",
    "    return total_loss"
   ]
  },
  {
   "cell_type": "code",
   "execution_count": 34,
   "id": "44271d15-e370-44d0-9796-a496a4c5ab1d",
   "metadata": {
    "tags": []
   },
   "outputs": [
    {
     "data": {
      "image/png": "[encoded data removed]",
      "text/plain": [
       "<Figure size 1296x864 with 8 Axes>"
      ]
     },
     "metadata": {
      "needs_background": "light"
     },
     "output_type": "display_data"
    },
    {
     "name": "stdout",
     "output_type": "stream",
     "text": [
      "Fit in 108066.53 sec\n"
     ]
    }
   ],
   "source": [
    "import time\n",
    "from scipy.stats import multivariate_normal, entropy\n",
    "\n",
    "#torch.nn.init.uniform_(list(generator.parameters())[0], a=-np.pi, b=np.pi)\n",
    "torch.nn.init.uniform_(list(generator.parameters())[0], a=-0.1, b=0.1)\n",
    "\n",
    "n_epochs = 3000\n",
    "\n",
    "data = torch.tensor(data, requires_grad=False)\n",
    "\n",
    "generator_loss_values = []\n",
    "discriminator_loss_values = []\n",
    "entropies = []\n",
    "mses = []\n",
    "\n",
    "start = time.time()\n",
    "for epoch in range(n_epochs):\n",
    "\n",
    "    valid = torch.ones(nbatch, dtype=torch.float)\n",
    "    fake = torch.zeros(nbatch, dtype=torch.float)\n",
    "\n",
    "    #samples = tensor_to_int(circuit_sample(1, list(generator.parameters())[0].detach()))\n",
    "    #samples = torch.tensor(np.random.randint(0,16, size=(nbatch,)), dtype=torch.float).reshape(nbatch,1)\n",
    "    samples = torch.tensor(np.random.randint(0,2,size=(nbatch,num_qubits)), dtype=torch.float)\n",
    "    samples_idx = convert_dim_to_integer(samples,1)\n",
    "    samples_img = batch_basis_array_to_img(samples)\n",
    "    \n",
    "    #samples = samples.float().reshape(-1,1)\n",
    "    \n",
    "    for j,Xbatch in enumerate(iterate_minibatches(data, batch_size=nbatch)):\n",
    " \n",
    "        # discriminator values\n",
    "        disc_value = discriminator(samples_img.float())\n",
    "    \n",
    "        # gen dist\n",
    "        gen_dist = generator(torch.tensor([]))\n",
    "        \n",
    "        # Train generator\n",
    "        generator_optimizer.zero_grad()\n",
    "        generator_loss = adversarial_loss(disc_value.detach().reshape(-1), valid, gen_dist[samples_idx.long().reshape(-1)])\n",
    "        \n",
    "        # store for plotting\n",
    "        generator_loss_values.append(generator_loss.detach().item())\n",
    "\n",
    "        generator_loss.backward(retain_graph=True)\n",
    "        generator_optimizer.step()\n",
    "\n",
    "        # Train Discriminator\n",
    "        discriminator_optimizer.zero_grad()\n",
    "     \n",
    "        real_disc_vals = discriminator(Xbatch.float())\n",
    "    \n",
    "        real_loss = adversarial_loss(real_disc_vals.reshape(-1), valid, torch.tensor(np.ones(nbatch)*1/nbatch, requires_grad=False))\n",
    "        fake_loss = adversarial_loss(disc_value.reshape(-1), fake, gen_dist.detach()[samples_idx.long().reshape(-1)])\n",
    "        discriminator_loss = (real_loss + fake_loss) / 2    \n",
    "        \n",
    "        # Store for plotting\n",
    "        discriminator_loss_values.append(discriminator_loss.detach().item())\n",
    "    \n",
    "        discriminator_loss.backward()\n",
    "        discriminator_optimizer.step()\n",
    "        \n",
    "        mean_gen_image = torch.sum(gen_dist.detach().squeeze().reshape(-1,1,1)*batch_basis_array_to_img(torch.tensor([int_to_bin_list(x,num_qubits) for x in range(2**num_qubits)])),0)\n",
    "        \n",
    "        \n",
    "        entropy_val = entropy(gen_dist.detach()+0.000001, counts_full_norm+0.000001)\n",
    "        entropies.append(entropy_val)\n",
    "        \n",
    "        mse_val = np.mean((mean_gen_image.numpy()-mean_data)**2)\n",
    "        mses.append(mse_val)\n",
    "        \n",
    "        gen_lr_scheduler.step()\n",
    "        disc_lr_scheduler.step()\n",
    "\n",
    "        plot_training_progress(epoch, (samples,),mean_gen_image)\n",
    "        \n",
    "elapsed = time.time() - start\n",
    "print(f\"Fit in {elapsed:0.2f} sec\")"
   ]
  },
  {
   "cell_type": "code",
   "execution_count": 35,
   "id": "3aa2572c-9d67-4ed0-bf29-094e18e9cd64",
   "metadata": {},
   "outputs": [
    {
     "data": {
      "image/png": "[encoded data removed]",
      "text/plain": [
       "<Figure size 1296x864 with 8 Axes>"
      ]
     },
     "metadata": {
      "needs_background": "light"
     },
     "output_type": "display_data"
    }
   ],
   "source": [
    "plot_training_progress(epoch, (samples,),mean_gen_image)"
   ]
  },
  {
   "cell_type": "code",
   "execution_count": 36,
   "id": "31765b6b-d75a-4082-9458-eaec6d26d25e",
   "metadata": {},
   "outputs": [
    {
     "data": {
      "text/plain": [
       "tensor(0.9495)"
      ]
     },
     "execution_count": 36,
     "metadata": {},
     "output_type": "execute_result"
    }
   ],
   "source": [
    "torch.sum(mean_gen_image)"
   ]
  },
  {
   "cell_type": "code",
   "execution_count": 37,
   "id": "3c94c27b-30b6-4e7c-be58-3f5b46e7e897",
   "metadata": {},
   "outputs": [
    {
     "data": {
      "text/plain": [
       "tensor([[0., 0., 0.],\n",
       "        [0., 0., 0.],\n",
       "        [0., 0., 0.]])"
      ]
     },
     "execution_count": 37,
     "metadata": {},
     "output_type": "execute_result"
    }
   ],
   "source": [
    "basis_array_to_img(circuit_sample(1, list(generator.parameters())[0].detach())[0])"
   ]
  },
  {
   "cell_type": "code",
   "execution_count": 38,
   "id": "1c4e9797-8f0f-4f80-9582-2b40df75db6f",
   "metadata": {},
   "outputs": [
    {
     "data": {
      "text/plain": [
       "torch.Size([512, 3, 3])"
      ]
     },
     "execution_count": 38,
     "metadata": {},
     "output_type": "execute_result"
    }
   ],
   "source": [
    "batch_basis_array_to_img(torch.tensor([int_to_bin_list(x,num_qubits) for x in range(2**num_qubits)])).shape"
   ]
  },
  {
   "cell_type": "code",
   "execution_count": 39,
   "id": "87b93b7f-392c-40bd-9ea6-5ec664686ee1",
   "metadata": {},
   "outputs": [
    {
     "data": {
      "text/plain": [
       "tensor([3.5453e-01, 5.9255e-04, 1.4604e-03, 6.5610e-04, 1.0720e-02, 5.6089e-04,\n",
       "        3.2767e-04, 1.5092e-07, 3.7090e-03, 8.4574e-04, 4.6585e-04, 9.3493e-05,\n",
       "        1.0022e-03, 3.4642e-05, 5.1991e-06, 1.2874e-04, 4.8714e-01, 2.0694e-03,\n",
       "        1.0632e-03, 3.4881e-04, 2.0739e-04, 9.1413e-04, 6.7175e-05, 3.8215e-05,\n",
       "        2.7604e-03, 5.4880e-04, 2.4224e-04, 2.0731e-04, 4.5783e-04, 4.2391e-04,\n",
       "        1.9446e-04, 1.6295e-04, 2.4739e-03, 6.4646e-04, 7.1207e-04, 2.7062e-04,\n",
       "        4.3232e-05, 2.8240e-04, 4.4328e-07, 7.4132e-05, 3.3674e-03, 6.7749e-05,\n",
       "        1.4466e-03, 1.1073e-04, 2.2977e-05, 2.8228e-05, 1.9009e-04, 8.5548e-05,\n",
       "        3.3240e-03, 9.2692e-04, 3.0553e-05, 2.6011e-04, 5.5590e-05, 3.1653e-04,\n",
       "        1.4226e-04, 7.0320e-05, 2.8145e-04, 4.1085e-04, 5.4960e-04, 4.5358e-04,\n",
       "        1.5917e-03, 3.2822e-05, 8.0806e-05, 2.8678e-04, 1.1503e-02, 2.3960e-04,\n",
       "        1.2344e-03, 5.5633e-04, 2.4339e-04, 4.7409e-04, 3.1269e-04, 5.3748e-05,\n",
       "        4.8081e-04, 3.6741e-06, 2.5504e-04, 1.0344e-04, 2.8749e-05, 2.5889e-05,\n",
       "        2.4833e-05, 1.4726e-05, 2.0477e-03, 5.7883e-04, 8.6980e-04, 1.0203e-05,\n",
       "        2.4431e-04, 6.4714e-04, 3.4676e-04, 2.7360e-05, 2.2662e-04, 3.6048e-05,\n",
       "        1.4740e-04, 1.2218e-04, 2.0452e-04, 2.0235e-05, 1.9696e-04, 1.5094e-04,\n",
       "        1.5833e-03, 1.4036e-04, 1.1703e-03, 8.0755e-06, 4.3350e-04, 3.0013e-05,\n",
       "        1.8555e-04, 2.2518e-05, 2.5606e-06, 3.0930e-05, 9.3739e-05, 8.5958e-05,\n",
       "        8.2548e-05, 9.0592e-06, 5.2409e-05, 1.1089e-04, 4.7878e-04, 5.2678e-04,\n",
       "        1.8253e-04, 2.1240e-04, 2.7664e-04, 1.2999e-04, 1.4013e-04, 1.1369e-04,\n",
       "        9.6176e-05, 8.7804e-06, 1.0177e-04, 9.2251e-05, 1.2955e-04, 2.8982e-05,\n",
       "        8.6682e-06, 6.1764e-05, 1.6794e-03, 7.3942e-04, 3.5932e-04, 6.8207e-04,\n",
       "        9.3077e-04, 4.3908e-04, 4.7992e-05, 8.8730e-05, 1.3244e-03, 2.5429e-04,\n",
       "        1.0740e-03, 3.2981e-04, 4.8447e-04, 3.8863e-06, 6.9116e-05, 7.6434e-05,\n",
       "        4.0388e-04, 1.2901e-03, 2.2147e-04, 5.8184e-04, 4.0032e-04, 8.3675e-05,\n",
       "        1.0206e-04, 3.1683e-04, 1.2016e-03, 2.1701e-04, 1.0856e-04, 1.2904e-04,\n",
       "        2.5312e-04, 9.9884e-05, 7.6142e-05, 4.9347e-06, 3.8406e-04, 2.5667e-04,\n",
       "        6.0071e-05, 7.1397e-04, 1.5681e-04, 8.2290e-05, 1.2421e-05, 2.4173e-05,\n",
       "        5.7352e-04, 1.3378e-04, 3.0556e-04, 6.8743e-04, 1.4711e-04, 3.5867e-04,\n",
       "        7.5010e-05, 5.4107e-04, 8.4754e-04, 1.8917e-04, 3.6752e-04, 5.2366e-05,\n",
       "        3.0713e-04, 1.4056e-04, 8.2870e-05, 2.9285e-05, 1.9970e-04, 8.5872e-04,\n",
       "        7.3300e-07, 3.2076e-05, 9.9114e-05, 1.1127e-04, 3.5364e-07, 8.1769e-05,\n",
       "        2.7912e-03, 1.8659e-04, 1.1419e-04, 1.5080e-04, 1.0146e-04, 4.6427e-04,\n",
       "        1.2236e-04, 2.4064e-04, 6.1612e-04, 6.2899e-06, 3.4658e-05, 2.8186e-04,\n",
       "        5.1585e-04, 9.0761e-05, 1.5089e-04, 2.7873e-04, 8.7571e-04, 6.1337e-05,\n",
       "        1.7100e-04, 8.8012e-06, 9.4993e-05, 1.6207e-04, 2.1992e-04, 1.4234e-04,\n",
       "        4.1228e-05, 3.4370e-04, 4.1049e-05, 2.1366e-04, 1.9015e-05, 2.8399e-05,\n",
       "        2.2643e-04, 1.7159e-05, 3.0768e-05, 2.4281e-05, 3.7034e-05, 4.2025e-04,\n",
       "        9.2366e-05, 8.5943e-05, 3.4739e-05, 1.0133e-04, 8.5561e-05, 1.6855e-06,\n",
       "        5.0068e-05, 6.6983e-05, 1.9584e-05, 2.1233e-04, 1.1122e-05, 4.9005e-05,\n",
       "        1.3026e-05, 1.0682e-04, 1.4201e-04, 1.7053e-04, 5.2218e-04, 5.7162e-04,\n",
       "        1.4006e-04, 2.7845e-05, 2.8253e-04, 2.0006e-05, 9.8435e-05, 1.4924e-04,\n",
       "        2.1684e-06, 5.2514e-05, 2.5790e-05, 5.8228e-05, 3.7603e-03, 4.5851e-04,\n",
       "        3.7038e-04, 5.6039e-06, 4.9043e-04, 3.3625e-04, 6.0715e-05, 1.0125e-04,\n",
       "        1.0283e-03, 2.6847e-04, 3.9537e-04, 1.8406e-04, 1.0047e-05, 1.9460e-04,\n",
       "        1.8714e-04, 4.2366e-05, 1.4422e-03, 6.1271e-06, 7.7079e-04, 1.5020e-04,\n",
       "        6.8681e-04, 1.4620e-04, 1.9206e-05, 6.6876e-05, 2.0772e-03, 5.0016e-05,\n",
       "        7.6257e-04, 1.2266e-04, 3.1736e-04, 5.7790e-05, 1.6841e-05, 1.2366e-05,\n",
       "        3.5889e-05, 1.1035e-03, 2.9204e-05, 2.3180e-04, 2.6412e-05, 6.0295e-05,\n",
       "        2.9057e-05, 8.0826e-05, 3.1054e-04, 2.5731e-05, 2.2263e-04, 5.8053e-05,\n",
       "        1.8076e-05, 9.3417e-06, 2.6498e-04, 7.5444e-05, 8.1026e-05, 1.8092e-05,\n",
       "        3.2979e-04, 2.4210e-05, 3.1778e-05, 1.0981e-04, 1.7891e-04, 9.8040e-05,\n",
       "        4.7842e-04, 4.0399e-05, 1.4755e-04, 2.1241e-05, 3.0033e-04, 4.8156e-05,\n",
       "        2.1269e-06, 1.6247e-04, 1.0273e-04, 2.5836e-04, 1.5295e-04, 4.0710e-05,\n",
       "        4.9883e-04, 1.7609e-04, 3.3255e-04, 7.2280e-05, 2.2132e-04, 8.2744e-04,\n",
       "        2.6602e-04, 1.4573e-04, 7.8068e-05, 8.3857e-05, 4.1114e-04, 5.8190e-05,\n",
       "        1.7493e-03, 1.1050e-03, 9.4908e-05, 4.6400e-05, 4.4701e-04, 4.9367e-05,\n",
       "        1.7028e-04, 1.1470e-06, 2.0271e-04, 4.4296e-05, 1.4832e-04, 1.1561e-06,\n",
       "        1.7952e-04, 9.2501e-05, 3.0018e-05, 9.0165e-05, 1.1462e-04, 2.8158e-05,\n",
       "        1.7301e-04, 5.1477e-05, 3.6234e-05, 2.3332e-04, 1.8758e-04, 1.6451e-04,\n",
       "        2.1997e-04, 6.9918e-05, 7.6628e-05, 1.0817e-04, 6.0997e-05, 5.5522e-05,\n",
       "        1.1318e-04, 1.5768e-05, 1.3057e-04, 3.9917e-04, 3.4876e-04, 6.4651e-05,\n",
       "        3.9460e-05, 2.5445e-04, 3.0626e-04, 3.1351e-06, 2.3240e-04, 1.0256e-04,\n",
       "        7.2215e-05, 8.3685e-05, 9.0987e-05, 4.2431e-05, 1.1703e-05, 2.9875e-05,\n",
       "        1.1271e-03, 3.9527e-04, 3.6676e-05, 1.1755e-04, 8.7721e-04, 2.0316e-04,\n",
       "        1.9652e-04, 2.3862e-05, 4.0995e-06, 8.2381e-05, 4.1850e-05, 4.3563e-04,\n",
       "        9.1013e-05, 1.1182e-04, 5.5147e-05, 3.0913e-05, 7.0325e-04, 2.0058e-04,\n",
       "        5.2655e-04, 1.4724e-04, 4.3849e-05, 9.1825e-05, 2.6842e-05, 8.2581e-05,\n",
       "        1.2430e-04, 1.3515e-04, 5.4652e-05, 3.5349e-05, 1.8247e-04, 8.2107e-05,\n",
       "        1.0797e-04, 5.5288e-05, 3.0306e-05, 3.0948e-04, 1.6363e-04, 3.1133e-04,\n",
       "        1.3115e-04, 1.2198e-04, 9.0575e-06, 2.6438e-06, 1.1338e-04, 2.9774e-05,\n",
       "        9.6740e-05, 5.8859e-05, 2.5853e-04, 3.8741e-05, 1.3972e-04, 3.2829e-06,\n",
       "        2.4440e-04, 1.0079e-04, 1.8220e-04, 3.3092e-04, 9.2569e-06, 3.5992e-05,\n",
       "        1.5421e-04, 7.1791e-05, 2.2897e-04, 2.4850e-04, 3.5642e-05, 3.2090e-05,\n",
       "        1.2746e-04, 4.3963e-06, 4.4736e-05, 7.4598e-05, 6.1744e-04, 2.2272e-05,\n",
       "        1.7453e-04, 7.6298e-05, 4.5211e-07, 3.5932e-05, 1.1223e-04, 1.8360e-05,\n",
       "        6.8986e-05, 4.6728e-04, 1.5705e-05, 8.2420e-06, 4.9107e-04, 2.5861e-05,\n",
       "        3.7976e-05, 2.7593e-05, 7.1015e-05, 3.8499e-05, 1.8207e-04, 4.4597e-06,\n",
       "        1.0643e-04, 3.1762e-05, 1.1451e-05, 1.0522e-04, 4.9609e-05, 3.5373e-05,\n",
       "        6.9285e-05, 4.2248e-05, 7.3461e-05, 7.0302e-05, 7.5663e-05, 8.9192e-05,\n",
       "        1.7745e-04, 2.7337e-05, 3.9250e-06, 6.6352e-05, 1.8536e-06, 6.8671e-06,\n",
       "        1.3162e-04, 2.3776e-04, 4.4021e-05, 1.1286e-04, 2.8797e-05, 8.3561e-06,\n",
       "        1.8418e-04, 3.3334e-05, 1.4366e-04, 5.2067e-05, 7.3907e-05, 1.4645e-05,\n",
       "        5.1218e-05, 1.0129e-04, 8.7579e-05, 1.2335e-04, 5.5284e-06, 1.0894e-05,\n",
       "        3.3098e-05, 1.9139e-05, 6.2115e-06, 1.0664e-05, 3.2554e-05, 1.0165e-04,\n",
       "        6.8390e-06, 8.9959e-05], dtype=torch.float64)"
      ]
     },
     "execution_count": 39,
     "metadata": {},
     "output_type": "execute_result"
    }
   ],
   "source": [
    "circuit(1, list(generator.parameters())[0].detach())"
   ]
  },
  {
   "cell_type": "code",
   "execution_count": 40,
   "id": "16ca259c-c8a8-400c-9963-fb596d94e253",
   "metadata": {},
   "outputs": [
    {
     "data": {
      "text/plain": [
       "tensor([4.01044794e-01, 5.94451783e-03, 7.44565870e-03, 6.00456347e-05,\n",
       "        5.28401585e-03, 4.00304231e-05, 4.00304231e-05, 0.00000000e+00,\n",
       "        1.11885033e-02, 8.00608462e-05, 2.20167327e-04, 0.00000000e+00,\n",
       "        4.00304231e-05, 0.00000000e+00, 0.00000000e+00, 0.00000000e+00,\n",
       "        5.24818862e-01, 1.10083664e-03, 2.08158200e-03, 0.00000000e+00,\n",
       "        1.04079100e-03, 2.00152116e-05, 2.00152116e-05, 0.00000000e+00,\n",
       "        2.60197750e-03, 2.00152116e-05, 2.00152116e-05, 0.00000000e+00,\n",
       "        0.00000000e+00, 0.00000000e+00, 0.00000000e+00, 0.00000000e+00,\n",
       "        1.01477123e-02, 2.00152116e-05, 1.00076058e-04, 0.00000000e+00,\n",
       "        6.00456347e-05, 0.00000000e+00, 0.00000000e+00, 0.00000000e+00,\n",
       "        1.00076058e-04, 0.00000000e+00, 0.00000000e+00, 0.00000000e+00,\n",
       "        0.00000000e+00, 0.00000000e+00, 0.00000000e+00, 0.00000000e+00,\n",
       "        2.34177975e-03, 0.00000000e+00, 0.00000000e+00, 0.00000000e+00,\n",
       "        0.00000000e+00, 0.00000000e+00, 0.00000000e+00, 0.00000000e+00,\n",
       "        0.00000000e+00, 0.00000000e+00, 0.00000000e+00, 0.00000000e+00,\n",
       "        0.00000000e+00, 0.00000000e+00, 0.00000000e+00, 0.00000000e+00,\n",
       "        5.86445699e-03, 4.00304231e-05, 2.00152116e-05, 0.00000000e+00,\n",
       "        2.00152116e-05, 0.00000000e+00, 0.00000000e+00, 0.00000000e+00,\n",
       "        8.00608462e-05, 0.00000000e+00, 0.00000000e+00, 0.00000000e+00,\n",
       "        0.00000000e+00, 0.00000000e+00, 0.00000000e+00, 0.00000000e+00,\n",
       "        8.80669309e-04, 0.00000000e+00, 0.00000000e+00, 0.00000000e+00,\n",
       "        0.00000000e+00, 0.00000000e+00, 0.00000000e+00, 0.00000000e+00,\n",
       "        0.00000000e+00, 0.00000000e+00, 0.00000000e+00, 0.00000000e+00,\n",
       "        0.00000000e+00, 0.00000000e+00, 0.00000000e+00, 0.00000000e+00,\n",
       "        2.00152116e-05, 0.00000000e+00, 0.00000000e+00, 0.00000000e+00,\n",
       "        0.00000000e+00, 0.00000000e+00, 0.00000000e+00, 0.00000000e+00,\n",
       "        0.00000000e+00, 0.00000000e+00, 0.00000000e+00, 0.00000000e+00,\n",
       "        0.00000000e+00, 0.00000000e+00, 0.00000000e+00, 0.00000000e+00,\n",
       "        0.00000000e+00, 0.00000000e+00, 0.00000000e+00, 0.00000000e+00,\n",
       "        0.00000000e+00, 0.00000000e+00, 0.00000000e+00, 0.00000000e+00,\n",
       "        0.00000000e+00, 0.00000000e+00, 0.00000000e+00, 0.00000000e+00,\n",
       "        0.00000000e+00, 0.00000000e+00, 0.00000000e+00, 0.00000000e+00,\n",
       "        8.24626716e-03, 0.00000000e+00, 4.00304231e-05, 0.00000000e+00,\n",
       "        0.00000000e+00, 0.00000000e+00, 0.00000000e+00, 0.00000000e+00,\n",
       "        1.00076058e-04, 0.00000000e+00, 0.00000000e+00, 0.00000000e+00,\n",
       "        0.00000000e+00, 0.00000000e+00, 0.00000000e+00, 0.00000000e+00,\n",
       "        1.82138425e-03, 2.00152116e-05, 0.00000000e+00, 0.00000000e+00,\n",
       "        0.00000000e+00, 0.00000000e+00, 0.00000000e+00, 0.00000000e+00,\n",
       "        2.00152116e-05, 0.00000000e+00, 0.00000000e+00, 0.00000000e+00,\n",
       "        0.00000000e+00, 0.00000000e+00, 0.00000000e+00, 0.00000000e+00,\n",
       "        1.00076058e-04, 0.00000000e+00, 0.00000000e+00, 0.00000000e+00,\n",
       "        0.00000000e+00, 0.00000000e+00, 0.00000000e+00, 0.00000000e+00,\n",
       "        0.00000000e+00, 0.00000000e+00, 0.00000000e+00, 0.00000000e+00,\n",
       "        0.00000000e+00, 0.00000000e+00, 0.00000000e+00, 0.00000000e+00,\n",
       "        0.00000000e+00, 0.00000000e+00, 0.00000000e+00, 0.00000000e+00,\n",
       "        0.00000000e+00, 0.00000000e+00, 0.00000000e+00, 0.00000000e+00,\n",
       "        0.00000000e+00, 0.00000000e+00, 0.00000000e+00, 0.00000000e+00,\n",
       "        0.00000000e+00, 0.00000000e+00, 0.00000000e+00, 0.00000000e+00,\n",
       "        6.00456347e-05, 0.00000000e+00, 0.00000000e+00, 0.00000000e+00,\n",
       "        0.00000000e+00, 0.00000000e+00, 0.00000000e+00, 0.00000000e+00,\n",
       "        0.00000000e+00, 0.00000000e+00, 0.00000000e+00, 0.00000000e+00,\n",
       "        0.00000000e+00, 0.00000000e+00, 0.00000000e+00, 0.00000000e+00,\n",
       "        2.00152116e-05, 0.00000000e+00, 0.00000000e+00, 0.00000000e+00,\n",
       "        0.00000000e+00, 0.00000000e+00, 0.00000000e+00, 0.00000000e+00,\n",
       "        0.00000000e+00, 0.00000000e+00, 0.00000000e+00, 0.00000000e+00,\n",
       "        0.00000000e+00, 0.00000000e+00, 0.00000000e+00, 0.00000000e+00,\n",
       "        0.00000000e+00, 0.00000000e+00, 0.00000000e+00, 0.00000000e+00,\n",
       "        0.00000000e+00, 0.00000000e+00, 0.00000000e+00, 0.00000000e+00,\n",
       "        0.00000000e+00, 0.00000000e+00, 0.00000000e+00, 0.00000000e+00,\n",
       "        0.00000000e+00, 0.00000000e+00, 0.00000000e+00, 0.00000000e+00,\n",
       "        0.00000000e+00, 0.00000000e+00, 0.00000000e+00, 0.00000000e+00,\n",
       "        0.00000000e+00, 0.00000000e+00, 0.00000000e+00, 0.00000000e+00,\n",
       "        0.00000000e+00, 0.00000000e+00, 0.00000000e+00, 0.00000000e+00,\n",
       "        0.00000000e+00, 0.00000000e+00, 0.00000000e+00, 0.00000000e+00,\n",
       "        5.48416797e-03, 4.00304231e-05, 2.00152116e-05, 0.00000000e+00,\n",
       "        0.00000000e+00, 0.00000000e+00, 0.00000000e+00, 0.00000000e+00,\n",
       "        1.00076058e-04, 0.00000000e+00, 0.00000000e+00, 0.00000000e+00,\n",
       "        0.00000000e+00, 0.00000000e+00, 0.00000000e+00, 0.00000000e+00,\n",
       "        1.00076058e-03, 0.00000000e+00, 0.00000000e+00, 0.00000000e+00,\n",
       "        0.00000000e+00, 0.00000000e+00, 0.00000000e+00, 0.00000000e+00,\n",
       "        0.00000000e+00, 0.00000000e+00, 0.00000000e+00, 0.00000000e+00,\n",
       "        0.00000000e+00, 0.00000000e+00, 0.00000000e+00, 0.00000000e+00,\n",
       "        6.00456347e-05, 0.00000000e+00, 0.00000000e+00, 0.00000000e+00,\n",
       "        0.00000000e+00, 0.00000000e+00, 0.00000000e+00, 0.00000000e+00,\n",
       "        0.00000000e+00, 0.00000000e+00, 0.00000000e+00, 0.00000000e+00,\n",
       "        0.00000000e+00, 0.00000000e+00, 0.00000000e+00, 0.00000000e+00,\n",
       "        2.00152116e-05, 0.00000000e+00, 0.00000000e+00, 0.00000000e+00,\n",
       "        0.00000000e+00, 0.00000000e+00, 0.00000000e+00, 0.00000000e+00,\n",
       "        0.00000000e+00, 0.00000000e+00, 0.00000000e+00, 0.00000000e+00,\n",
       "        0.00000000e+00, 0.00000000e+00, 0.00000000e+00, 0.00000000e+00,\n",
       "        2.00152116e-05, 0.00000000e+00, 0.00000000e+00, 0.00000000e+00,\n",
       "        0.00000000e+00, 0.00000000e+00, 0.00000000e+00, 0.00000000e+00,\n",
       "        0.00000000e+00, 0.00000000e+00, 0.00000000e+00, 0.00000000e+00,\n",
       "        0.00000000e+00, 0.00000000e+00, 0.00000000e+00, 0.00000000e+00,\n",
       "        0.00000000e+00, 0.00000000e+00, 0.00000000e+00, 0.00000000e+00,\n",
       "        0.00000000e+00, 0.00000000e+00, 0.00000000e+00, 0.00000000e+00,\n",
       "        0.00000000e+00, 0.00000000e+00, 0.00000000e+00, 0.00000000e+00,\n",
       "        0.00000000e+00, 0.00000000e+00, 0.00000000e+00, 0.00000000e+00,\n",
       "        0.00000000e+00, 0.00000000e+00, 0.00000000e+00, 0.00000000e+00,\n",
       "        0.00000000e+00, 0.00000000e+00, 0.00000000e+00, 0.00000000e+00,\n",
       "        0.00000000e+00, 0.00000000e+00, 0.00000000e+00, 0.00000000e+00,\n",
       "        0.00000000e+00, 0.00000000e+00, 0.00000000e+00, 0.00000000e+00,\n",
       "        0.00000000e+00, 0.00000000e+00, 0.00000000e+00, 0.00000000e+00,\n",
       "        0.00000000e+00, 0.00000000e+00, 0.00000000e+00, 0.00000000e+00,\n",
       "        0.00000000e+00, 0.00000000e+00, 0.00000000e+00, 0.00000000e+00,\n",
       "        0.00000000e+00, 0.00000000e+00, 0.00000000e+00, 0.00000000e+00,\n",
       "        2.00152116e-05, 0.00000000e+00, 0.00000000e+00, 0.00000000e+00,\n",
       "        0.00000000e+00, 0.00000000e+00, 0.00000000e+00, 0.00000000e+00,\n",
       "        0.00000000e+00, 0.00000000e+00, 0.00000000e+00, 0.00000000e+00,\n",
       "        0.00000000e+00, 0.00000000e+00, 0.00000000e+00, 0.00000000e+00,\n",
       "        0.00000000e+00, 0.00000000e+00, 0.00000000e+00, 0.00000000e+00,\n",
       "        0.00000000e+00, 0.00000000e+00, 0.00000000e+00, 0.00000000e+00,\n",
       "        0.00000000e+00, 0.00000000e+00, 0.00000000e+00, 0.00000000e+00,\n",
       "        0.00000000e+00, 0.00000000e+00, 0.00000000e+00, 0.00000000e+00,\n",
       "        0.00000000e+00, 0.00000000e+00, 0.00000000e+00, 0.00000000e+00,\n",
       "        0.00000000e+00, 0.00000000e+00, 0.00000000e+00, 0.00000000e+00,\n",
       "        0.00000000e+00, 0.00000000e+00, 0.00000000e+00, 0.00000000e+00,\n",
       "        0.00000000e+00, 0.00000000e+00, 0.00000000e+00, 0.00000000e+00,\n",
       "        0.00000000e+00, 0.00000000e+00, 0.00000000e+00, 0.00000000e+00,\n",
       "        0.00000000e+00, 0.00000000e+00, 0.00000000e+00, 0.00000000e+00,\n",
       "        0.00000000e+00, 0.00000000e+00, 0.00000000e+00, 0.00000000e+00,\n",
       "        0.00000000e+00, 0.00000000e+00, 0.00000000e+00, 0.00000000e+00,\n",
       "        0.00000000e+00, 0.00000000e+00, 0.00000000e+00, 0.00000000e+00,\n",
       "        0.00000000e+00, 0.00000000e+00, 0.00000000e+00, 0.00000000e+00,\n",
       "        0.00000000e+00, 0.00000000e+00, 0.00000000e+00, 0.00000000e+00,\n",
       "        0.00000000e+00, 0.00000000e+00, 0.00000000e+00, 0.00000000e+00,\n",
       "        0.00000000e+00, 0.00000000e+00, 0.00000000e+00, 0.00000000e+00,\n",
       "        0.00000000e+00, 0.00000000e+00, 0.00000000e+00, 0.00000000e+00,\n",
       "        0.00000000e+00, 0.00000000e+00, 0.00000000e+00, 0.00000000e+00,\n",
       "        0.00000000e+00, 0.00000000e+00, 0.00000000e+00, 0.00000000e+00,\n",
       "        0.00000000e+00, 0.00000000e+00, 0.00000000e+00, 0.00000000e+00,\n",
       "        0.00000000e+00, 0.00000000e+00, 0.00000000e+00, 0.00000000e+00,\n",
       "        0.00000000e+00, 0.00000000e+00, 0.00000000e+00, 0.00000000e+00,\n",
       "        0.00000000e+00, 0.00000000e+00, 0.00000000e+00, 0.00000000e+00,\n",
       "        0.00000000e+00, 0.00000000e+00, 0.00000000e+00, 0.00000000e+00,\n",
       "        0.00000000e+00, 0.00000000e+00, 0.00000000e+00, 0.00000000e+00,\n",
       "        0.00000000e+00, 0.00000000e+00, 0.00000000e+00, 0.00000000e+00,\n",
       "        0.00000000e+00, 0.00000000e+00, 0.00000000e+00, 0.00000000e+00], requires_grad=True)"
      ]
     },
     "execution_count": 40,
     "metadata": {},
     "output_type": "execute_result"
    }
   ],
   "source": [
    "counts_full_norm"
   ]
  },
  {
   "cell_type": "code",
   "execution_count": 41,
   "id": "3c6bda05-3789-4cd9-873d-9570b75741dc",
   "metadata": {},
   "outputs": [
    {
     "data": {
      "text/plain": [
       "tensor(0.4871, dtype=torch.float64)"
      ]
     },
     "execution_count": 41,
     "metadata": {},
     "output_type": "execute_result"
    }
   ],
   "source": [
    "circuit(1, list(generator.parameters())[0].detach())[16]"
   ]
  },
  {
   "cell_type": "code",
   "execution_count": 42,
   "id": "c742e6d0-360d-4a6f-a1e3-8c327a4c7bde",
   "metadata": {},
   "outputs": [
    {
     "data": {
      "text/plain": [
       "16"
      ]
     },
     "execution_count": 42,
     "metadata": {},
     "output_type": "execute_result"
    }
   ],
   "source": [
    "np.argmax(counts_full_norm)"
   ]
  },
  {
   "cell_type": "code",
   "execution_count": 43,
   "id": "de4d9a5f-ced8-4c76-bfc3-8a36bd1fda5c",
   "metadata": {},
   "outputs": [
    {
     "data": {
      "text/plain": [
       "tensor([3.5453e-01, 5.9255e-04, 1.4604e-03, 6.5610e-04, 1.0720e-02, 5.6089e-04,\n",
       "        3.2767e-04, 1.5092e-07, 3.7090e-03, 8.4574e-04, 4.6585e-04, 9.3493e-05,\n",
       "        1.0022e-03, 3.4642e-05, 5.1991e-06, 1.2874e-04, 4.8714e-01, 2.0694e-03,\n",
       "        1.0632e-03, 3.4881e-04, 2.0739e-04, 9.1413e-04, 6.7175e-05, 3.8215e-05,\n",
       "        2.7604e-03, 5.4880e-04, 2.4224e-04, 2.0731e-04, 4.5783e-04, 4.2391e-04,\n",
       "        1.9446e-04, 1.6295e-04, 2.4739e-03, 6.4646e-04, 7.1207e-04, 2.7062e-04,\n",
       "        4.3232e-05, 2.8240e-04, 4.4328e-07, 7.4132e-05, 3.3674e-03, 6.7749e-05,\n",
       "        1.4466e-03, 1.1073e-04, 2.2977e-05, 2.8228e-05, 1.9009e-04, 8.5548e-05,\n",
       "        3.3240e-03, 9.2692e-04, 3.0553e-05, 2.6011e-04, 5.5590e-05, 3.1653e-04,\n",
       "        1.4226e-04, 7.0320e-05, 2.8145e-04, 4.1085e-04, 5.4960e-04, 4.5358e-04,\n",
       "        1.5917e-03, 3.2822e-05, 8.0806e-05, 2.8678e-04, 1.1503e-02, 2.3960e-04,\n",
       "        1.2344e-03, 5.5633e-04, 2.4339e-04, 4.7409e-04, 3.1269e-04, 5.3748e-05,\n",
       "        4.8081e-04, 3.6741e-06, 2.5504e-04, 1.0344e-04, 2.8749e-05, 2.5889e-05,\n",
       "        2.4833e-05, 1.4726e-05, 2.0477e-03, 5.7883e-04, 8.6980e-04, 1.0203e-05,\n",
       "        2.4431e-04, 6.4714e-04, 3.4676e-04, 2.7360e-05, 2.2662e-04, 3.6048e-05,\n",
       "        1.4740e-04, 1.2218e-04, 2.0452e-04, 2.0235e-05, 1.9696e-04, 1.5094e-04,\n",
       "        1.5833e-03, 1.4036e-04, 1.1703e-03, 8.0755e-06, 4.3350e-04, 3.0013e-05,\n",
       "        1.8555e-04, 2.2518e-05, 2.5606e-06, 3.0930e-05, 9.3739e-05, 8.5958e-05,\n",
       "        8.2548e-05, 9.0592e-06, 5.2409e-05, 1.1089e-04, 4.7878e-04, 5.2678e-04,\n",
       "        1.8253e-04, 2.1240e-04, 2.7664e-04, 1.2999e-04, 1.4013e-04, 1.1369e-04,\n",
       "        9.6176e-05, 8.7804e-06, 1.0177e-04, 9.2251e-05, 1.2955e-04, 2.8982e-05,\n",
       "        8.6682e-06, 6.1764e-05, 1.6794e-03, 7.3942e-04, 3.5932e-04, 6.8207e-04,\n",
       "        9.3077e-04, 4.3908e-04, 4.7992e-05, 8.8730e-05, 1.3244e-03, 2.5429e-04,\n",
       "        1.0740e-03, 3.2981e-04, 4.8447e-04, 3.8863e-06, 6.9116e-05, 7.6434e-05,\n",
       "        4.0388e-04, 1.2901e-03, 2.2147e-04, 5.8184e-04, 4.0032e-04, 8.3675e-05,\n",
       "        1.0206e-04, 3.1683e-04, 1.2016e-03, 2.1701e-04, 1.0856e-04, 1.2904e-04,\n",
       "        2.5312e-04, 9.9884e-05, 7.6142e-05, 4.9347e-06, 3.8406e-04, 2.5667e-04,\n",
       "        6.0071e-05, 7.1397e-04, 1.5681e-04, 8.2290e-05, 1.2421e-05, 2.4173e-05,\n",
       "        5.7352e-04, 1.3378e-04, 3.0556e-04, 6.8743e-04, 1.4711e-04, 3.5867e-04,\n",
       "        7.5010e-05, 5.4107e-04, 8.4754e-04, 1.8917e-04, 3.6752e-04, 5.2366e-05,\n",
       "        3.0713e-04, 1.4056e-04, 8.2870e-05, 2.9285e-05, 1.9970e-04, 8.5872e-04,\n",
       "        7.3300e-07, 3.2076e-05, 9.9114e-05, 1.1127e-04, 3.5364e-07, 8.1769e-05,\n",
       "        2.7912e-03, 1.8659e-04, 1.1419e-04, 1.5080e-04, 1.0146e-04, 4.6427e-04,\n",
       "        1.2236e-04, 2.4064e-04, 6.1612e-04, 6.2899e-06, 3.4658e-05, 2.8186e-04,\n",
       "        5.1585e-04, 9.0761e-05, 1.5089e-04, 2.7873e-04, 8.7571e-04, 6.1337e-05,\n",
       "        1.7100e-04, 8.8012e-06, 9.4993e-05, 1.6207e-04, 2.1992e-04, 1.4234e-04,\n",
       "        4.1228e-05, 3.4370e-04, 4.1049e-05, 2.1366e-04, 1.9015e-05, 2.8399e-05,\n",
       "        2.2643e-04, 1.7159e-05, 3.0768e-05, 2.4281e-05, 3.7034e-05, 4.2025e-04,\n",
       "        9.2366e-05, 8.5943e-05, 3.4739e-05, 1.0133e-04, 8.5561e-05, 1.6855e-06,\n",
       "        5.0068e-05, 6.6983e-05, 1.9584e-05, 2.1233e-04, 1.1122e-05, 4.9005e-05,\n",
       "        1.3026e-05, 1.0682e-04, 1.4201e-04, 1.7053e-04, 5.2218e-04, 5.7162e-04,\n",
       "        1.4006e-04, 2.7845e-05, 2.8253e-04, 2.0006e-05, 9.8435e-05, 1.4924e-04,\n",
       "        2.1684e-06, 5.2514e-05, 2.5790e-05, 5.8228e-05, 3.7603e-03, 4.5851e-04,\n",
       "        3.7038e-04, 5.6039e-06, 4.9043e-04, 3.3625e-04, 6.0715e-05, 1.0125e-04,\n",
       "        1.0283e-03, 2.6847e-04, 3.9537e-04, 1.8406e-04, 1.0047e-05, 1.9460e-04,\n",
       "        1.8714e-04, 4.2366e-05, 1.4422e-03, 6.1271e-06, 7.7079e-04, 1.5020e-04,\n",
       "        6.8681e-04, 1.4620e-04, 1.9206e-05, 6.6876e-05, 2.0772e-03, 5.0016e-05,\n",
       "        7.6257e-04, 1.2266e-04, 3.1736e-04, 5.7790e-05, 1.6841e-05, 1.2366e-05,\n",
       "        3.5889e-05, 1.1035e-03, 2.9204e-05, 2.3180e-04, 2.6412e-05, 6.0295e-05,\n",
       "        2.9057e-05, 8.0826e-05, 3.1054e-04, 2.5731e-05, 2.2263e-04, 5.8053e-05,\n",
       "        1.8076e-05, 9.3417e-06, 2.6498e-04, 7.5444e-05, 8.1026e-05, 1.8092e-05,\n",
       "        3.2979e-04, 2.4210e-05, 3.1778e-05, 1.0981e-04, 1.7891e-04, 9.8040e-05,\n",
       "        4.7842e-04, 4.0399e-05, 1.4755e-04, 2.1241e-05, 3.0033e-04, 4.8156e-05,\n",
       "        2.1269e-06, 1.6247e-04, 1.0273e-04, 2.5836e-04, 1.5295e-04, 4.0710e-05,\n",
       "        4.9883e-04, 1.7609e-04, 3.3255e-04, 7.2280e-05, 2.2132e-04, 8.2744e-04,\n",
       "        2.6602e-04, 1.4573e-04, 7.8068e-05, 8.3857e-05, 4.1114e-04, 5.8190e-05,\n",
       "        1.7493e-03, 1.1050e-03, 9.4908e-05, 4.6400e-05, 4.4701e-04, 4.9367e-05,\n",
       "        1.7028e-04, 1.1470e-06, 2.0271e-04, 4.4296e-05, 1.4832e-04, 1.1561e-06,\n",
       "        1.7952e-04, 9.2501e-05, 3.0018e-05, 9.0165e-05, 1.1462e-04, 2.8158e-05,\n",
       "        1.7301e-04, 5.1477e-05, 3.6234e-05, 2.3332e-04, 1.8758e-04, 1.6451e-04,\n",
       "        2.1997e-04, 6.9918e-05, 7.6628e-05, 1.0817e-04, 6.0997e-05, 5.5522e-05,\n",
       "        1.1318e-04, 1.5768e-05, 1.3057e-04, 3.9917e-04, 3.4876e-04, 6.4651e-05,\n",
       "        3.9460e-05, 2.5445e-04, 3.0626e-04, 3.1351e-06, 2.3240e-04, 1.0256e-04,\n",
       "        7.2215e-05, 8.3685e-05, 9.0987e-05, 4.2431e-05, 1.1703e-05, 2.9875e-05,\n",
       "        1.1271e-03, 3.9527e-04, 3.6676e-05, 1.1755e-04, 8.7721e-04, 2.0316e-04,\n",
       "        1.9652e-04, 2.3862e-05, 4.0995e-06, 8.2381e-05, 4.1850e-05, 4.3563e-04,\n",
       "        9.1013e-05, 1.1182e-04, 5.5147e-05, 3.0913e-05, 7.0325e-04, 2.0058e-04,\n",
       "        5.2655e-04, 1.4724e-04, 4.3849e-05, 9.1825e-05, 2.6842e-05, 8.2581e-05,\n",
       "        1.2430e-04, 1.3515e-04, 5.4652e-05, 3.5349e-05, 1.8247e-04, 8.2107e-05,\n",
       "        1.0797e-04, 5.5288e-05, 3.0306e-05, 3.0948e-04, 1.6363e-04, 3.1133e-04,\n",
       "        1.3115e-04, 1.2198e-04, 9.0575e-06, 2.6438e-06, 1.1338e-04, 2.9774e-05,\n",
       "        9.6740e-05, 5.8859e-05, 2.5853e-04, 3.8741e-05, 1.3972e-04, 3.2829e-06,\n",
       "        2.4440e-04, 1.0079e-04, 1.8220e-04, 3.3092e-04, 9.2569e-06, 3.5992e-05,\n",
       "        1.5421e-04, 7.1791e-05, 2.2897e-04, 2.4850e-04, 3.5642e-05, 3.2090e-05,\n",
       "        1.2746e-04, 4.3963e-06, 4.4736e-05, 7.4598e-05, 6.1744e-04, 2.2272e-05,\n",
       "        1.7453e-04, 7.6298e-05, 4.5211e-07, 3.5932e-05, 1.1223e-04, 1.8360e-05,\n",
       "        6.8986e-05, 4.6728e-04, 1.5705e-05, 8.2420e-06, 4.9107e-04, 2.5861e-05,\n",
       "        3.7976e-05, 2.7593e-05, 7.1015e-05, 3.8499e-05, 1.8207e-04, 4.4597e-06,\n",
       "        1.0643e-04, 3.1762e-05, 1.1451e-05, 1.0522e-04, 4.9609e-05, 3.5373e-05,\n",
       "        6.9285e-05, 4.2248e-05, 7.3461e-05, 7.0302e-05, 7.5663e-05, 8.9192e-05,\n",
       "        1.7745e-04, 2.7337e-05, 3.9250e-06, 6.6352e-05, 1.8536e-06, 6.8671e-06,\n",
       "        1.3162e-04, 2.3776e-04, 4.4021e-05, 1.1286e-04, 2.8797e-05, 8.3561e-06,\n",
       "        1.8418e-04, 3.3334e-05, 1.4366e-04, 5.2067e-05, 7.3907e-05, 1.4645e-05,\n",
       "        5.1218e-05, 1.0129e-04, 8.7579e-05, 1.2335e-04, 5.5284e-06, 1.0894e-05,\n",
       "        3.3098e-05, 1.9139e-05, 6.2115e-06, 1.0664e-05, 3.2554e-05, 1.0165e-04,\n",
       "        6.8390e-06, 8.9959e-05], dtype=torch.float64)"
      ]
     },
     "execution_count": 43,
     "metadata": {},
     "output_type": "execute_result"
    }
   ],
   "source": [
    "circuit(1, list(generator.parameters())[0].detach())"
   ]
  }
 ],
 "metadata": {
  "kernelspec": {
   "display_name": "tfq",
   "language": "python",
   "name": "tfq"
  },
  "language_info": {
   "codemirror_mode": {
    "name": "ipython",
    "version": 3
   },
   "file_extension": ".py",
   "mimetype": "text/x-python",
   "name": "python",
   "nbconvert_exporter": "python",
   "pygments_lexer": "ipython3",
   "version": "3.9.12"
  }
 },
 "nbformat": 4,
 "nbformat_minor": 5
}
