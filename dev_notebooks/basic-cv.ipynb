{
 "cells": [
  {
   "cell_type": "code",
   "execution_count": 1,
   "id": "23567f97-58cc-4085-bf1c-ea50ac7f53a7",
   "metadata": {},
   "outputs": [],
   "source": [
    "import matplotlib.pyplot as plt\n",
    "import pennylane as qml\n",
    "from pennylane import numpy as np\n",
    "import time\n",
    "from pennylane.optimize import AdamOptimizer\n",
    "import qutip"
   ]
  },
  {
   "cell_type": "code",
   "execution_count": 2,
   "id": "7e19958e-228b-4d4e-bd2d-e0d1cd9248d8",
   "metadata": {},
   "outputs": [],
   "source": [
    "dev = qml.device('lightning.qubit', wires=3)"
   ]
  },
  {
   "cell_type": "code",
   "execution_count": 3,
   "id": "8a684c67-54b4-4233-b93b-f63b0ca70570",
   "metadata": {},
   "outputs": [],
   "source": [
    "N = 400"
   ]
  },
  {
   "cell_type": "code",
   "execution_count": 4,
   "id": "8dc12198-1f99-44ca-a1ec-3e757ce002d4",
   "metadata": {},
   "outputs": [],
   "source": [
    "data = np.random.normal(loc=0,scale=1.5, size=N)"
   ]
  },
  {
   "cell_type": "code",
   "execution_count": 5,
   "id": "73f91350-4e2f-4be0-bde4-26eeccb3a8f8",
   "metadata": {},
   "outputs": [],
   "source": [
    "data = data/np.max(np.abs(data))"
   ]
  },
  {
   "cell_type": "code",
   "execution_count": 6,
   "id": "013d6ec6-34a3-4771-8446-ec6adce1582c",
   "metadata": {
    "tags": []
   },
   "outputs": [],
   "source": [
    "values, counts = np.histogram(data)"
   ]
  },
  {
   "cell_type": "code",
   "execution_count": 7,
   "id": "7fb34cfc-6c85-44ba-9b71-43bc8bc906f7",
   "metadata": {},
   "outputs": [
    {
     "data": {
      "image/png": "[encoded data removed]",
      "text/plain": [
       "<Figure size 432x288 with 1 Axes>"
      ]
     },
     "metadata": {
      "needs_background": "light"
     },
     "output_type": "display_data"
    }
   ],
   "source": [
    "from scipy.stats import norm\n",
    "x_axis = np.arange(0, 13, 0.001)\n",
    "# Mean = 0, SD = 2.\n",
    "plt.plot(x_axis, norm.pdf(x_axis,7,1.5))\n",
    "plt.show()\n"
   ]
  },
  {
   "cell_type": "code",
   "execution_count": 8,
   "id": "22c64642-1ce3-4a75-a521-3bd81e12d1a1",
   "metadata": {},
   "outputs": [
    {
     "data": {
      "text/plain": [
       "Text(0.5, 0, 'i')"
      ]
     },
     "execution_count": 8,
     "metadata": {},
     "output_type": "execute_result"
    },
    {
     "data": {
      "image/png": "[encoded data removed]",
      "text/plain": [
       "<Figure size 432x288 with 1 Axes>"
      ]
     },
     "metadata": {
      "needs_background": "light"
     },
     "output_type": "display_data"
    }
   ],
   "source": [
    "plt.hist(data, histtype='step')#, 'b.', markersize=12)\n",
    "plt.ylabel('P_i')\n",
    "plt.xlabel('i')"
   ]
  },
  {
   "cell_type": "code",
   "execution_count": 9,
   "id": "6a397db5-5103-4967-a139-c9b7a850d1b4",
   "metadata": {},
   "outputs": [],
   "source": [
    "data = (data+1)*np.pi/2"
   ]
  },
  {
   "cell_type": "code",
   "execution_count": 10,
   "id": "e29816d4-f9a7-4e14-a066-40a02163b9f6",
   "metadata": {},
   "outputs": [
    {
     "data": {
      "text/plain": [
       "Text(0.5, 0, 'i')"
      ]
     },
     "execution_count": 10,
     "metadata": {},
     "output_type": "execute_result"
    },
    {
     "data": {
      "image/png": "[encoded data removed]",
      "text/plain": [
       "<Figure size 432x288 with 1 Axes>"
      ]
     },
     "metadata": {
      "needs_background": "light"
     },
     "output_type": "display_data"
    }
   ],
   "source": [
    "plt.hist(data, histtype='step')#, 'b.', markersize=12)\n",
    "plt.ylabel('P_i')\n",
    "plt.xlabel('i')"
   ]
  },
  {
   "cell_type": "code",
   "execution_count": 11,
   "id": "3becaa22-773b-4806-b531-e23f50c4bd81",
   "metadata": {},
   "outputs": [],
   "source": [
    "data_dev = qml.device('lightning.qubit', wires=1)"
   ]
  },
  {
   "cell_type": "code",
   "execution_count": 12,
   "id": "dc025a19-ea39-430b-b6fb-1e91fbc5fd7e",
   "metadata": {},
   "outputs": [],
   "source": [
    "@qml.qnode(data_dev)\n",
    "def data_dev_circ(data):\n",
    "    qml.RY(data, wires=0)\n",
    "    return qml.expval(qml.PauliZ(0))"
   ]
  },
  {
   "cell_type": "code",
   "execution_count": 13,
   "id": "ade2d6b7-5602-426f-815e-433b663da88d",
   "metadata": {},
   "outputs": [
    {
     "data": {
      "text/plain": [
       "(array([ 3., 13.,  6., 17., 25., 30., 27., 18., 30., 20., 39., 31., 28.,\n",
       "        27., 20., 18., 23., 10.,  6.,  9.]),\n",
       " tensor([-1.        , -0.90111869, -0.80223738, -0.70335608, -0.60447477,\n",
       "         -0.50559346, -0.40671215, -0.30783085, -0.20894954, -0.11006823,\n",
       "         -0.01118692,  0.08769438,  0.18657569,  0.285457  ,  0.38433831,\n",
       "          0.48321961,  0.58210092,  0.68098223,  0.77986354,  0.87874484,\n",
       "          0.97762615], requires_grad=True),\n",
       " <BarContainer object of 20 artists>)"
      ]
     },
     "execution_count": 13,
     "metadata": {},
     "output_type": "execute_result"
    },
    {
     "data": {
      "image/png": "[encoded data removed]",
      "text/plain": [
       "<Figure size 432x288 with 1 Axes>"
      ]
     },
     "metadata": {
      "needs_background": "light"
     },
     "output_type": "display_data"
    }
   ],
   "source": [
    "plt.hist(data_dev_circ(data), bins=20)"
   ]
  },
  {
   "cell_type": "code",
   "execution_count": 14,
   "id": "bcb6ed34-b37e-4f5b-9c90-bbced66f75d1",
   "metadata": {},
   "outputs": [],
   "source": [
    "def G_anastz(z, params):\n",
    "    layers = int(len(params)/2)\n",
    "    #qml.Rot(params[0], params[1], params[2], wires=0)\n",
    "    for i in range(layers): qml.RY(params[i]*z + params[i+layers], wires=0)"
   ]
  },
  {
   "cell_type": "code",
   "execution_count": 14,
   "id": "539c88b4-6903-49c1-a28c-096f43757eca",
   "metadata": {},
   "outputs": [],
   "source": [
    "@qml.qnode(dev)\n",
    "def circuit2(z, params):\n",
    "    G_anastz(z, params)\n",
    "    return qml.expval(qml.PauliZ(0))"
   ]
  },
  {
   "cell_type": "code",
   "execution_count": 15,
   "id": "c45626ea-0a86-469e-89ed-03b1ac166ff7",
   "metadata": {},
   "outputs": [
    {
     "ename": "NameError",
     "evalue": "name 'G_anastz' is not defined",
     "output_type": "error",
     "traceback": [
      "\u001b[0;31m---------------------------------------------------------------------------\u001b[0m",
      "\u001b[0;31mNameError\u001b[0m                                 Traceback (most recent call last)",
      "Input \u001b[0;32mIn [15]\u001b[0m, in \u001b[0;36m<cell line: 1>\u001b[0;34m()\u001b[0m\n\u001b[0;32m----> 1\u001b[0m fig, ax \u001b[38;5;241m=\u001b[39m \u001b[43mqml\u001b[49m\u001b[38;5;241;43m.\u001b[39;49m\u001b[43mdraw_mpl\u001b[49m\u001b[43m(\u001b[49m\u001b[43mcircuit2\u001b[49m\u001b[43m)\u001b[49m\u001b[43m(\u001b[49m\u001b[38;5;241;43m0.5\u001b[39;49m\u001b[43m,\u001b[49m\u001b[43mnp\u001b[49m\u001b[38;5;241;43m.\u001b[39;49m\u001b[43mzeros\u001b[49m\u001b[43m(\u001b[49m\u001b[43mshape\u001b[49m\u001b[38;5;241;43m=\u001b[39;49m\u001b[38;5;241;43m8\u001b[39;49m\u001b[43m,\u001b[49m\u001b[43m)\u001b[49m\u001b[43m)\u001b[49m\n\u001b[1;32m      2\u001b[0m fig\u001b[38;5;241m.\u001b[39mshow()\n",
      "File \u001b[0;32m~/.conda/envs/tfq/lib/python3.9/site-packages/pennylane/drawer/draw.py:440\u001b[0m, in \u001b[0;36mdraw_mpl.<locals>.wrapper\u001b[0;34m(*args, **kwargs_qnode)\u001b[0m\n\u001b[1;32m    438\u001b[0m \u001b[38;5;28;01mtry\u001b[39;00m:\n\u001b[1;32m    439\u001b[0m     qnode\u001b[38;5;241m.\u001b[39mexpansion_strategy \u001b[38;5;241m=\u001b[39m expansion_strategy \u001b[38;5;129;01mor\u001b[39;00m original_expansion_strategy\n\u001b[0;32m--> 440\u001b[0m     \u001b[43mqnode\u001b[49m\u001b[38;5;241;43m.\u001b[39;49m\u001b[43mconstruct\u001b[49m\u001b[43m(\u001b[49m\u001b[43margs\u001b[49m\u001b[43m,\u001b[49m\u001b[43m \u001b[49m\u001b[43mkwargs_qnode\u001b[49m\u001b[43m)\u001b[49m\n\u001b[1;32m    441\u001b[0m \u001b[38;5;28;01mfinally\u001b[39;00m:\n\u001b[1;32m    442\u001b[0m     qnode\u001b[38;5;241m.\u001b[39mexpansion_strategy \u001b[38;5;241m=\u001b[39m original_expansion_strategy\n",
      "File \u001b[0;32m~/.conda/envs/tfq/lib/python3.9/site-packages/pennylane/qnode.py:711\u001b[0m, in \u001b[0;36mQNode.construct\u001b[0;34m(self, args, kwargs)\u001b[0m\n\u001b[1;32m    708\u001b[0m \u001b[38;5;28;01mdef\u001b[39;00m \u001b[38;5;21mconstruct\u001b[39m(\u001b[38;5;28mself\u001b[39m, args, kwargs):\n\u001b[1;32m    709\u001b[0m     \u001b[38;5;124;03m\"\"\"Call the quantum function with a tape context, ensuring the operations get queued.\"\"\"\u001b[39;00m\n\u001b[0;32m--> 711\u001b[0m     \u001b[38;5;28mself\u001b[39m\u001b[38;5;241m.\u001b[39m_tape \u001b[38;5;241m=\u001b[39m \u001b[43mmake_qscript\u001b[49m\u001b[43m(\u001b[49m\u001b[38;5;28;43mself\u001b[39;49m\u001b[38;5;241;43m.\u001b[39;49m\u001b[43mfunc\u001b[49m\u001b[43m)\u001b[49m\u001b[43m(\u001b[49m\u001b[38;5;241;43m*\u001b[39;49m\u001b[43margs\u001b[49m\u001b[43m,\u001b[49m\u001b[43m \u001b[49m\u001b[38;5;241;43m*\u001b[39;49m\u001b[38;5;241;43m*\u001b[39;49m\u001b[43mkwargs\u001b[49m\u001b[43m)\u001b[49m\n\u001b[1;32m    712\u001b[0m     \u001b[38;5;28mself\u001b[39m\u001b[38;5;241m.\u001b[39m_tape\u001b[38;5;241m.\u001b[39m_queue_category \u001b[38;5;241m=\u001b[39m \u001b[38;5;124m\"\u001b[39m\u001b[38;5;124m_ops\u001b[39m\u001b[38;5;124m\"\u001b[39m\n\u001b[1;32m    713\u001b[0m     \u001b[38;5;28mself\u001b[39m\u001b[38;5;241m.\u001b[39m_qfunc_output \u001b[38;5;241m=\u001b[39m \u001b[38;5;28mself\u001b[39m\u001b[38;5;241m.\u001b[39mtape\u001b[38;5;241m.\u001b[39m_qfunc_output\n",
      "File \u001b[0;32m~/.conda/envs/tfq/lib/python3.9/site-packages/pennylane/tape/qscript.py:1346\u001b[0m, in \u001b[0;36mmake_qscript.<locals>.wrapper\u001b[0;34m(*args, **kwargs)\u001b[0m\n\u001b[1;32m   1344\u001b[0m \u001b[38;5;28;01mdef\u001b[39;00m \u001b[38;5;21mwrapper\u001b[39m(\u001b[38;5;241m*\u001b[39margs, \u001b[38;5;241m*\u001b[39m\u001b[38;5;241m*\u001b[39mkwargs):\n\u001b[1;32m   1345\u001b[0m     \u001b[38;5;28;01mwith\u001b[39;00m AnnotatedQueue() \u001b[38;5;28;01mas\u001b[39;00m q:\n\u001b[0;32m-> 1346\u001b[0m         result \u001b[38;5;241m=\u001b[39m \u001b[43mfn\u001b[49m\u001b[43m(\u001b[49m\u001b[38;5;241;43m*\u001b[39;49m\u001b[43margs\u001b[49m\u001b[43m,\u001b[49m\u001b[43m \u001b[49m\u001b[38;5;241;43m*\u001b[39;49m\u001b[38;5;241;43m*\u001b[39;49m\u001b[43mkwargs\u001b[49m\u001b[43m)\u001b[49m\n\u001b[1;32m   1348\u001b[0m     qscript \u001b[38;5;241m=\u001b[39m QuantumScript\u001b[38;5;241m.\u001b[39mfrom_queue(q)\n\u001b[1;32m   1349\u001b[0m     qscript\u001b[38;5;241m.\u001b[39m_qfunc_output \u001b[38;5;241m=\u001b[39m result\n",
      "Input \u001b[0;32mIn [14]\u001b[0m, in \u001b[0;36mcircuit2\u001b[0;34m(z, params)\u001b[0m\n\u001b[1;32m      1\u001b[0m \u001b[38;5;129m@qml\u001b[39m\u001b[38;5;241m.\u001b[39mqnode(dev)\n\u001b[1;32m      2\u001b[0m \u001b[38;5;28;01mdef\u001b[39;00m \u001b[38;5;21mcircuit2\u001b[39m(z, params):\n\u001b[0;32m----> 3\u001b[0m     \u001b[43mG_anastz\u001b[49m(z, params)\n\u001b[1;32m      4\u001b[0m     \u001b[38;5;28;01mreturn\u001b[39;00m qml\u001b[38;5;241m.\u001b[39mexpval(qml\u001b[38;5;241m.\u001b[39mPauliZ(\u001b[38;5;241m0\u001b[39m))\n",
      "\u001b[0;31mNameError\u001b[0m: name 'G_anastz' is not defined"
     ]
    }
   ],
   "source": [
    "fig, ax = qml.draw_mpl(circuit2)(0.5,np.zeros(shape=8,))\n",
    "fig.show()"
   ]
  },
  {
   "cell_type": "markdown",
   "id": "bf134c12-475c-48bc-9009-4ef652427c54",
   "metadata": {
    "tags": []
   },
   "source": [
    "## normal swap"
   ]
  },
  {
   "cell_type": "code",
   "execution_count": 17,
   "id": "356aa568-1970-4743-b119-cead5680829b",
   "metadata": {},
   "outputs": [],
   "source": [
    "@qml.qnode(dev)\n",
    "def training_circ(z, paramsg, data):\n",
    "    # top 4 qbits real data\n",
    "    qml.RY(data, wires=1)\n",
    "    # bottom 4 qbits gen ansatz\n",
    "    G_anastz(z, paramsg)\n",
    "    \n",
    "    #eps = 0.2\n",
    "    #noise = np.random.uniform(-eps,eps)\n",
    "    #qml.RY(noise, wires=0)\n",
    "    #noise = np.random.uniform(-eps,eps)\n",
    "    #qml.RY(noise, wires=1)\n",
    "    \n",
    "    qml.Hadamard(wires=2)\n",
    "    qml.CSWAP(wires=[2,0,1])\n",
    "    qml.Hadamard(wires=2)\n",
    "    return qml.expval(qml.PauliZ(2))"
   ]
  },
  {
   "cell_type": "code",
   "execution_count": 18,
   "id": "be51e548-5863-41c8-a435-4914475c4efe",
   "metadata": {},
   "outputs": [
    {
     "name": "stderr",
     "output_type": "stream",
     "text": [
      "/tmp/ipykernel_2074331/2437749077.py:2: UserWarning: Matplotlib is currently using module://matplotlib_inline.backend_inline, which is a non-GUI backend, so cannot show the figure.\n",
      "  fig.show()\n"
     ]
    },
    {
     "data": {
      "image/png": "[encoded data removed]",
      "text/plain": [
       "<Figure size 936x288 with 1 Axes>"
      ]
     },
     "metadata": {},
     "output_type": "display_data"
    }
   ],
   "source": [
    "fig, ax = qml.draw_mpl(training_circ)(0.5,np.random.random(size=(16,)), 0.5)\n",
    "fig.show()"
   ]
  },
  {
   "cell_type": "markdown",
   "id": "60acc0f0-7c80-43cc-8322-9967abd6651d",
   "metadata": {},
   "source": [
    "## Training "
   ]
  },
  {
   "cell_type": "code",
   "execution_count": 19,
   "id": "233c9b8d-468e-4d3b-b863-b8a646f045a2",
   "metadata": {},
   "outputs": [],
   "source": [
    "def iterate_minibatches(data, batch_size):\n",
    "    for start_idx in range(0, data.shape[0] - batch_size + 1, batch_size):\n",
    "        idxs = slice(start_idx, start_idx + batch_size)\n",
    "        yield data[idxs]\n",
    "        \n",
    "def cost_batch_old(paramsg, paramsd, batch):\n",
    "    loss = 0.0\n",
    "    for i in batch:\n",
    "        f = training_circ(i, paramsg, paramsd)\n",
    "        loss = loss + np.log(1 - f)\n",
    "    return loss / len(batch)\n",
    "\n",
    "def cost_batch(paramsg, batch, reg=0.000001):\n",
    "    lam = 0.05\n",
    "    loss = 0.0\n",
    "    for i in batch:\n",
    "        z = np.random.normal(-1, 1, requires_grad=False)\n",
    "        f = training_circ(z, paramsg, i) + reg\n",
    "        loss += - f + lam*np.sum(np.abs(paramsg))\n",
    "    return loss / len(batch)"
   ]
  },
  {
   "cell_type": "code",
   "execution_count": 20,
   "id": "dc5b21c6-9ec8-44f1-a673-3b3c7e8c431d",
   "metadata": {},
   "outputs": [],
   "source": [
    "paramsg = np.random.normal(0,1, size=(40,), requires_grad=True)"
   ]
  },
  {
   "cell_type": "code",
   "execution_count": 21,
   "id": "66a92716-e558-411e-a43c-b1fc94a5e6c5",
   "metadata": {},
   "outputs": [],
   "source": [
    "epochs = 200\n",
    "batch_size=16\n",
    "learning_rate=0.002"
   ]
  },
  {
   "cell_type": "code",
   "execution_count": 22,
   "id": "b54a745c-75cd-4dd7-b0df-89b5ec9ef424",
   "metadata": {},
   "outputs": [],
   "source": [
    "optg = AdamOptimizer(learning_rate, beta1=0.9, beta2=0.999)"
   ]
  },
  {
   "cell_type": "code",
   "execution_count": 23,
   "id": "255d0026-178b-41d8-9f81-bdc7e57a8cf1",
   "metadata": {},
   "outputs": [],
   "source": [
    "@qml.qnode(dev)\n",
    "def sample_test_b(z):\n",
    "    G_anastz(z, paramsg)\n",
    "    return [qml.expval(qml.PauliX(0)), qml.expval(qml.PauliY(0)), qml.expval(qml.PauliZ(0))]\n",
    "\n",
    "b = qutip.Bloch()\n",
    "\n",
    "def plot_bloch_sample():\n",
    "    pnts = []\n",
    "    for i in range(N):\n",
    "        z = np.random.uniform(-1,1)\n",
    "        vs = sample_test_b(z)\n",
    "        pnts += [vs]\n",
    "    pnts = np.array(pnts)\n",
    "    b.clear()\n",
    "    b.add_points([pnts[:,0],pnts[:,1],pnts[:,2]])\n",
    "    b.save(dirc='imgs') \n",
    "    #b.show()"
   ]
  },
  {
   "cell_type": "code",
   "execution_count": 24,
   "id": "2289552e-d72b-4553-90b1-c4121f19ac7c",
   "metadata": {},
   "outputs": [
    {
     "name": "stdout",
     "output_type": "stream",
     "text": [
      "initial paramsg: [-0.31636583  0.50556574 -1.8333305   0.11542149 -2.35757732  0.45733755\n",
      "  1.13966367 -0.82049201 -1.03715095 -0.54388251 -1.13682701  0.55779325\n",
      " -1.01518442  0.13485794  0.4063964   1.2678984   0.98609875 -0.13460934\n",
      " -1.17690368 -1.79631745 -0.92629377 -0.43462055  1.37461303  0.69911692\n",
      " -0.46724444 -0.5070412  -0.44464593  0.31677287 -1.57393307 -2.46499434\n",
      " -1.2885992  -1.11370092 -1.57056149 -0.49305537 -0.4019278   1.07301075\n",
      "  1.61883255  0.38712368 -0.90870338  0.868163  ]\n",
      "____\n",
      "Epoch: 0 | Loss: 1.28 | \n",
      "____\n",
      "____\n",
      "Epoch: 1 | Loss: 1.22 | \n",
      "____\n",
      "____\n",
      "Epoch: 2 | Loss: 1.17 | \n",
      "____\n",
      "____\n",
      "Epoch: 3 | Loss: 1.13 | \n",
      "____\n",
      "____\n",
      "Epoch: 4 | Loss: 1.1 | \n",
      "____\n",
      "____\n",
      "Epoch: 5 | Loss: 1.06 | \n",
      "____\n",
      "____\n",
      "Epoch: 6 | Loss: 1.0 | \n",
      "____\n",
      "____\n",
      "Epoch: 7 | Loss: 0.984 | \n",
      "____\n",
      "____\n",
      "Epoch: 8 | Loss: 0.929 | \n",
      "____\n",
      "____\n",
      "Epoch: 9 | Loss: 0.86 | \n",
      "____\n",
      "____\n",
      "Epoch: 10 | Loss: 0.865 | \n",
      "____\n",
      "____\n",
      "Epoch: 11 | Loss: 0.788 | \n",
      "____\n",
      "____\n",
      "Epoch: 12 | Loss: 0.75 | \n",
      "____\n",
      "____\n",
      "Epoch: 13 | Loss: 0.735 | \n",
      "____\n",
      "____\n",
      "Epoch: 14 | Loss: 0.649 | \n",
      "____\n",
      "____\n",
      "Epoch: 15 | Loss: 0.658 | \n",
      "____\n",
      "____\n",
      "Epoch: 16 | Loss: 0.576 | \n",
      "____\n",
      "____\n",
      "Epoch: 17 | Loss: 0.591 | \n",
      "____\n",
      "____\n",
      "Epoch: 18 | Loss: 0.544 | \n",
      "____\n",
      "____\n",
      "Epoch: 19 | Loss: 0.501 | \n",
      "____\n",
      "____\n",
      "Epoch: 20 | Loss: 0.496 | \n",
      "____\n",
      "____\n",
      "Epoch: 21 | Loss: 0.438 | \n",
      "____\n",
      "____\n",
      "Epoch: 22 | Loss: 0.425 | \n",
      "____\n",
      "____\n",
      "Epoch: 23 | Loss: 0.393 | \n",
      "____\n",
      "____\n",
      "Epoch: 24 | Loss: 0.375 | \n",
      "____\n",
      "____\n",
      "Epoch: 25 | Loss: 0.325 | \n",
      "____\n",
      "____\n",
      "Epoch: 26 | Loss: 0.327 | \n",
      "____\n",
      "____\n",
      "Epoch: 27 | Loss: 0.299 | \n",
      "____\n",
      "____\n",
      "Epoch: 28 | Loss: 0.251 | \n",
      "____\n",
      "____\n",
      "Epoch: 29 | Loss: 0.194 | \n",
      "____\n",
      "____\n",
      "Epoch: 30 | Loss: 0.206 | \n",
      "____\n",
      "____\n",
      "Epoch: 31 | Loss: 0.2 | \n",
      "____\n",
      "____\n",
      "Epoch: 32 | Loss: 0.141 | \n",
      "____\n",
      "____\n",
      "Epoch: 33 | Loss: 0.14 | \n",
      "____\n",
      "____\n",
      "Epoch: 34 | Loss: 0.136 | \n",
      "____\n",
      "____\n",
      "Epoch: 35 | Loss: 0.11 | \n",
      "____\n",
      "____\n",
      "Epoch: 36 | Loss: 0.0935 | \n",
      "____\n",
      "____\n",
      "Epoch: 37 | Loss: 0.0962 | \n",
      "____\n",
      "____\n",
      "Epoch: 38 | Loss: 0.0241 | \n",
      "____\n",
      "____\n",
      "Epoch: 39 | Loss: 0.0125 | \n",
      "____\n",
      "____\n",
      "Epoch: 40 | Loss: -0.0032 | \n",
      "____\n",
      "____\n",
      "Epoch: 41 | Loss: -0.0208 | \n",
      "____\n",
      "____\n",
      "Epoch: 42 | Loss: -0.00611 | \n",
      "____\n",
      "____\n",
      "Epoch: 43 | Loss: -0.0703 | \n",
      "____\n",
      "____\n",
      "Epoch: 44 | Loss: -0.0835 | \n",
      "____\n",
      "____\n",
      "Epoch: 45 | Loss: -0.128 | \n",
      "____\n",
      "____\n",
      "Epoch: 46 | Loss: -0.127 | \n",
      "____\n",
      "____\n",
      "Epoch: 47 | Loss: -0.143 | \n",
      "____\n",
      "____\n",
      "Epoch: 48 | Loss: -0.147 | \n",
      "____\n",
      "____\n",
      "Epoch: 49 | Loss: -0.186 | \n",
      "____\n",
      "____\n",
      "Epoch: 50 | Loss: -0.192 | \n",
      "____\n",
      "____\n",
      "Epoch: 51 | Loss: -0.235 | \n",
      "____\n",
      "____\n",
      "Epoch: 52 | Loss: -0.26 | \n",
      "____\n",
      "____\n",
      "Epoch: 53 | Loss: -0.254 | \n",
      "____\n",
      "____\n",
      "Epoch: 54 | Loss: -0.305 | \n",
      "____\n",
      "____\n",
      "Epoch: 55 | Loss: -0.321 | \n",
      "____\n",
      "____\n",
      "Epoch: 56 | Loss: -0.346 | \n",
      "____\n",
      "____\n",
      "Epoch: 57 | Loss: -0.401 | \n",
      "____\n",
      "____\n",
      "Epoch: 58 | Loss: -0.455 | \n",
      "____\n",
      "____\n",
      "Epoch: 59 | Loss: -0.555 | \n",
      "____\n",
      "____\n",
      "Epoch: 60 | Loss: -0.603 | \n",
      "____\n",
      "____\n",
      "Epoch: 61 | Loss: -0.624 | \n",
      "____\n",
      "____\n",
      "Epoch: 62 | Loss: -0.632 | \n",
      "____\n",
      "____\n",
      "Epoch: 63 | Loss: -0.65 | \n",
      "____\n",
      "____\n",
      "Epoch: 64 | Loss: -0.665 | \n",
      "____\n",
      "____\n",
      "Epoch: 65 | Loss: -0.679 | \n",
      "____\n",
      "____\n",
      "Epoch: 66 | Loss: -0.687 | \n",
      "____\n",
      "____\n",
      "Epoch: 67 | Loss: -0.698 | \n",
      "____\n",
      "____\n",
      "Epoch: 68 | Loss: -0.713 | \n",
      "____\n",
      "____\n",
      "Epoch: 69 | Loss: -0.73 | \n",
      "____\n",
      "____\n",
      "Epoch: 70 | Loss: -0.743 | \n",
      "____\n",
      "____\n",
      "Epoch: 71 | Loss: -0.757 | \n",
      "____\n",
      "____\n",
      "Epoch: 72 | Loss: -0.769 | \n",
      "____\n",
      "____\n",
      "Epoch: 73 | Loss: -0.778 | \n",
      "____\n",
      "____\n",
      "Epoch: 74 | Loss: -0.784 | \n",
      "____\n",
      "____\n",
      "Epoch: 75 | Loss: -0.794 | \n",
      "____\n",
      "____\n",
      "Epoch: 76 | Loss: -0.796 | \n",
      "____\n",
      "____\n",
      "Epoch: 77 | Loss: -0.81 | \n",
      "____\n",
      "____\n",
      "Epoch: 78 | Loss: -0.81 | \n",
      "____\n",
      "____\n",
      "Epoch: 79 | Loss: -0.82 | \n",
      "____\n",
      "____\n",
      "Epoch: 80 | Loss: -0.822 | \n",
      "____\n",
      "____\n",
      "Epoch: 81 | Loss: -0.819 | \n",
      "____\n",
      "____\n",
      "Epoch: 82 | Loss: -0.817 | \n",
      "____\n",
      "____\n",
      "Epoch: 83 | Loss: -0.825 | \n",
      "____\n",
      "____\n",
      "Epoch: 84 | Loss: -0.829 | \n",
      "____\n",
      "____\n",
      "Epoch: 85 | Loss: -0.832 | \n",
      "____\n",
      "____\n",
      "Epoch: 86 | Loss: -0.834 | \n",
      "____\n",
      "____\n",
      "Epoch: 87 | Loss: -0.838 | \n",
      "____\n",
      "____\n",
      "Epoch: 88 | Loss: -0.84 | \n",
      "____\n",
      "____\n",
      "Epoch: 89 | Loss: -0.839 | \n",
      "____\n",
      "____\n",
      "Epoch: 90 | Loss: -0.844 | \n",
      "____\n",
      "____\n",
      "Epoch: 91 | Loss: -0.844 | \n",
      "____\n",
      "____\n",
      "Epoch: 92 | Loss: -0.842 | \n",
      "____\n",
      "____\n",
      "Epoch: 93 | Loss: -0.843 | \n",
      "____\n",
      "____\n",
      "Epoch: 94 | Loss: -0.845 | \n",
      "____\n",
      "____\n",
      "Epoch: 95 | Loss: -0.846 | \n",
      "____\n",
      "____\n",
      "Epoch: 96 | Loss: -0.846 | \n",
      "____\n",
      "____\n",
      "Epoch: 97 | Loss: -0.846 | \n",
      "____\n",
      "____\n",
      "Epoch: 98 | Loss: -0.847 | \n",
      "____\n",
      "____\n",
      "Epoch: 99 | Loss: -0.847 | \n",
      "____\n",
      "____\n",
      "Epoch: 100 | Loss: -0.847 | \n",
      "____\n",
      "____\n",
      "Epoch: 101 | Loss: -0.847 | \n",
      "____\n",
      "____\n",
      "Epoch: 102 | Loss: -0.846 | \n",
      "____\n",
      "____\n",
      "Epoch: 103 | Loss: -0.846 | \n",
      "____\n",
      "____\n",
      "Epoch: 104 | Loss: -0.847 | \n",
      "____\n",
      "____\n",
      "Epoch: 105 | Loss: -0.846 | \n",
      "____\n",
      "____\n",
      "Epoch: 106 | Loss: -0.847 | \n",
      "____\n",
      "____\n",
      "Epoch: 107 | Loss: -0.846 | \n",
      "____\n",
      "____\n",
      "Epoch: 108 | Loss: -0.847 | \n",
      "____\n",
      "12\r"
     ]
    },
    {
     "name": "stderr",
     "output_type": "stream",
     "text": [
      "\n",
      "KeyboardInterrupt\n",
      "\n"
     ]
    }
   ],
   "source": [
    "print(\"initial paramsg:\", paramsg)\n",
    "\n",
    "paramsg_before = paramsg.copy()\n",
    "\n",
    "losshist = []\n",
    "\n",
    "start = time.time()\n",
    "\n",
    "for it in range(epochs):\n",
    "    start_b = time.time()\n",
    "    for j,Xbatch in enumerate(iterate_minibatches(data, batch_size=batch_size)):  \n",
    "        cost_fn = lambda p: cost_batch(p, Xbatch)\n",
    "        paramsg = optg.step(cost_fn, paramsg)\n",
    "        plot_bloch_sample()\n",
    "        print(j, end=\"\\r\")\n",
    "        #if j % 20 == 0:\n",
    "        #    loss = cost_batch(params,Xbatch)\n",
    "        #    print(f\"Step: {j} | Loss: {loss:.3} |\")\n",
    "    \n",
    "    loss = cost_batch(paramsg, data)\n",
    "    \n",
    "    losshist += [loss]\n",
    "    \n",
    "    print(\"____\")\n",
    "    print(f\"Epoch: {it} | Loss: {loss:.3} | \")\n",
    "    print(\"____\")\n",
    "    \n",
    "end = time.time()\n",
    "\n",
    "print(f\"Time for {epochs} epochs: {end - start}\")\n",
    "\n",
    "print(\"final paramsg:\", paramsg)"
   ]
  },
  {
   "cell_type": "code",
   "execution_count": 25,
   "id": "cf196299-4086-40a7-a382-f081e0b05cc9",
   "metadata": {},
   "outputs": [
    {
     "data": {
      "text/plain": [
       "Text(0, 0.5, 'loss')"
      ]
     },
     "execution_count": 25,
     "metadata": {},
     "output_type": "execute_result"
    },
    {
     "data": {
      "image/png": "[encoded data removed]",
      "text/plain": [
       "<Figure size 432x288 with 1 Axes>"
      ]
     },
     "metadata": {
      "needs_background": "light"
     },
     "output_type": "display_data"
    }
   ],
   "source": [
    "plt.plot(losshist)\n",
    "plt.xlabel(\"epoch\")\n",
    "plt.ylabel(\"loss\")"
   ]
  },
  {
   "cell_type": "code",
   "execution_count": 26,
   "id": "282f682c-27f2-4013-9b86-8c3c1e6f703f",
   "metadata": {},
   "outputs": [],
   "source": [
    "@qml.qnode(dev)\n",
    "def sample_test(z):\n",
    "    G_anastz(z, paramsg)\n",
    "    return qml.expval(qml.PauliZ(0))"
   ]
  },
  {
   "cell_type": "code",
   "execution_count": 27,
   "id": "9796556b-c3a9-4f54-9a91-f887e4d6937c",
   "metadata": {},
   "outputs": [
    {
     "name": "stderr",
     "output_type": "stream",
     "text": [
      "/tmp/ipykernel_2074331/1079402710.py:2: UserWarning: Matplotlib is currently using module://matplotlib_inline.backend_inline, which is a non-GUI backend, so cannot show the figure.\n",
      "  fig.show()\n"
     ]
    },
    {
     "data": {
      "image/png": "[encoded data removed]",
      "text/plain": [
       "<Figure size 1656x144 with 1 Axes>"
      ]
     },
     "metadata": {},
     "output_type": "display_data"
    }
   ],
   "source": [
    "fig, ax = qml.draw_mpl(sample_test)(0.5)\n",
    "fig.show()"
   ]
  },
  {
   "cell_type": "code",
   "execution_count": 28,
   "id": "39ed2253-7d44-4adf-bc1d-55d328401969",
   "metadata": {},
   "outputs": [],
   "source": [
    "testresult = []\n",
    "for i in range(N):\n",
    "    z = np.random.uniform(-1,1)\n",
    "    testresult += [sample_test(z)]"
   ]
  },
  {
   "cell_type": "code",
   "execution_count": 29,
   "id": "df15b682-261d-45f2-b70c-f4fe5143232f",
   "metadata": {},
   "outputs": [
    {
     "data": {
      "text/plain": [
       "(array([51., 33., 35., 41., 40., 53., 46., 33., 35., 33.]),\n",
       " array([0.1125126 , 0.11765399, 0.12279537, 0.12793675, 0.13307813,\n",
       "        0.13821952, 0.1433609 , 0.14850228, 0.15364367, 0.15878505,\n",
       "        0.16392643]),\n",
       " <BarContainer object of 10 artists>)"
      ]
     },
     "execution_count": 29,
     "metadata": {},
     "output_type": "execute_result"
    },
    {
     "data": {
      "image/png": "[encoded data removed]",
      "text/plain": [
       "<Figure size 432x288 with 1 Axes>"
      ]
     },
     "metadata": {
      "needs_background": "light"
     },
     "output_type": "display_data"
    }
   ],
   "source": [
    "plt.hist(testresult)"
   ]
  },
  {
   "cell_type": "code",
   "execution_count": null,
   "id": "8d7d7363-15a7-41c0-8c5a-f79c4e65416b",
   "metadata": {},
   "outputs": [],
   "source": []
  },
  {
   "cell_type": "code",
   "execution_count": null,
   "id": "c30ea214-2535-40ae-a408-68909d25ec62",
   "metadata": {},
   "outputs": [],
   "source": []
  },
  {
   "cell_type": "code",
   "execution_count": null,
   "id": "09d0fa1d-6b98-4203-be69-43b5d39e8e0f",
   "metadata": {},
   "outputs": [],
   "source": []
  }
 ],
 "metadata": {
  "kernelspec": {
   "display_name": "tfq",
   "language": "python",
   "name": "tfq"
  },
  "language_info": {
   "codemirror_mode": {
    "name": "ipython",
    "version": 3
   },
   "file_extension": ".py",
   "mimetype": "text/x-python",
   "name": "python",
   "nbconvert_exporter": "python",
   "pygments_lexer": "ipython3",
   "version": "3.9.12"
  }
 },
 "nbformat": 4,
 "nbformat_minor": 5
}
