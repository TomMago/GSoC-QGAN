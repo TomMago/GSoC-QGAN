{
 "cells": [
  {
   "cell_type": "code",
   "execution_count": 1,
   "id": "f75d6aba-26d9-418b-81cc-e9c3b44278a1",
   "metadata": {},
   "outputs": [],
   "source": [
    "import matplotlib\n",
    "import matplotlib.pyplot as plt\n",
    "import pennylane as qml\n",
    "from pennylane import numpy as np\n",
    "import time\n",
    "from pennylane.optimize import AdamOptimizer\n",
    "import torch\n",
    "from torch.autograd import Variable\n",
    "import h5py\n",
    "\n",
    "plt.rcParams['figure.dpi'] = 300\n",
    "plt.rcParams['figure.figsize'] = [3, 1]\n",
    "plt.rcParams.update({\n",
    "    \"text.usetex\": True,\n",
    "    \"font.family\": \"Helvetica\"\n",
    "})"
   ]
  },
  {
   "cell_type": "markdown",
   "id": "85d00751-1e31-4d76-90d9-45106f03002b",
   "metadata": {},
   "source": [
    "## Settings"
   ]
  },
  {
   "cell_type": "code",
   "execution_count": 2,
   "id": "5d4c06ad-1ad0-430e-b1fe-6dd295f651ba",
   "metadata": {},
   "outputs": [],
   "source": [
    "nbatch = 6000\n",
    "N = 3\n",
    "M = 2\n",
    "nM = M - 1\n",
    "qM = int(np.log2(M))\n",
    "num_dim = 1\n",
    "num_qubits = int(N**2 * np.log2(M))\n",
    "num_discrete_values = 2**num_qubits\n",
    "\n",
    "file_name = \"QG_train_normalized_N3_M2_bilinear_xl\"\n",
    "\n",
    "reg = 0.000001"
   ]
  },
  {
   "cell_type": "markdown",
   "id": "42594711-6d99-4ccd-a23b-e17bc9422ece",
   "metadata": {},
   "source": [
    "## Data"
   ]
  },
  {
   "cell_type": "code",
   "execution_count": 3,
   "id": "698b09f5-c48c-4520-a0ed-96edd2fd4b85",
   "metadata": {},
   "outputs": [],
   "source": [
    "f = h5py.File(file_name,\"r\")"
   ]
  },
  {
   "cell_type": "code",
   "execution_count": 4,
   "id": "e70763be-ca3c-4204-89c7-d5b2cc0ad1d5",
   "metadata": {},
   "outputs": [],
   "source": [
    "x_train = f.get('X')\n",
    "y_train = f.get('y')"
   ]
  },
  {
   "cell_type": "code",
   "execution_count": 5,
   "id": "f985952e-7458-4280-ab3f-89496e40ff54",
   "metadata": {},
   "outputs": [
    {
     "data": {
      "text/plain": [
       "(-0.5, 2.5, 2.5, -0.5)"
      ]
     },
     "execution_count": 5,
     "metadata": {},
     "output_type": "execute_result"
    },
    {
     "data": {
      "image/png": "[encoded data removed]",
      "text/plain": [
       "<Figure size 432x288 with 1 Axes>"
      ]
     },
     "metadata": {
      "needs_background": "light"
     },
     "output_type": "display_data"
    }
   ],
   "source": [
    "plt.imshow(np.mean(x_train[y_train[:]==1],axis=0),norm=matplotlib.colors.LogNorm())\n",
    "plt.axis('off')"
   ]
  },
  {
   "cell_type": "code",
   "execution_count": 6,
   "id": "6e519f3e-d862-4be6-aeb7-5f3e2a8e00b9",
   "metadata": {},
   "outputs": [
    {
     "data": {
      "text/plain": [
       "(-0.5, 2.5, 2.5, -0.5)"
      ]
     },
     "execution_count": 6,
     "metadata": {},
     "output_type": "execute_result"
    },
    {
     "data": {
      "image/png": "[encoded data removed]",
      "text/plain": [
       "<Figure size 432x288 with 1 Axes>"
      ]
     },
     "metadata": {
      "needs_background": "light"
     },
     "output_type": "display_data"
    }
   ],
   "source": [
    "plt.imshow(np.mean(x_train[y_train[:]==0],axis=0),norm=matplotlib.colors.LogNorm())\n",
    "plt.axis('off')"
   ]
  },
  {
   "cell_type": "code",
   "execution_count": 7,
   "id": "00244b08-8d19-4b27-a54e-e35de2caceae",
   "metadata": {},
   "outputs": [
    {
     "data": {
      "text/plain": [
       "(-0.5, 2.5, 2.5, -0.5)"
      ]
     },
     "execution_count": 7,
     "metadata": {},
     "output_type": "execute_result"
    },
    {
     "data": {
      "image/png": "[encoded data removed]",
      "text/plain": [
       "<Figure size 432x288 with 6 Axes>"
      ]
     },
     "metadata": {
      "needs_background": "light"
     },
     "output_type": "display_data"
    }
   ],
   "source": [
    "fig, ax = plt.subplots(2, 3)\n",
    "nums = np.random.randint(0,6,size=(6,))\n",
    "ax[0,0].imshow(x_train[nums[0]])\n",
    "ax[0,0].axis('off')\n",
    "ax[0,1].imshow(x_train[nums[1]])\n",
    "ax[0,1].axis('off')\n",
    "ax[0,2].imshow(x_train[nums[2]])\n",
    "ax[0,2].axis('off')\n",
    "ax[1,0].imshow(x_train[nums[3]])\n",
    "ax[1,0].axis('off')\n",
    "ax[1,1].imshow(x_train[nums[4]])\n",
    "ax[1,1].axis('off')\n",
    "ax[1,2].imshow(x_train[nums[5]])\n",
    "ax[1,2].axis('off')"
   ]
  },
  {
   "cell_type": "code",
   "execution_count": 8,
   "id": "06ca5084-3f7b-4795-8fc6-530db9a960da",
   "metadata": {},
   "outputs": [],
   "source": [
    "data = x_train[y_train[:]==1]"
   ]
  },
  {
   "cell_type": "code",
   "execution_count": 9,
   "id": "b6f241be-277d-4c9a-b817-56b906ff2e25",
   "metadata": {},
   "outputs": [],
   "source": [
    "f.close()"
   ]
  },
  {
   "cell_type": "code",
   "execution_count": 10,
   "id": "c25903c8-54b3-4f5f-b4d3-0bc4a57b8a44",
   "metadata": {},
   "outputs": [
    {
     "data": {
      "text/plain": [
       "(49962, 3, 3)"
      ]
     },
     "execution_count": 10,
     "metadata": {},
     "output_type": "execute_result"
    }
   ],
   "source": [
    "data.shape"
   ]
  },
  {
   "cell_type": "code",
   "execution_count": 11,
   "id": "ed59fe1c-809e-4a85-91c1-2926f30fc901",
   "metadata": {},
   "outputs": [],
   "source": [
    "prob_distr = data.reshape(-1,9)"
   ]
  },
  {
   "cell_type": "code",
   "execution_count": 12,
   "id": "d20395c8-8eeb-42fb-ae20-c2332c9518d1",
   "metadata": {},
   "outputs": [],
   "source": [
    "mean_data = np.mean(data,axis=0)"
   ]
  },
  {
   "cell_type": "markdown",
   "id": "0a37c535-cac7-441d-b5c4-c178f8c2f155",
   "metadata": {},
   "source": [
    "## Utillity functions"
   ]
  },
  {
   "cell_type": "code",
   "execution_count": 13,
   "id": "0d6951eb-b4f6-4cf2-a2eb-fc3f38c859c1",
   "metadata": {},
   "outputs": [],
   "source": [
    "def int_to_bin_list(num,bits):\n",
    "    return [(num>>k)&1 for k in range(0,bits)][::-1]"
   ]
  },
  {
   "cell_type": "code",
   "execution_count": 14,
   "id": "f8a88da5-8fb1-413d-a96e-7e14c2573f7c",
   "metadata": {},
   "outputs": [],
   "source": [
    "def convert_dim_to_integer(arr,dim):\n",
    "    # Calculate the number of possible values \n",
    "    num_values = 2 ** arr.shape[dim]\n",
    "    arr = torch.flip(arr,(1,))\n",
    "    # Sum along the last dimension to convert it to integers\n",
    "    integer_array = np.sum(arr * (2 ** np.arange(arr.shape[dim])), axis=-1)\n",
    "\n",
    "    return torch.tensor(integer_array)"
   ]
  },
  {
   "cell_type": "code",
   "execution_count": 15,
   "id": "60c90e4c-9775-4573-afb9-16c9e2851dd9",
   "metadata": {},
   "outputs": [],
   "source": [
    "def normalize_image(img):\n",
    "    return img / nM"
   ]
  },
  {
   "cell_type": "code",
   "execution_count": 16,
   "id": "f23a767d-5534-4718-aec3-b78178e2134d",
   "metadata": {},
   "outputs": [],
   "source": [
    "def basis_array_to_img(basis_array):\n",
    "    basis_array = basis_array.reshape(N,N,qM)\n",
    "    return normalize_image(convert_dim_to_integer(basis_array,2))"
   ]
  },
  {
   "cell_type": "code",
   "execution_count": 17,
   "id": "f077a577-eb6e-4d0d-a388-63aab01fc46d",
   "metadata": {},
   "outputs": [],
   "source": [
    "def batch_basis_array_to_img(batch_basis_array):\n",
    "    batch_basis_array = batch_basis_array.reshape(batch_basis_array.shape[0],N,N,qM)\n",
    "    return normalize_image(convert_dim_to_integer(batch_basis_array,3))"
   ]
  },
  {
   "cell_type": "code",
   "execution_count": 18,
   "id": "2bb9d0d5-b610-4e57-ae8a-5585fa565ad2",
   "metadata": {},
   "outputs": [],
   "source": [
    "def tensor_to_int(tensor):\n",
    "    tensor = tensor.long()\n",
    "    \n",
    "    # Calculate the number of columns in the tensor\n",
    "    num_columns = tensor.size(1)\n",
    "    \n",
    "    # Create a weight tensor for binary to integer conversion\n",
    "    weights = 2 ** torch.arange(num_columns - 1, -1, -1)\n",
    "    \n",
    "    # Calculate the integer values for each row\n",
    "    int_values = torch.sum(tensor * weights, dim=1)\n",
    "    \n",
    "    return int_values"
   ]
  },
  {
   "cell_type": "code",
   "execution_count": 19,
   "id": "6eb71b05-a7a3-483d-a695-b15dc073bd0f",
   "metadata": {},
   "outputs": [],
   "source": [
    "from IPython.display import clear_output\n",
    "\n",
    "matplotlib.rc('xtick', labelsize=20) \n",
    "matplotlib.rc('ytick', labelsize=20) \n",
    "\n",
    "def plot_training_progress(n, samples_tuple,mean_gen_image):\n",
    "    # we don't plot if we don't have enough data\n",
    "    if len(generator_loss_values) < 2:\n",
    "        return\n",
    "\n",
    "    clear_output(wait=True)\n",
    "    fig, ((ax1, ax2, ax3), (ax4, ax5, ax6)) = plt.subplots(2, 3, figsize=(18, 12))\n",
    "    fig.tight_layout(pad=10.0)\n",
    "\n",
    "    # Generator Loss\n",
    "    ax3.plot(generator_loss_values, label=\"generator loss\", color=\"royalblue\")\n",
    "    ax3.plot(discriminator_loss_values, label=\"discriminator loss\", color=\"magenta\")\n",
    "    ax3.legend(loc=\"best\", fontsize=16)\n",
    "    ax3.set_xlabel(\"epoch\", fontsize=16)\n",
    "    ax3.set_ylabel(\"Loss\", fontsize=16)\n",
    "    #ax3.grid()\n",
    "\n",
    "    # Relative Entropy\n",
    "    ax2.plot(entropies)\n",
    "    ax2.set_xlabel(\"epoch\", fontsize=18)\n",
    "    ax2.set_ylabel(\"KL divergence\", fontsize=18)\n",
    "    ax2.set_yscale(\"log\")\n",
    "    #ax2.grid()\n",
    "    \n",
    "    #paramsg = generator.weights\n",
    "    #generated_probabilities = circuit(1,paramsg).detach()\n",
    "    im = ax1.imshow(mean_gen_image, norm=matplotlib.colors.LogNorm())\n",
    "    plt.colorbar(im,ax=ax1)\n",
    "    #ax3.grid()\n",
    "    #plt.savefig(f\"imgs/plt-{n}.png\")\n",
    "    \n",
    "    im2 = ax4.imshow(mean_data, norm=matplotlib.colors.LogNorm())\n",
    "    plt.colorbar(im2,ax=ax4)\n",
    "    \n",
    "    ax5.plot(mses)\n",
    "    ax5.set_xlabel(\"epoch\", fontsize=18)\n",
    "    ax5.set_ylabel(\"MSE\", fontsize=18)\n",
    "        \n",
    "\n",
    "    plt.show()"
   ]
  },
  {
   "cell_type": "code",
   "execution_count": 20,
   "id": "d1e02894-a052-4f89-be4d-212a8bca5b6f",
   "metadata": {},
   "outputs": [],
   "source": [
    "def iterate_minibatches(data, batch_size):\n",
    "    for start_idx in range(0, data.shape[0] - batch_size + 1, batch_size):\n",
    "        idxs = slice(start_idx, start_idx + batch_size)\n",
    "        yield data[idxs]"
   ]
  },
  {
   "cell_type": "markdown",
   "id": "e9d88ba4-b314-4bf9-89f7-2e6b39eb0341",
   "metadata": {},
   "source": [
    "# Model"
   ]
  },
  {
   "cell_type": "markdown",
   "id": "68ddec6b-682d-473a-a250-58b25415e129",
   "metadata": {},
   "source": [
    "## Generator circuits"
   ]
  },
  {
   "cell_type": "code",
   "execution_count": 21,
   "id": "2be3e809-2454-4a4d-9d30-e6185a625ed4",
   "metadata": {},
   "outputs": [],
   "source": [
    "dev = qml.device(\"default.qubit.torch\", wires=num_qubits)\n",
    "\n",
    "@qml.qnode(dev, interface=\"torch\", diff_method=\"backprop\", cachesize=1000000)\n",
    "def circuit(inputs, weights):\n",
    "    for wire in range(num_qubits): qml.Hadamard(wires=wire)\n",
    "    qml.StronglyEntanglingLayers(weights=weights, wires=list(range(num_qubits)))\n",
    "    return qml.probs()"
   ]
  },
  {
   "cell_type": "code",
   "execution_count": 22,
   "id": "112bd16e-60d3-46d2-adb3-8056d5f50ae3",
   "metadata": {},
   "outputs": [],
   "source": [
    "dev_sample = qml.device(\"default.qubit\", wires=num_qubits, shots=nbatch)\n",
    "\n",
    "@qml.qnode(dev_sample, interface=\"torch\")\n",
    "def circuit_sample(inputs, weights):\n",
    "    for wire in range(num_qubits): qml.Hadamard(wires=wire)\n",
    "    qml.StronglyEntanglingLayers(weights=weights, wires=list(range(num_qubits)))\n",
    "    return qml.sample()"
   ]
  },
  {
   "cell_type": "markdown",
   "id": "7089dc06-52c0-423d-9b12-aad86e602d93",
   "metadata": {
    "tags": []
   },
   "source": [
    "## Hybrid model building"
   ]
  },
  {
   "cell_type": "code",
   "execution_count": 23,
   "id": "8cfee725-a814-4f84-bbe8-4de6ae0e54cc",
   "metadata": {},
   "outputs": [],
   "source": [
    "n_layers = 30\n",
    "weight_shapes = {\"weights\": (n_layers, num_qubits,3)}"
   ]
  },
  {
   "cell_type": "code",
   "execution_count": 24,
   "id": "511e3252-b022-4cc8-b2bf-7278878c1a12",
   "metadata": {},
   "outputs": [],
   "source": [
    "qlayer = qml.qnn.TorchLayer(circuit, weight_shapes)"
   ]
  },
  {
   "cell_type": "code",
   "execution_count": 25,
   "id": "d7816b35-0f7d-4312-b68b-4dd943e2f7f3",
   "metadata": {},
   "outputs": [],
   "source": [
    "from torch import nn\n",
    "\n",
    "class Discriminator(nn.Module):\n",
    "    def __init__(self, input_size):\n",
    "        super(Discriminator, self).__init__()\n",
    "\n",
    "        self.linear_input = nn.Linear(input_size, 50)\n",
    "        self.leaky_relu = nn.LeakyReLU(0.2)\n",
    "        self.linear1 = nn.Linear(50, 20)\n",
    "        self.linear2 = nn.Linear(20, 10)\n",
    "        self.linear3 = nn.Linear(10, 1)\n",
    "        self.sigmoid = nn.Sigmoid()\n",
    "        self.flatten = nn.Flatten()\n",
    "\n",
    "    def forward(self, input: torch.Tensor) -> torch.Tensor:\n",
    "        x = self.flatten(input)\n",
    "        x = self.linear_input(x)\n",
    "        x = self.leaky_relu(x)\n",
    "        x = self.linear1(x)\n",
    "        x = self.leaky_relu(x)\n",
    "        x = self.linear2(x)\n",
    "        x = self.leaky_relu(x)\n",
    "        x = self.linear3(x)\n",
    "        x = self.sigmoid(x)\n",
    "        return x\n",
    "    \n",
    "class Generator(nn.Module):\n",
    "    def __init__(self, input_size):\n",
    "        super(Generator, self).__init__()\n",
    "\n",
    "        self.linear_input = nn.Linear(input_size, 50)\n",
    "        self.leaky_relu = nn.LeakyReLU(0.2)\n",
    "        self.linear1 = nn.Linear(50, 20)\n",
    "        self.linear2 = nn.Linear(20, 10)\n",
    "        self.linear3 = nn.Linear(10, 9)\n",
    "        self.sigmoid = nn.Sigmoid()\n",
    "        self.flatten = nn.Flatten()\n",
    "\n",
    "    def forward(self, z):\n",
    "        x = self.flatten(z)\n",
    "        x = self.linear_input(x)\n",
    "        x = self.leaky_relu(x)\n",
    "        x = self.linear1(x)\n",
    "        x = self.leaky_relu(x)\n",
    "        x = self.linear2(x)\n",
    "        x = self.leaky_relu(x)\n",
    "        x = self.linear3(x)\n",
    "        x = self.sigmoid(x)\n",
    "        x = torch.reshape(x, (z.shape[0],3,3))\n",
    "        return x"
   ]
  },
  {
   "cell_type": "code",
   "execution_count": 26,
   "id": "ac8741cf-d61a-4b59-b0cd-701822839634",
   "metadata": {},
   "outputs": [],
   "source": [
    "generator = Generator(5)\n",
    "discriminator = Discriminator(N**2)"
   ]
  },
  {
   "cell_type": "markdown",
   "id": "37c92289-0d20-4ddd-adec-632d94cf6d8b",
   "metadata": {
    "tags": []
   },
   "source": [
    "# Training"
   ]
  },
  {
   "cell_type": "code",
   "execution_count": 27,
   "id": "b36a775e-b67d-498a-a1a0-9d5d84523b41",
   "metadata": {},
   "outputs": [],
   "source": [
    "from torch.optim import Adam\n",
    "\n",
    "lr = 0.0001  # learning rate\n",
    "#b1 = 0.7  # first momentum parameter\n",
    "b1 = 0.6  # first momentum parameter\n",
    "b2 = 0.999  # second momentum parameter\n",
    "\n",
    "generator_optimizer = Adam(generator.parameters(), lr=lr, betas=(b1, b2), weight_decay=0, amsgrad=True)\n",
    "discriminator_optimizer = Adam(\n",
    "    discriminator.parameters(), lr=lr, betas=(b1, b2), weight_decay=0, amsgrad=True\n",
    ")\n",
    "\n",
    "decayRate = 0.9997\n",
    "my_lr_scheduler = torch.optim.lr_scheduler.ExponentialLR(optimizer=generator_optimizer, gamma=decayRate)\n",
    "my_lr_scheduler = torch.optim.lr_scheduler.ExponentialLR(optimizer=discriminator_optimizer, gamma=decayRate)"
   ]
  },
  {
   "cell_type": "code",
   "execution_count": 28,
   "id": "707a5911-94a7-42b3-9683-da3f762f84c6",
   "metadata": {},
   "outputs": [],
   "source": [
    "def adversarial_loss(inputs, target, w):\n",
    "    bce_loss = target * torch.log(inputs) + (1 - target) * torch.log(1 - inputs)\n",
    "    weighted_loss = w * bce_loss\n",
    "    total_loss = -torch.sum(weighted_loss)\n",
    "    return total_loss"
   ]
  },
  {
   "cell_type": "code",
   "execution_count": 29,
   "id": "44ddc1fe-7ffc-44c2-bc22-588989e081d6",
   "metadata": {},
   "outputs": [],
   "source": [
    "adversarial_loss_t = torch.nn.BCELoss()"
   ]
  },
  {
   "cell_type": "code",
   "execution_count": 30,
   "id": "44271d15-e370-44d0-9796-a496a4c5ab1d",
   "metadata": {
    "tags": []
   },
   "outputs": [
    {
     "data": {
      "image/png": "[encoded data removed]",
      "text/plain": [
       "<Figure size 1296x576 with 5 Axes>"
      ]
     },
     "metadata": {
      "needs_background": "light"
     },
     "output_type": "display_data"
    },
    {
     "name": "stdout",
     "output_type": "stream",
     "text": [
      "Fit in 63253.79 sec\n"
     ]
    }
   ],
   "source": [
    "import time\n",
    "from scipy.stats import multivariate_normal, entropy\n",
    "\n",
    "#torch.nn.init.uniform_(list(generator.parameters())[0], a=-np.pi, b=np.pi)\n",
    "torch.nn.init.uniform_(list(generator.parameters())[0], a=-0.1, b=0.1)\n",
    "\n",
    "n_epochs = 3000\n",
    "\n",
    "data = torch.tensor(data, requires_grad=False)\n",
    "\n",
    "generator_loss_values = []\n",
    "discriminator_loss_values = []\n",
    "entropies = []\n",
    "mses = []\n",
    "\n",
    "start = time.time()\n",
    "for epoch in range(n_epochs):\n",
    "\n",
    "    valid = torch.ones(nbatch, dtype=torch.float)\n",
    "    fake = torch.zeros(nbatch, dtype=torch.float)\n",
    "    \n",
    "    for j,Xbatch in enumerate(iterate_minibatches(data, batch_size=nbatch)):\n",
    " \n",
    "\n",
    "        real_imgs = Variable(Xbatch.type(torch.FloatTensor))\n",
    "\n",
    "        generator_optimizer.zero_grad()\n",
    "        \n",
    "        z = Variable(torch.FloatTensor(np.random.normal(0, 1, (Xbatch.shape[0], 5))))\n",
    "        \n",
    "        gen_imgs = generator(z)\n",
    "        \n",
    "        print(torch.mean(gen_imgs,axis=0))\n",
    "        \n",
    "        g_loss = adversarial_loss_t(discriminator(gen_imgs).reshape((-1,1)), valid.reshape((-1,1)))\n",
    "        \n",
    "        g_loss.backward()\n",
    "        generator_optimizer.step()\n",
    " \n",
    "        ####################\n",
    "\n",
    "        discriminator_optimizer.zero_grad()\n",
    "        \n",
    "        real_loss = adversarial_loss_t(discriminator(real_imgs).reshape((-1,1)), valid.reshape((-1,1)))\n",
    "        fake_loss = adversarial_loss_t(discriminator(gen_imgs.detach()).reshape((-1,1)), fake.reshape((-1,1)))\n",
    "        d_loss = (real_loss + fake_loss) / 2\n",
    "\n",
    "        d_loss.backward()\n",
    "        discriminator_optimizer.step()\n",
    "        \n",
    "        ####################\n",
    "        \n",
    "        mean_gen = torch.mean(gen_imgs, axis=0)\n",
    "        mean_real = torch.mean(real_imgs, axis=0)\n",
    "        \n",
    "        mse_val = torch.mean((mean_gen-mean_real)**2).detach()\n",
    "        mses.append(mse_val)\n",
    "        \n",
    "        clear_output(wait=True)\n",
    "        fig, (ax1, ax2, ax3) = plt.subplots(1,3, figsize=(18, 8))\n",
    "        fig.tight_layout(pad=10.0)\n",
    "        \n",
    "        ax1.plot(mses)\n",
    "        ax1.set_yscale(\"log\")\n",
    "        \n",
    "        im = ax2.imshow(mean_gen.detach(), norm=matplotlib.colors.LogNorm())\n",
    "        plt.colorbar(im,ax=ax2)\n",
    "        \n",
    "        m = ax3.imshow(mean_real.detach(), norm=matplotlib.colors.LogNorm())\n",
    "        plt.colorbar(im,ax=ax3)\n",
    "        \n",
    "        plt.show()\n",
    "        \n",
    "        #my_lr_scheduler.step()\n",
    "\n",
    "        #plot_training_progress(epoch, (samples,),mean_gen_image)\n",
    "        \n",
    "elapsed = time.time() - start\n",
    "print(f\"Fit in {elapsed:0.2f} sec\")"
   ]
  },
  {
   "cell_type": "code",
   "execution_count": 31,
   "id": "3aa2572c-9d67-4ed0-bf29-094e18e9cd64",
   "metadata": {},
   "outputs": [
    {
     "ename": "NameError",
     "evalue": "name 'samples' is not defined",
     "output_type": "error",
     "traceback": [
      "\u001b[0;31m---------------------------------------------------------------------------\u001b[0m",
      "\u001b[0;31mNameError\u001b[0m                                 Traceback (most recent call last)",
      "Input \u001b[0;32mIn [31]\u001b[0m, in \u001b[0;36m<cell line: 1>\u001b[0;34m()\u001b[0m\n\u001b[0;32m----> 1\u001b[0m plot_training_progress(epoch, (\u001b[43msamples\u001b[49m,),mean_gen_image)\n",
      "\u001b[0;31mNameError\u001b[0m: name 'samples' is not defined"
     ]
    }
   ],
   "source": [
    "plot_training_progress(epoch, (samples,),mean_gen_image)"
   ]
  },
  {
   "cell_type": "code",
   "execution_count": null,
   "id": "31765b6b-d75a-4082-9458-eaec6d26d25e",
   "metadata": {},
   "outputs": [],
   "source": [
    "torch.sum(mean_gen_image)"
   ]
  },
  {
   "cell_type": "code",
   "execution_count": null,
   "id": "3c94c27b-30b6-4e7c-be58-3f5b46e7e897",
   "metadata": {},
   "outputs": [],
   "source": [
    "basis_array_to_img(circuit_sample(1, list(generator.parameters())[0].detach())[0])"
   ]
  },
  {
   "cell_type": "code",
   "execution_count": null,
   "id": "1c4e9797-8f0f-4f80-9582-2b40df75db6f",
   "metadata": {},
   "outputs": [],
   "source": [
    "batch_basis_array_to_img(torch.tensor([int_to_bin_list(x,num_qubits) for x in range(2**num_qubits)])).shape"
   ]
  },
  {
   "cell_type": "code",
   "execution_count": null,
   "id": "87b93b7f-392c-40bd-9ea6-5ec664686ee1",
   "metadata": {},
   "outputs": [],
   "source": [
    "circuit(1, list(generator.parameters())[0].detach())"
   ]
  },
  {
   "cell_type": "code",
   "execution_count": null,
   "id": "16ca259c-c8a8-400c-9963-fb596d94e253",
   "metadata": {},
   "outputs": [],
   "source": [
    "counts_full_norm"
   ]
  },
  {
   "cell_type": "code",
   "execution_count": null,
   "id": "3c6bda05-3789-4cd9-873d-9570b75741dc",
   "metadata": {},
   "outputs": [],
   "source": [
    "circuit(1, list(generator.parameters())[0].detach())[16]"
   ]
  },
  {
   "cell_type": "code",
   "execution_count": null,
   "id": "c742e6d0-360d-4a6f-a1e3-8c327a4c7bde",
   "metadata": {},
   "outputs": [],
   "source": [
    "np.argmax(counts_full_norm)"
   ]
  },
  {
   "cell_type": "code",
   "execution_count": null,
   "id": "de4d9a5f-ced8-4c76-bfc3-8a36bd1fda5c",
   "metadata": {},
   "outputs": [],
   "source": [
    "circuit(1, list(generator.parameters())[0].detach())"
   ]
  }
 ],
 "metadata": {
  "kernelspec": {
   "display_name": "tfq",
   "language": "python",
   "name": "tfq"
  },
  "language_info": {
   "codemirror_mode": {
    "name": "ipython",
    "version": 3
   },
   "file_extension": ".py",
   "mimetype": "text/x-python",
   "name": "python",
   "nbconvert_exporter": "python",
   "pygments_lexer": "ipython3",
   "version": "3.9.12"
  }
 },
 "nbformat": 4,
 "nbformat_minor": 5
}
