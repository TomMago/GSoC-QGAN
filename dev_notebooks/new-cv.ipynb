{
 "cells": [
  {
   "cell_type": "code",
   "execution_count": 1,
   "id": "23567f97-58cc-4085-bf1c-ea50ac7f53a7",
   "metadata": {},
   "outputs": [],
   "source": [
    "import matplotlib.pyplot as plt\n",
    "import pennylane as qml\n",
    "from pennylane import numpy as np\n",
    "import time\n",
    "from pennylane.optimize import AdamOptimizer\n",
    "import qutip"
   ]
  },
  {
   "cell_type": "code",
   "execution_count": 2,
   "id": "7e19958e-228b-4d4e-bd2d-e0d1cd9248d8",
   "metadata": {},
   "outputs": [],
   "source": [
    "dev = qml.device('lightning.qubit', wires=3)"
   ]
  },
  {
   "cell_type": "code",
   "execution_count": 3,
   "id": "8a684c67-54b4-4233-b93b-f63b0ca70570",
   "metadata": {},
   "outputs": [],
   "source": [
    "N = 400"
   ]
  },
  {
   "cell_type": "code",
   "execution_count": 4,
   "id": "8dc12198-1f99-44ca-a1ec-3e757ce002d4",
   "metadata": {},
   "outputs": [],
   "source": [
    "data = np.random.normal(loc=0,scale=1.5, size=N)"
   ]
  },
  {
   "cell_type": "code",
   "execution_count": 5,
   "id": "73f91350-4e2f-4be0-bde4-26eeccb3a8f8",
   "metadata": {},
   "outputs": [],
   "source": [
    "data = data/np.max(np.abs(data))"
   ]
  },
  {
   "cell_type": "code",
   "execution_count": 6,
   "id": "013d6ec6-34a3-4771-8446-ec6adce1582c",
   "metadata": {
    "tags": []
   },
   "outputs": [],
   "source": [
    "values, counts = np.histogram(data)"
   ]
  },
  {
   "cell_type": "code",
   "execution_count": 7,
   "id": "7fb34cfc-6c85-44ba-9b71-43bc8bc906f7",
   "metadata": {},
   "outputs": [
    {
     "data": {
      "image/png": "[encoded data removed]",
      "text/plain": [
       "<Figure size 432x288 with 1 Axes>"
      ]
     },
     "metadata": {
      "needs_background": "light"
     },
     "output_type": "display_data"
    }
   ],
   "source": [
    "from scipy.stats import norm\n",
    "x_axis = np.arange(0, 13, 0.001)\n",
    "# Mean = 0, SD = 2.\n",
    "plt.plot(x_axis, norm.pdf(x_axis,7,1.5))\n",
    "plt.show()\n"
   ]
  },
  {
   "cell_type": "code",
   "execution_count": 8,
   "id": "22c64642-1ce3-4a75-a521-3bd81e12d1a1",
   "metadata": {},
   "outputs": [
    {
     "data": {
      "text/plain": [
       "Text(0.5, 0, 'i')"
      ]
     },
     "execution_count": 8,
     "metadata": {},
     "output_type": "execute_result"
    },
    {
     "data": {
      "image/png": "[encoded data removed]",
      "text/plain": [
       "<Figure size 432x288 with 1 Axes>"
      ]
     },
     "metadata": {
      "needs_background": "light"
     },
     "output_type": "display_data"
    }
   ],
   "source": [
    "plt.hist(data, histtype='step')#, 'b.', markersize=12)\n",
    "plt.ylabel('P_i')\n",
    "plt.xlabel('i')"
   ]
  },
  {
   "cell_type": "code",
   "execution_count": 9,
   "id": "6a397db5-5103-4967-a139-c9b7a850d1b4",
   "metadata": {},
   "outputs": [],
   "source": [
    "data = (data+1)*np.pi/2"
   ]
  },
  {
   "cell_type": "code",
   "execution_count": 10,
   "id": "e29816d4-f9a7-4e14-a066-40a02163b9f6",
   "metadata": {},
   "outputs": [
    {
     "data": {
      "text/plain": [
       "Text(0.5, 0, 'i')"
      ]
     },
     "execution_count": 10,
     "metadata": {},
     "output_type": "execute_result"
    },
    {
     "data": {
      "image/png": "[encoded data removed]",
      "text/plain": [
       "<Figure size 432x288 with 1 Axes>"
      ]
     },
     "metadata": {
      "needs_background": "light"
     },
     "output_type": "display_data"
    }
   ],
   "source": [
    "plt.hist(data, histtype='step')#, 'b.', markersize=12)\n",
    "plt.ylabel('P_i')\n",
    "plt.xlabel('i')"
   ]
  },
  {
   "cell_type": "code",
   "execution_count": 11,
   "id": "3becaa22-773b-4806-b531-e23f50c4bd81",
   "metadata": {},
   "outputs": [],
   "source": [
    "data_dev = qml.device('lightning.qubit', wires=1)"
   ]
  },
  {
   "cell_type": "code",
   "execution_count": 12,
   "id": "dc025a19-ea39-430b-b6fb-1e91fbc5fd7e",
   "metadata": {},
   "outputs": [],
   "source": [
    "@qml.qnode(data_dev)\n",
    "def data_dev_circ(data):\n",
    "    qml.RY(data, wires=0)\n",
    "    return qml.expval(qml.PauliZ(0))"
   ]
  },
  {
   "cell_type": "code",
   "execution_count": 13,
   "id": "ade2d6b7-5602-426f-815e-433b663da88d",
   "metadata": {},
   "outputs": [
    {
     "data": {
      "text/plain": [
       "(array([ 6.,  6., 11., 20., 21., 27., 30., 24., 31., 27., 38., 28., 23.,\n",
       "        32., 18., 14., 15., 13.,  9.,  7.]),\n",
       " tensor([-9.99789437e-01, -8.99799965e-01, -7.99810493e-01,\n",
       "         -6.99821021e-01, -5.99831550e-01, -4.99842078e-01,\n",
       "         -3.99852606e-01, -2.99863134e-01, -1.99873662e-01,\n",
       "         -9.98841903e-02,  1.05281558e-04,  1.00094753e-01,\n",
       "          2.00084225e-01,  3.00073697e-01,  4.00063169e-01,\n",
       "          5.00052641e-01,  6.00042113e-01,  7.00031584e-01,\n",
       "          8.00021056e-01,  9.00010528e-01,  1.00000000e+00], requires_grad=True),\n",
       " <BarContainer object of 20 artists>)"
      ]
     },
     "execution_count": 13,
     "metadata": {},
     "output_type": "execute_result"
    },
    {
     "data": {
      "image/png": "[encoded data removed]",
      "text/plain": [
       "<Figure size 432x288 with 1 Axes>"
      ]
     },
     "metadata": {
      "needs_background": "light"
     },
     "output_type": "display_data"
    }
   ],
   "source": [
    "plt.hist(data_dev_circ(data), bins=20)"
   ]
  },
  {
   "cell_type": "code",
   "execution_count": 14,
   "id": "bcb6ed34-b37e-4f5b-9c90-bbced66f75d1",
   "metadata": {},
   "outputs": [],
   "source": [
    "def G_anastz(z, params):\n",
    "    layers = int(len(params)/2)\n",
    "    #qml.Rot(params[0], params[1], params[2], wires=0)\n",
    "    for i in range(layers): qml.RY(params[i]*z + params[i+layers], wires=0)"
   ]
  },
  {
   "cell_type": "code",
   "execution_count": 15,
   "id": "9c8fa457-5c3c-47cd-a0e5-e28732b85974",
   "metadata": {},
   "outputs": [],
   "source": [
    "def D_ansatz(params):\n",
    "    qml.RY(params[0],wires=0)\n",
    "    qml.CNOT(wires=[0,1])\n",
    "    qml.CNOT(wires=[1,2])\n",
    "    qml.CNOT(wires=[2,0])\n",
    "    qml.RY(params[1],wires=0)\n",
    "    qml.RY(params[2],wires=1)\n",
    "    qml.RY(params[3],wires=2)\n",
    "    qml.CNOT(wires=[0,1])\n",
    "    qml.CNOT(wires=[1,2])\n",
    "    qml.CNOT(wires=[2,0])\n",
    "    qml.RY(params[4],wires=0)\n",
    "    qml.RY(params[5],wires=1)\n",
    "    qml.RY(params[6],wires=2)\n",
    "    qml.CNOT(wires=[0,1])\n",
    "    qml.CNOT(wires=[0,2])"
   ]
  },
  {
   "cell_type": "code",
   "execution_count": 16,
   "id": "539c88b4-6903-49c1-a28c-096f43757eca",
   "metadata": {},
   "outputs": [],
   "source": [
    "@qml.qnode(dev)\n",
    "def circuit2(z, params):\n",
    "    G_anastz(z, params)\n",
    "    return qml.expval(qml.PauliZ(0))"
   ]
  },
  {
   "cell_type": "code",
   "execution_count": 17,
   "id": "c45626ea-0a86-469e-89ed-03b1ac166ff7",
   "metadata": {},
   "outputs": [
    {
     "name": "stderr",
     "output_type": "stream",
     "text": [
      "/tmp/ipykernel_452274/2399309337.py:2: UserWarning: Matplotlib is currently using module://matplotlib_inline.backend_inline, which is a non-GUI backend, so cannot show the figure.\n",
      "  fig.show()\n"
     ]
    },
    {
     "data": {
      "image/png": "[encoded data removed]",
      "text/plain": [
       "<Figure size 504x144 with 1 Axes>"
      ]
     },
     "metadata": {},
     "output_type": "display_data"
    }
   ],
   "source": [
    "fig, ax = qml.draw_mpl(circuit2)(0.5,np.zeros(shape=8,))\n",
    "fig.show()"
   ]
  },
  {
   "cell_type": "markdown",
   "id": "bf134c12-475c-48bc-9009-4ef652427c54",
   "metadata": {
    "tags": []
   },
   "source": [
    "## normal swap"
   ]
  },
  {
   "cell_type": "code",
   "execution_count": 18,
   "id": "356aa568-1970-4743-b119-cead5680829b",
   "metadata": {},
   "outputs": [],
   "source": [
    "@qml.qnode(dev, diff_method=\"best\")\n",
    "def training_circ_gen(z, paramsg, paramsd):\n",
    "    G_anastz(z, paramsg)\n",
    "    D_ansatz(paramsd)\n",
    "    return qml.expval(qml.PauliZ(0))"
   ]
  },
  {
   "cell_type": "code",
   "execution_count": 19,
   "id": "c8c608bd-8f22-4086-9e6f-55d6cdc44428",
   "metadata": {},
   "outputs": [],
   "source": [
    "@qml.qnode(dev, diff_method=\"best\")\n",
    "def training_circ_discr(data, paramsg, paramsd):\n",
    "    qml.RY(data, wires=0)\n",
    "    D_ansatz(paramsd)\n",
    "    return qml.expval(qml.PauliZ(0))"
   ]
  },
  {
   "cell_type": "code",
   "execution_count": 20,
   "id": "be51e548-5863-41c8-a435-4914475c4efe",
   "metadata": {},
   "outputs": [
    {
     "name": "stderr",
     "output_type": "stream",
     "text": [
      "/tmp/ipykernel_452274/3411541928.py:2: UserWarning: Matplotlib is currently using module://matplotlib_inline.backend_inline, which is a non-GUI backend, so cannot show the figure.\n",
      "  fig.show()\n"
     ]
    },
    {
     "data": {
      "image/png": "[encoded data removed]",
      "text/plain": [
       "<Figure size 1440x288 with 1 Axes>"
      ]
     },
     "metadata": {},
     "output_type": "display_data"
    }
   ],
   "source": [
    "fig, ax = qml.draw_mpl(training_circ_gen)(0.5,np.random.random(size=(12,)), np.random.random(size=(10,)))\n",
    "fig.show()"
   ]
  },
  {
   "cell_type": "markdown",
   "id": "60acc0f0-7c80-43cc-8322-9967abd6651d",
   "metadata": {},
   "source": [
    "## Training "
   ]
  },
  {
   "cell_type": "code",
   "execution_count": 21,
   "id": "233c9b8d-468e-4d3b-b863-b8a646f045a2",
   "metadata": {},
   "outputs": [],
   "source": [
    "def iterate_minibatches(data, batch_size):\n",
    "    for start_idx in range(0, data.shape[0] - batch_size + 1, batch_size):\n",
    "        idxs = slice(start_idx, start_idx + batch_size)\n",
    "        yield data[idxs]\n",
    "        \n",
    "def cost_batch_old(paramsg, paramsd, batch):\n",
    "    loss = 0.0\n",
    "    for i in batch:\n",
    "        f = training_circ(i, paramsg, paramsd)\n",
    "        loss = loss + np.log(1 - f)\n",
    "    return loss / len(batch)\n",
    "\n",
    "def cost_batch_gen(paramsg, paramsd, batch, reg=0.000001):\n",
    "    loss = 0.0\n",
    "    for _ in batch:\n",
    "        z = np.random.normal(-1, 1, requires_grad=False)\n",
    "        f = training_circ_gen(z, paramsg, paramsd) \n",
    "        f = (1-f)/2\n",
    "        loss -= np.log(f+reg)\n",
    "    return loss / len(batch)\n",
    "\n",
    "def cost_batch_discr(paramsg, paramsd, batch, reg=0.000001):\n",
    "    loss = 0.0\n",
    "    for i in batch:\n",
    "        z = np.random.normal(-1, 1, requires_grad=False)\n",
    "        f1 = training_circ_gen(z, paramsg, paramsd)  \n",
    "        f2 = training_circ_discr(i, paramsg, paramsd) \n",
    "        f1 = (1-f1)/2\n",
    "        f2 = (1-f2)/2\n",
    "        loss -= np.log(1-f1+reg)\n",
    "        loss -= np.log(f2+reg)\n",
    "    return loss / len(batch)"
   ]
  },
  {
   "cell_type": "code",
   "execution_count": 22,
   "id": "dc5b21c6-9ec8-44f1-a673-3b3c7e8c431d",
   "metadata": {},
   "outputs": [],
   "source": [
    "paramsg = np.random.normal(0,1, size=(40,), requires_grad=True)\n",
    "paramsd = np.random.normal(-np.pi,np.pi, size=(10,), requires_grad=True)"
   ]
  },
  {
   "cell_type": "code",
   "execution_count": 23,
   "id": "66a92716-e558-411e-a43c-b1fc94a5e6c5",
   "metadata": {},
   "outputs": [],
   "source": [
    "epochs = 200\n",
    "batch_size=16\n",
    "learning_rate=0.01"
   ]
  },
  {
   "cell_type": "code",
   "execution_count": 24,
   "id": "b54a745c-75cd-4dd7-b0df-89b5ec9ef424",
   "metadata": {},
   "outputs": [],
   "source": [
    "optg = AdamOptimizer(learning_rate, beta1=0.9, beta2=0.999)\n",
    "optd = AdamOptimizer(learning_rate, beta1=0.9, beta2=0.999)"
   ]
  },
  {
   "cell_type": "code",
   "execution_count": 25,
   "id": "255d0026-178b-41d8-9f81-bdc7e57a8cf1",
   "metadata": {},
   "outputs": [],
   "source": [
    "@qml.qnode(dev)\n",
    "def sample_test_b(z):\n",
    "    G_anastz(z, paramsg)\n",
    "    return [qml.expval(qml.PauliX(0)), qml.expval(qml.PauliY(0)), qml.expval(qml.PauliZ(0))]\n",
    "\n",
    "b = qutip.Bloch()\n",
    "\n",
    "def plot_bloch_sample():\n",
    "    pnts = []\n",
    "    for i in range(N):\n",
    "        z = np.random.uniform(-1,1)\n",
    "        vs = sample_test_b(z)\n",
    "        pnts += [vs]\n",
    "    pnts = np.array(pnts)\n",
    "    b.clear()\n",
    "    b.add_points([pnts[:,0],pnts[:,1],pnts[:,2]])\n",
    "    b.save(dirc='imgs') \n",
    "    #b.show()"
   ]
  },
  {
   "cell_type": "code",
   "execution_count": null,
   "id": "2289552e-d72b-4553-90b1-c4121f19ac7c",
   "metadata": {},
   "outputs": [
    {
     "name": "stdout",
     "output_type": "stream",
     "text": [
      "initial paramsg: [-0.39875652 -0.56709189  2.23014641  1.08883185  0.9496406   0.97741352\n",
      " -1.86017599  1.03976473  0.09293515  0.89949952  1.32067294 -1.70977331\n",
      " -1.721632    1.03550745 -1.95469281  0.18398375  0.25387358 -0.52103606\n",
      " -1.10743701 -2.05965533  1.14160265  0.4801715  -1.1629749  -0.02724112\n",
      "  0.13515281  0.05265397 -1.76936179  1.08419776 -1.14686356 -0.56951282\n",
      " -0.65960566 -0.25800869 -0.54942     1.69609749 -0.04288423 -0.46568686\n",
      "  0.65151015 -1.18967193 -0.69311935  0.46153068]\n",
      "____\n",
      "Epoch: 0 | Loss gen: 0.724 | Loss discr: 1.64 \n",
      "____\n",
      "____\n",
      "Epoch: 1 | Loss gen: 0.89 | Loss discr: 1.26 \n",
      "____\n",
      "____\n",
      "Epoch: 2 | Loss gen: 0.341 | Loss discr: 1.78 \n",
      "____\n",
      "____\n",
      "Epoch: 3 | Loss gen: 0.693 | Loss discr: 1.25 \n",
      "____\n",
      "____\n",
      "Epoch: 4 | Loss gen: 0.446 | Loss discr: 1.54 \n",
      "____\n",
      "____\n",
      "Epoch: 5 | Loss gen: 0.742 | Loss discr: 1.43 \n",
      "____\n",
      "____\n",
      "Epoch: 6 | Loss gen: 0.74 | Loss discr: 1.43 \n",
      "____\n",
      "____\n",
      "Epoch: 7 | Loss gen: 0.733 | Loss discr: 1.42 \n",
      "____\n",
      "____\n",
      "Epoch: 8 | Loss gen: 0.728 | Loss discr: 1.43 \n",
      "____\n",
      "____\n",
      "Epoch: 9 | Loss gen: 0.706 | Loss discr: 1.42 \n",
      "____\n",
      "____\n",
      "Epoch: 10 | Loss gen: 0.706 | Loss discr: 1.42 \n",
      "____\n",
      "____\n",
      "Epoch: 11 | Loss gen: 0.714 | Loss discr: 1.42 \n",
      "____\n",
      "____\n",
      "Epoch: 12 | Loss gen: 0.714 | Loss discr: 1.42 \n",
      "____\n",
      "____\n",
      "Epoch: 13 | Loss gen: 0.717 | Loss discr: 1.41 \n",
      "____\n",
      "____\n",
      "Epoch: 14 | Loss gen: 0.717 | Loss discr: 1.41 \n",
      "____\n",
      "____\n",
      "Epoch: 15 | Loss gen: 0.726 | Loss discr: 1.41 \n",
      "____\n",
      "____\n",
      "Epoch: 16 | Loss gen: 0.726 | Loss discr: 1.41 \n",
      "____\n",
      "____\n",
      "Epoch: 17 | Loss gen: 0.73 | Loss discr: 1.4 \n",
      "____\n",
      "____\n",
      "Epoch: 18 | Loss gen: 0.73 | Loss discr: 1.4 \n",
      "____\n",
      "____\n",
      "Epoch: 19 | Loss gen: 0.731 | Loss discr: 1.4 \n",
      "____\n",
      "____\n",
      "Epoch: 20 | Loss gen: 0.731 | Loss discr: 1.4 \n",
      "____\n",
      "____\n",
      "Epoch: 21 | Loss gen: 0.737 | Loss discr: 1.39 \n",
      "____\n",
      "____\n",
      "Epoch: 22 | Loss gen: 0.737 | Loss discr: 1.39 \n",
      "____\n",
      "____\n",
      "Epoch: 23 | Loss gen: 0.75 | Loss discr: 1.39 \n",
      "____\n",
      "____\n",
      "Epoch: 24 | Loss gen: 0.727 | Loss discr: 1.4 \n",
      "____\n",
      "____\n",
      "Epoch: 25 | Loss gen: 0.714 | Loss discr: 1.13 \n",
      "____\n",
      "____\n",
      "Epoch: 26 | Loss gen: 0.388 | Loss discr: 1.58 \n",
      "____\n",
      "____\n",
      "Epoch: 27 | Loss gen: 0.704 | Loss discr: 1.34 \n",
      "____\n",
      "____\n",
      "Epoch: 28 | Loss gen: 0.628 | Loss discr: 1.42 \n",
      "____\n",
      "____\n",
      "Epoch: 29 | Loss gen: 0.737 | Loss discr: 1.41 \n",
      "____\n",
      "____\n",
      "Epoch: 30 | Loss gen: 0.735 | Loss discr: 1.42 \n",
      "____\n",
      "____\n",
      "Epoch: 31 | Loss gen: 0.699 | Loss discr: 1.4 \n",
      "____\n",
      "____\n",
      "Epoch: 32 | Loss gen: 0.695 | Loss discr: 1.41 \n",
      "____\n",
      "____\n",
      "Epoch: 33 | Loss gen: 0.73 | Loss discr: 1.4 \n",
      "____\n",
      "____\n",
      "Epoch: 34 | Loss gen: 0.729 | Loss discr: 1.4 \n",
      "____\n",
      "____\n",
      "Epoch: 35 | Loss gen: 0.738 | Loss discr: 1.4 \n",
      "____\n",
      "____\n",
      "Epoch: 36 | Loss gen: 0.738 | Loss discr: 1.4 \n",
      "____\n",
      "____\n",
      "Epoch: 37 | Loss gen: 0.748 | Loss discr: 1.39 \n",
      "____\n",
      "____\n",
      "Epoch: 38 | Loss gen: 0.747 | Loss discr: 1.39 \n",
      "____\n",
      "____\n",
      "Epoch: 39 | Loss gen: 0.72 | Loss discr: 1.39 \n",
      "____\n",
      "____\n",
      "Epoch: 40 | Loss gen: 0.72 | Loss discr: 1.39 \n",
      "____\n",
      "____\n",
      "Epoch: 41 | Loss gen: 0.698 | Loss discr: 1.39 \n",
      "____\n",
      "____\n",
      "Epoch: 42 | Loss gen: 0.697 | Loss discr: 1.39 \n",
      "____\n",
      "____\n",
      "Epoch: 43 | Loss gen: 0.767 | Loss discr: 1.38 \n",
      "____\n",
      "____\n",
      "Epoch: 44 | Loss gen: 0.693 | Loss discr: 1.45 \n",
      "____\n",
      "____\n",
      "Epoch: 45 | Loss gen: 0.789 | Loss discr: 1.06 \n",
      "____\n",
      "____\n",
      "Epoch: 46 | Loss gen: 0.359 | Loss discr: 1.56 \n",
      "____\n",
      "____\n",
      "Epoch: 47 | Loss gen: 0.737 | Loss discr: 1.36 \n",
      "____\n",
      "____\n",
      "Epoch: 48 | Loss gen: 0.659 | Loss discr: 1.43 \n",
      "____\n",
      "____\n",
      "Epoch: 49 | Loss gen: 0.724 | Loss discr: 1.4 \n",
      "____\n",
      "____\n",
      "Epoch: 50 | Loss gen: 0.704 | Loss discr: 1.41 \n",
      "____\n",
      "____\n",
      "Epoch: 51 | Loss gen: 0.71 | Loss discr: 1.41 \n",
      "____\n",
      "____\n",
      "Epoch: 52 | Loss gen: 0.708 | Loss discr: 1.41 \n",
      "____\n",
      "____\n",
      "Epoch: 53 | Loss gen: 0.705 | Loss discr: 1.4 \n",
      "____\n",
      "____\n",
      "Epoch: 54 | Loss gen: 0.701 | Loss discr: 1.41 \n",
      "____\n",
      "____\n",
      "Epoch: 55 | Loss gen: 0.725 | Loss discr: 1.4 \n",
      "____\n",
      "____\n",
      "Epoch: 56 | Loss gen: 0.724 | Loss discr: 1.4 \n",
      "____\n",
      "____\n",
      "Epoch: 57 | Loss gen: 0.737 | Loss discr: 1.39 \n",
      "____\n",
      "____\n",
      "Epoch: 58 | Loss gen: 0.737 | Loss discr: 1.39 \n",
      "____\n",
      "____\n",
      "Epoch: 59 | Loss gen: 0.742 | Loss discr: 1.39 \n",
      "____\n",
      "____\n",
      "Epoch: 60 | Loss gen: 0.74 | Loss discr: 1.39 \n",
      "____\n",
      "____\n",
      "Epoch: 61 | Loss gen: 0.698 | Loss discr: 1.39 \n",
      "____\n",
      "____\n",
      "Epoch: 62 | Loss gen: 0.694 | Loss discr: 1.39 \n",
      "____\n",
      "____\n",
      "Epoch: 63 | Loss gen: 0.74 | Loss discr: 1.39 \n",
      "____\n",
      "____\n",
      "Epoch: 64 | Loss gen: 0.724 | Loss discr: 1.4 \n",
      "____\n",
      "____\n",
      "Epoch: 65 | Loss gen: 0.68 | Loss discr: 1.24 \n",
      "____\n",
      "____\n",
      "Epoch: 66 | Loss gen: 0.472 | Loss discr: 1.47 \n",
      "____\n",
      "____\n",
      "Epoch: 67 | Loss gen: 0.717 | Loss discr: 1.4 \n",
      "____\n",
      "____\n",
      "Epoch: 68 | Loss gen: 0.713 | Loss discr: 1.4 \n",
      "____\n",
      "____\n",
      "Epoch: 69 | Loss gen: 0.728 | Loss discr: 1.4 \n",
      "____\n",
      "____\n",
      "Epoch: 70 | Loss gen: 0.722 | Loss discr: 1.4 \n",
      "____\n",
      "____\n",
      "Epoch: 71 | Loss gen: 0.727 | Loss discr: 1.4 \n",
      "____\n",
      "____\n",
      "Epoch: 72 | Loss gen: 0.726 | Loss discr: 1.4 \n",
      "____\n",
      "____\n",
      "Epoch: 73 | Loss gen: 0.745 | Loss discr: 1.39 \n",
      "____\n",
      "____\n",
      "Epoch: 74 | Loss gen: 0.74 | Loss discr: 1.39 \n",
      "____\n",
      "____\n",
      "Epoch: 75 | Loss gen: 0.677 | Loss discr: 1.38 \n",
      "____\n",
      "____\n",
      "Epoch: 76 | Loss gen: 0.67 | Loss discr: 1.39 \n",
      "____\n",
      "____\n",
      "Epoch: 77 | Loss gen: 0.744 | Loss discr: 1.39 \n",
      "____\n",
      "____\n",
      "Epoch: 78 | Loss gen: 0.743 | Loss discr: 1.39 \n",
      "____\n",
      "____\n",
      "Epoch: 79 | Loss gen: 0.743 | Loss discr: 1.38 \n",
      "____\n",
      "____\n",
      "Epoch: 80 | Loss gen: 0.691 | Loss discr: 1.43 \n",
      "____\n",
      "____\n",
      "Epoch: 81 | Loss gen: 1.03 | Loss discr: 0.887 \n",
      "____\n",
      "____\n",
      "Epoch: 82 | Loss gen: 0.339 | Loss discr: 1.57 \n",
      "____\n",
      "____\n",
      "Epoch: 83 | Loss gen: 0.8 | Loss discr: 1.36 \n",
      "____\n",
      "____\n",
      "Epoch: 84 | Loss gen: 0.706 | Loss discr: 1.43 \n",
      "____\n",
      "____\n",
      "Epoch: 85 | Loss gen: 0.69 | Loss discr: 1.41 \n",
      "____\n",
      "____\n",
      "Epoch: 86 | Loss gen: 0.668 | Loss discr: 1.43 \n",
      "____\n",
      "____\n",
      "Epoch: 87 | Loss gen: 0.705 | Loss discr: 1.43 \n",
      "____\n",
      "____\n",
      "Epoch: 88 | Loss gen: 0.704 | Loss discr: 1.43 \n",
      "____\n",
      "____\n",
      "Epoch: 89 | Loss gen: 0.694 | Loss discr: 1.41 \n",
      "____\n",
      "____\n",
      "Epoch: 90 | Loss gen: 0.684 | Loss discr: 1.42 \n",
      "____\n",
      "____\n",
      "Epoch: 91 | Loss gen: 0.713 | Loss discr: 1.42 \n",
      "____\n",
      "____\n",
      "Epoch: 92 | Loss gen: 0.71 | Loss discr: 1.42 \n",
      "____\n",
      "____\n",
      "Epoch: 93 | Loss gen: 0.699 | Loss discr: 1.42 \n",
      "____\n",
      "____\n",
      "Epoch: 94 | Loss gen: 0.699 | Loss discr: 1.42 \n",
      "____\n",
      "____\n",
      "Epoch: 95 | Loss gen: 0.708 | Loss discr: 1.41 \n",
      "____\n",
      "____\n",
      "Epoch: 96 | Loss gen: 0.708 | Loss discr: 1.41 \n",
      "____\n",
      "____\n",
      "Epoch: 97 | Loss gen: 0.712 | Loss discr: 1.41 \n",
      "____\n",
      "____\n",
      "Epoch: 98 | Loss gen: 0.712 | Loss discr: 1.41 \n",
      "____\n",
      "____\n",
      "Epoch: 99 | Loss gen: 0.716 | Loss discr: 1.4 \n",
      "____\n",
      "____\n",
      "Epoch: 100 | Loss gen: 0.716 | Loss discr: 1.4 \n",
      "____\n",
      "____\n",
      "Epoch: 101 | Loss gen: 0.724 | Loss discr: 1.4 \n",
      "____\n",
      "____\n",
      "Epoch: 102 | Loss gen: 0.724 | Loss discr: 1.4 \n",
      "____\n",
      "____\n",
      "Epoch: 103 | Loss gen: 0.731 | Loss discr: 1.39 \n",
      "____\n",
      "____\n",
      "Epoch: 104 | Loss gen: 0.731 | Loss discr: 1.39 \n",
      "____\n",
      "____\n",
      "Epoch: 105 | Loss gen: 0.722 | Loss discr: 1.39 \n",
      "____\n",
      "____\n",
      "Epoch: 106 | Loss gen: 0.721 | Loss discr: 1.39 \n",
      "____\n",
      "____\n",
      "Epoch: 107 | Loss gen: 0.666 | Loss discr: 1.38 \n",
      "____\n",
      "____\n",
      "Epoch: 108 | Loss gen: 0.652 | Loss discr: 1.4 \n",
      "____\n",
      "____\n",
      "Epoch: 109 | Loss gen: 0.735 | Loss discr: 1.39 \n",
      "____\n",
      "____\n",
      "Epoch: 110 | Loss gen: 0.735 | Loss discr: 1.39 \n",
      "____\n",
      "____\n",
      "Epoch: 111 | Loss gen: 0.748 | Loss discr: 1.38 \n",
      "____\n",
      "____\n",
      "Epoch: 112 | Loss gen: 0.667 | Loss discr: 1.46 \n",
      "____\n",
      "____\n",
      "Epoch: 113 | Loss gen: 0.929 | Loss discr: 0.959 \n",
      "____\n",
      "____\n",
      "Epoch: 114 | Loss gen: 0.763 | Loss discr: 1.1 \n",
      "____\n",
      "____\n",
      "Epoch: 115 | Loss gen: 0.953 | Loss discr: 1.04 \n",
      "____\n",
      "____\n",
      "Epoch: 116 | Loss gen: 0.974 | Loss discr: 1.04 \n",
      "____\n",
      "____\n",
      "Epoch: 117 | Loss gen: 1.12 | Loss discr: 0.96 \n",
      "____\n",
      "____\n",
      "Epoch: 118 | Loss gen: 1.13 | Loss discr: 0.967 \n",
      "____\n",
      "____\n",
      "Epoch: 119 | Loss gen: 1.22 | Loss discr: 0.977 \n",
      "____\n",
      "____\n",
      "Epoch: 120 | Loss gen: 1.18 | Loss discr: 0.962 \n",
      "____\n",
      "____\n",
      "Epoch: 121 | Loss gen: 1.27 | Loss discr: 0.957 \n",
      "____\n",
      "____\n",
      "Epoch: 122 | Loss gen: 1.21 | Loss discr: 0.971 \n",
      "____\n",
      "____\n",
      "Epoch: 123 | Loss gen: 1.35 | Loss discr: 0.968 \n",
      "____\n",
      "____\n",
      "Epoch: 124 | Loss gen: 1.37 | Loss discr: 0.97 \n",
      "____\n",
      "____\n",
      "Epoch: 125 | Loss gen: 1.49 | Loss discr: 0.933 \n",
      "____\n",
      "____\n",
      "Epoch: 126 | Loss gen: 1.5 | Loss discr: 0.924 \n",
      "____\n",
      "____\n",
      "Epoch: 127 | Loss gen: 1.41 | Loss discr: 0.982 \n",
      "____\n",
      "____\n",
      "Epoch: 128 | Loss gen: 1.42 | Loss discr: 0.948 \n",
      "____\n",
      "____\n",
      "Epoch: 129 | Loss gen: 1.61 | Loss discr: 0.925 \n",
      "____\n",
      "____\n",
      "Epoch: 130 | Loss gen: 0.436 | Loss discr: 1.48 \n",
      "____\n",
      "____\n",
      "Epoch: 131 | Loss gen: 0.768 | Loss discr: 1.37 \n",
      "____\n",
      "____\n",
      "Epoch: 132 | Loss gen: 0.641 | Loss discr: 1.46 \n",
      "____\n",
      "____\n",
      "Epoch: 133 | Loss gen: 0.737 | Loss discr: 1.42 \n",
      "____\n",
      "____\n",
      "Epoch: 134 | Loss gen: 0.698 | Loss discr: 1.45 \n",
      "____\n",
      "____\n",
      "Epoch: 135 | Loss gen: 0.711 | Loss discr: 1.43 \n",
      "____\n",
      "____\n",
      "Epoch: 136 | Loss gen: 0.688 | Loss discr: 1.45 \n",
      "____\n",
      "____\n",
      "Epoch: 137 | Loss gen: 0.697 | Loss discr: 1.45 \n",
      "____\n",
      "10\r"
     ]
    }
   ],
   "source": [
    "print(\"initial paramsg:\", paramsg)\n",
    "\n",
    "paramsg_before = paramsg.copy()\n",
    "\n",
    "losshistg = []\n",
    "losshistd = []\n",
    "\n",
    "start = time.time()\n",
    "\n",
    "for it in range(epochs):\n",
    "    start_b = time.time()\n",
    "    for j,Xbatch in enumerate(iterate_minibatches(data, batch_size=batch_size)):  \n",
    "        if it % 2 == 0:\n",
    "            cost_fn_g = lambda p: cost_batch_gen(p, paramsd, Xbatch)\n",
    "            paramsg = optg.step(cost_fn_g, paramsg)\n",
    "        if it % 2 == 1:\n",
    "            cost_fn = lambda p: cost_batch_discr(paramsg, p, Xbatch)\n",
    "            paramsd = optd.step(cost_fn, paramsd)\n",
    "        #plot_bloch_sample()\n",
    "        print(j, end=\"\\r\")\n",
    "        #if j % 20 == 0:\n",
    "        #    loss = cost_batch(params,Xbatch)\n",
    "        #    print(f\"Step: {j} | Loss: {loss:.3} |\")\n",
    "    \n",
    "    lossg = cost_batch_gen(paramsg, paramsd, data)\n",
    "    lossd = cost_batch_discr(paramsg, paramsd, data)\n",
    "    \n",
    "    losshistg += [lossg]\n",
    "    losshistd += [lossd]\n",
    "    \n",
    "    print(\"____\")\n",
    "    print(f\"Epoch: {it} | Loss gen: {lossg:.3} | Loss discr: {lossd:.3} \")\n",
    "    print(\"____\")\n",
    "    \n",
    "end = time.time()\n",
    "\n",
    "print(f\"Time for {epochs} epochs: {end - start}\")\n",
    "\n",
    "print(\"final paramsg:\", paramsg)"
   ]
  },
  {
   "cell_type": "code",
   "execution_count": null,
   "id": "cf196299-4086-40a7-a382-f081e0b05cc9",
   "metadata": {},
   "outputs": [],
   "source": [
    "plt.plot(losshistg)\n",
    "plt.plot(losshistd)\n",
    "plt.xlabel(\"epoch\")\n",
    "plt.ylabel(\"loss\")"
   ]
  },
  {
   "cell_type": "code",
   "execution_count": null,
   "id": "282f682c-27f2-4013-9b86-8c3c1e6f703f",
   "metadata": {},
   "outputs": [],
   "source": [
    "@qml.qnode(dev)\n",
    "def sample_test(z):\n",
    "    G_anastz(z, paramsg)\n",
    "    return qml.expval(qml.PauliZ(0))"
   ]
  },
  {
   "cell_type": "code",
   "execution_count": null,
   "id": "9796556b-c3a9-4f54-9a91-f887e4d6937c",
   "metadata": {},
   "outputs": [],
   "source": [
    "fig, ax = qml.draw_mpl(sample_test)(0.5)\n",
    "fig.show()"
   ]
  },
  {
   "cell_type": "code",
   "execution_count": null,
   "id": "39ed2253-7d44-4adf-bc1d-55d328401969",
   "metadata": {},
   "outputs": [],
   "source": [
    "testresult = []\n",
    "for i in range(N):\n",
    "    z = np.random.uniform(-1,1)\n",
    "    testresult += [sample_test(z)]"
   ]
  },
  {
   "cell_type": "code",
   "execution_count": null,
   "id": "df15b682-261d-45f2-b70c-f4fe5143232f",
   "metadata": {},
   "outputs": [],
   "source": [
    "plt.hist(testresult)"
   ]
  },
  {
   "cell_type": "code",
   "execution_count": null,
   "id": "d2a3401c-2de4-44a4-a03f-8bd06b7c58a2",
   "metadata": {},
   "outputs": [],
   "source": []
  }
 ],
 "metadata": {
  "kernelspec": {
   "display_name": "tfq",
   "language": "python",
   "name": "tfq"
  },
  "language_info": {
   "codemirror_mode": {
    "name": "ipython",
    "version": 3
   },
   "file_extension": ".py",
   "mimetype": "text/x-python",
   "name": "python",
   "nbconvert_exporter": "python",
   "pygments_lexer": "ipython3",
   "version": "3.9.12"
  }
 },
 "nbformat": 4,
 "nbformat_minor": 5
}
