{
 "cells": [
  {
   "cell_type": "code",
   "execution_count": 1,
   "id": "f75d6aba-26d9-418b-81cc-e9c3b44278a1",
   "metadata": {},
   "outputs": [],
   "source": [
    "import matplotlib\n",
    "import matplotlib.pyplot as plt\n",
    "import pennylane as qml\n",
    "from pennylane import numpy as np\n",
    "import time\n",
    "from pennylane.optimize import AdamOptimizer\n",
    "import torch\n",
    "\n",
    "plt.rcParams['figure.dpi'] = 300\n",
    "plt.rcParams['figure.figsize'] = [11, 7]\n",
    "plt.rcParams.update({\n",
    "    \"text.usetex\": True,\n",
    "    \"font.family\": \"Helvetica\"\n",
    "})"
   ]
  },
  {
   "cell_type": "code",
   "execution_count": 2,
   "id": "5d4c06ad-1ad0-430e-b1fe-6dd295f651ba",
   "metadata": {},
   "outputs": [],
   "source": [
    "num_dim = 1\n",
    "num_discrete_values = 16\n",
    "num_qubits = 1 * int(np.log2(num_discrete_values))"
   ]
  },
  {
   "cell_type": "code",
   "execution_count": 3,
   "id": "3071abd8-5a65-4f35-b765-5038bfe3ea8a",
   "metadata": {},
   "outputs": [],
   "source": [
    "from scipy.stats import multivariate_normal\n",
    "\n",
    "coords = np.arange(0, 16)\n",
    "rv = multivariate_normal(mean=[7.0], cov=[[1.5]])\n",
    "grid_elements = coords\n",
    "prob_data = rv.pdf(grid_elements)\n",
    "prob_data = prob_data / np.sum(prob_data)"
   ]
  },
  {
   "cell_type": "code",
   "execution_count": 4,
   "id": "08fb3101-ffcc-4c28-8d1d-f864e0164225",
   "metadata": {},
   "outputs": [
    {
     "data": {
      "image/png": "[encoded data removed]",
      "text/plain": [
       "<Figure size 432x288 with 1 Axes>"
      ]
     },
     "metadata": {
      "needs_background": "light"
     },
     "output_type": "display_data"
    }
   ],
   "source": [
    "import matplotlib.pyplot as plt\n",
    "from matplotlib import cm\n",
    "\n",
    "mesh_x, mesh_y = np.meshgrid(coords, coords)\n",
    "grid_shape = (num_discrete_values, num_discrete_values)\n",
    "\n",
    "plt.plot(coords,prob_data)\n",
    "plt.show()"
   ]
  },
  {
   "cell_type": "code",
   "execution_count": 5,
   "id": "2be3e809-2454-4a4d-9d30-e6185a625ed4",
   "metadata": {},
   "outputs": [],
   "source": [
    "dev = qml.device(\"default.qubit.torch\", wires=num_qubits)\n",
    "\n",
    "@qml.qnode(dev, interface=\"torch\", diff_method=\"backprop\")\n",
    "def circuit(inputs, weights):\n",
    "    for wire in range(num_qubits): qml.Hadamard(wires=wire)\n",
    "    qml.StronglyEntanglingLayers(weights=weights, wires=list(range(num_qubits)))\n",
    "    return qml.probs()"
   ]
  },
  {
   "cell_type": "code",
   "execution_count": 6,
   "id": "8cfee725-a814-4f84-bbe8-4de6ae0e54cc",
   "metadata": {},
   "outputs": [],
   "source": [
    "n_layers=8\n",
    "weight_shapes = {\"weights\": (n_layers, num_qubits,3)}"
   ]
  },
  {
   "cell_type": "code",
   "execution_count": 7,
   "id": "511e3252-b022-4cc8-b2bf-7278878c1a12",
   "metadata": {},
   "outputs": [],
   "source": [
    "qlayer = qml.qnn.TorchLayer(circuit, weight_shapes)"
   ]
  },
  {
   "cell_type": "code",
   "execution_count": 8,
   "id": "d7816b35-0f7d-4312-b68b-4dd943e2f7f3",
   "metadata": {},
   "outputs": [],
   "source": [
    "from torch import nn\n",
    "\n",
    "\n",
    "class Discriminator(nn.Module):\n",
    "    def __init__(self, input_size):\n",
    "        super(Discriminator, self).__init__()\n",
    "\n",
    "        self.linear_input = nn.Linear(input_size, 20)\n",
    "        self.leaky_relu = nn.LeakyReLU(0.2)\n",
    "        self.linear20 = nn.Linear(20, 1)\n",
    "        self.sigmoid = nn.Sigmoid()\n",
    "\n",
    "    def forward(self, input: torch.Tensor) -> torch.Tensor:\n",
    "        x = self.linear_input(input)\n",
    "        x = self.leaky_relu(x)\n",
    "        x = self.linear20(x)\n",
    "        x = self.sigmoid(x)\n",
    "        return x"
   ]
  },
  {
   "cell_type": "code",
   "execution_count": 9,
   "id": "ac8741cf-d61a-4b59-b0cd-701822839634",
   "metadata": {},
   "outputs": [],
   "source": [
    "generator = qlayer\n",
    "discriminator = Discriminator(num_dim)"
   ]
  },
  {
   "cell_type": "code",
   "execution_count": 10,
   "id": "707a5911-94a7-42b3-9683-da3f762f84c6",
   "metadata": {},
   "outputs": [],
   "source": [
    "def adversarial_loss(input, target, w):\n",
    "    bce_loss = target * torch.log(input) + (1 - target) * torch.log(1 - input)\n",
    "    weighted_loss = w * bce_loss\n",
    "    total_loss = -torch.sum(weighted_loss)\n",
    "    return total_loss"
   ]
  },
  {
   "cell_type": "code",
   "execution_count": 11,
   "id": "b36a775e-b67d-498a-a1a0-9d5d84523b41",
   "metadata": {},
   "outputs": [],
   "source": [
    "from torch.optim import Adam\n",
    "\n",
    "lr = 0.0001  # learning rate\n",
    "#b1 = 0.7  # first momentum parameter\n",
    "b1 = 0.6  # first momentum parameter\n",
    "b2 = 0.999  # second momentum parameter\n",
    "\n",
    "generator_optimizer = Adam(generator.parameters(), lr=lr, betas=(b1, b2), weight_decay=0, amsgrad=True)\n",
    "discriminator_optimizer = Adam(\n",
    "    discriminator.parameters(), lr=lr, betas=(b1, b2), weight_decay=0, amsgrad=True\n",
    ")\n",
    "\n",
    "decayRate = 0.9997\n",
    "my_lr_scheduler = torch.optim.lr_scheduler.ExponentialLR(optimizer=generator_optimizer, gamma=decayRate)"
   ]
  },
  {
   "cell_type": "code",
   "execution_count": 12,
   "id": "b5929355-3569-4447-8fb0-ce3e649709e2",
   "metadata": {},
   "outputs": [],
   "source": [
    "from IPython.display import clear_output\n",
    "\n",
    "matplotlib.rc('xtick', labelsize=20) \n",
    "matplotlib.rc('ytick', labelsize=20) \n",
    "\n",
    "def plot_training_progress(n):\n",
    "    # we don't plot if we don't have enough data\n",
    "    if len(generator_loss_values) < 2:\n",
    "        return\n",
    "\n",
    "    clear_output(wait=True)\n",
    "    fig, (ax1, ax2, ax3) = plt.subplots(1, 3, figsize=(18, 9))\n",
    "    fig.tight_layout(pad=5.0)\n",
    "\n",
    "    # Generator Loss\n",
    "    ax3.plot(generator_loss_values, label=\"generator loss\", color=\"royalblue\")\n",
    "    ax3.plot(discriminator_loss_values, label=\"discriminator loss\", color=\"magenta\")\n",
    "    ax3.legend(loc=\"best\", fontsize=16)\n",
    "    ax3.set_xlabel(\"epoch\", fontsize=16)\n",
    "    ax3.set_ylabel(\"Loss\", fontsize=16)\n",
    "    #ax3.grid()\n",
    "\n",
    "    # Relative Entropy\n",
    "    ax2.plot(entropy_values)\n",
    "    ax2.set_xlabel(\"epoch\", fontsize=18)\n",
    "    ax2.set_ylabel(\"KL divergence\", fontsize=18)\n",
    "    ax2.set_yscale(\"log\")\n",
    "    #ax2.grid()\n",
    "    \n",
    "    paramsg = generator.weights\n",
    "    generated_probabilities = circuit(1,paramsg).detach()\n",
    "    ax1.plot(generated_probabilities, label=\"generated\")\n",
    "    ax1.plot(prob_data,label=\"real\")\n",
    "    ax1.legend(loc=\"upper right\", fontsize=18)\n",
    "    ax1.set_xlabel(\"$i$\", fontsize=18)\n",
    "    ax1.set_ylabel(\"$P_i$\", fontsize=18)\n",
    "    #ax3.grid()\n",
    "    #plt.savefig(f\"imgs/plt-{n}.png\")\n",
    "\n",
    "    plt.show()"
   ]
  },
  {
   "cell_type": "code",
   "execution_count": 19,
   "id": "b3a0ff10-d2c6-4cb9-a458-fbfc6cde9e02",
   "metadata": {},
   "outputs": [
    {
     "name": "stderr",
     "output_type": "stream",
     "text": [
      "\n",
      "KeyboardInterrupt\n",
      "\n"
     ]
    }
   ],
   "source": [
    "import time\n",
    "from scipy.stats import multivariate_normal, entropy\n",
    "\n",
    "n_epochs = 20000\n",
    "\n",
    "torch.nn.init.uniform_(list(generator.parameters())[0], a=-0.1, b=0.1)\n",
    "\n",
    "num_qnn_outputs = num_discrete_values**num_dim\n",
    "\n",
    "generator_loss_values = []\n",
    "discriminator_loss_values = []\n",
    "entropy_values = []\n",
    "\n",
    "start = time.time()\n",
    "for epoch in range(n_epochs):\n",
    "\n",
    "    valid = torch.ones(num_qnn_outputs, dtype=torch.float)\n",
    "    fake = torch.zeros(num_qnn_outputs, dtype=torch.float)\n",
    "\n",
    "    # Configure input\n",
    "    real_dist = torch.tensor(prob_data, dtype=torch.float).reshape(-1, 1)\n",
    "\n",
    "    # Configure samples\n",
    "    #samples = torch.tensor(grid_elements.reshape(grid_elements.shape[-1],1), dtype=torch.float)\n",
    "    samples = torch.tensor(np.random.randint(0,16, size=(16,)), dtype=torch.float).reshape(16,1)\n",
    "    \n",
    "    disc_value = discriminator(samples)\n",
    "\n",
    "    # Generate data\n",
    "    gen_dist = generator(torch.tensor([])).reshape(-1, 1)\n",
    "\n",
    "    # Train generator\n",
    "    generator_optimizer.zero_grad()\n",
    "    generator_loss = adversarial_loss(disc_value, valid, gen_dist[samples.long().reshape(-1)])\n",
    "\n",
    "    # store for plotting\n",
    "    generator_loss_values.append(generator_loss.detach().item())\n",
    "\n",
    "    generator_loss.backward(retain_graph=True)\n",
    "    generator_optimizer.step()\n",
    "\n",
    "    # Train Discriminator\n",
    "    discriminator_optimizer.zero_grad()\n",
    "    \n",
    "    #print(gen_dist.shape)\n",
    "    #print(samples.reshape(-1))\n",
    "    #print(gen_dist[samples.long().reshape(-1)].shape)\n",
    "\n",
    "    real_loss = adversarial_loss(disc_value, valid, real_dist[samples.long().reshape(-1)].reshape(-1,1))\n",
    "    fake_loss = adversarial_loss(disc_value, fake, gen_dist.detach()[samples.long().reshape(-1)])\n",
    "    discriminator_loss = (real_loss + fake_loss) / 2\n",
    "\n",
    "    # Store for plotting\n",
    "    discriminator_loss_values.append(discriminator_loss.detach().item())\n",
    "\n",
    "    discriminator_loss.backward()\n",
    "    discriminator_optimizer.step()\n",
    "\n",
    "    entropy_value = entropy(gen_dist.detach().squeeze().numpy(), prob_data)\n",
    "    entropy_values.append(entropy_value)\n",
    "\n",
    "    my_lr_scheduler.step()\n",
    "    \n",
    "    plot_training_progress(epoch)\n",
    "    #break\n",
    "\n",
    "elapsed = time.time() - start\n",
    "print(f\"Fit in {elapsed:0.2f} sec\")"
   ]
  },
  {
   "cell_type": "code",
   "execution_count": null,
   "id": "41e0916c-6fa2-41be-bb3e-0ac3ae5e7b8c",
   "metadata": {},
   "outputs": [],
   "source": [
    "paramsg = generator.weights\n",
    "generated_probabilities = circuit(1,paramsg).detach()"
   ]
  },
  {
   "cell_type": "code",
   "execution_count": null,
   "id": "4b12147f-abc0-4b6e-92c9-5e30db664a8a",
   "metadata": {},
   "outputs": [],
   "source": [
    "plt.plot(generated_probabilities)"
   ]
  },
  {
   "cell_type": "code",
   "execution_count": null,
   "id": "84c3d5f1-3cde-4e5d-a923-808ef17159ba",
   "metadata": {},
   "outputs": [],
   "source": []
  }
 ],
 "metadata": {
  "kernelspec": {
   "display_name": "tfq",
   "language": "python",
   "name": "tfq"
  },
  "language_info": {
   "codemirror_mode": {
    "name": "ipython",
    "version": 3
   },
   "file_extension": ".py",
   "mimetype": "text/x-python",
   "name": "python",
   "nbconvert_exporter": "python",
   "pygments_lexer": "ipython3",
   "version": "3.9.12"
  }
 },
 "nbformat": 4,
 "nbformat_minor": 5
}
