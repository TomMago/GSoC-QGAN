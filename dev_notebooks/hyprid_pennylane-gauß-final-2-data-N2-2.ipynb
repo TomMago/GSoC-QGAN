{
 "cells": [
  {
   "cell_type": "code",
   "execution_count": 1,
   "id": "f75d6aba-26d9-418b-81cc-e9c3b44278a1",
   "metadata": {},
   "outputs": [],
   "source": [
    "import matplotlib\n",
    "import matplotlib.pyplot as plt\n",
    "import pennylane as qml\n",
    "from pennylane import numpy as np\n",
    "import time\n",
    "from pennylane.optimize import AdamOptimizer\n",
    "import torch\n",
    "import h5py\n",
    "from skimage.metrics import structural_similarity as ssim\n",
    "\n",
    "plt.rcParams['figure.dpi'] = 300\n",
    "plt.rcParams['figure.figsize'] = [3, 1]\n",
    "plt.rcParams.update({\n",
    "    \"text.usetex\": True,\n",
    "    \"font.family\": \"Helvetica\"\n",
    "})"
   ]
  },
  {
   "cell_type": "markdown",
   "id": "85d00751-1e31-4d76-90d9-45106f03002b",
   "metadata": {},
   "source": [
    "## Settings"
   ]
  },
  {
   "cell_type": "code",
   "execution_count": 2,
   "id": "5d4c06ad-1ad0-430e-b1fe-6dd295f651ba",
   "metadata": {},
   "outputs": [],
   "source": [
    "nbatch = 3000\n",
    "N = 3\n",
    "M = 2\n",
    "nM = M - 1\n",
    "qM = int(np.log2(M))\n",
    "num_dim = 1\n",
    "num_qubits = int(N**2 * np.log2(M))\n",
    "num_discrete_values = 2**num_qubits\n",
    "\n",
    "file_name = \"QG_train_normalized_N3_M2_bilinear_large\"\n",
    "\n",
    "reg = 0.000001"
   ]
  },
  {
   "cell_type": "markdown",
   "id": "42594711-6d99-4ccd-a23b-e17bc9422ece",
   "metadata": {},
   "source": [
    "## Data"
   ]
  },
  {
   "cell_type": "code",
   "execution_count": 3,
   "id": "698b09f5-c48c-4520-a0ed-96edd2fd4b85",
   "metadata": {},
   "outputs": [],
   "source": [
    "f = h5py.File(file_name,\"r\")"
   ]
  },
  {
   "cell_type": "code",
   "execution_count": 4,
   "id": "e70763be-ca3c-4204-89c7-d5b2cc0ad1d5",
   "metadata": {},
   "outputs": [],
   "source": [
    "x_train = f.get('X')\n",
    "y_train = f.get('y')"
   ]
  },
  {
   "cell_type": "code",
   "execution_count": 5,
   "id": "f985952e-7458-4280-ab3f-89496e40ff54",
   "metadata": {},
   "outputs": [
    {
     "data": {
      "text/plain": [
       "(-0.5, 2.5, 2.5, -0.5)"
      ]
     },
     "execution_count": 5,
     "metadata": {},
     "output_type": "execute_result"
    },
    {
     "data": {
      "image/png": "[encoded data removed]",
      "text/plain": [
       "<Figure size 432x288 with 1 Axes>"
      ]
     },
     "metadata": {
      "needs_background": "light"
     },
     "output_type": "display_data"
    }
   ],
   "source": [
    "plt.imshow(np.mean(x_train[y_train[:]==1],axis=0),norm=matplotlib.colors.LogNorm())\n",
    "plt.axis('off')"
   ]
  },
  {
   "cell_type": "code",
   "execution_count": 6,
   "id": "6e519f3e-d862-4be6-aeb7-5f3e2a8e00b9",
   "metadata": {},
   "outputs": [
    {
     "data": {
      "text/plain": [
       "(-0.5, 2.5, 2.5, -0.5)"
      ]
     },
     "execution_count": 6,
     "metadata": {},
     "output_type": "execute_result"
    },
    {
     "data": {
      "image/png": "[encoded data removed]",
      "text/plain": [
       "<Figure size 432x288 with 1 Axes>"
      ]
     },
     "metadata": {
      "needs_background": "light"
     },
     "output_type": "display_data"
    }
   ],
   "source": [
    "plt.imshow(np.mean(x_train[y_train[:]==0],axis=0),norm=matplotlib.colors.LogNorm())\n",
    "plt.axis('off')"
   ]
  },
  {
   "cell_type": "code",
   "execution_count": 7,
   "id": "00244b08-8d19-4b27-a54e-e35de2caceae",
   "metadata": {},
   "outputs": [
    {
     "data": {
      "text/plain": [
       "(-0.5, 2.5, 2.5, -0.5)"
      ]
     },
     "execution_count": 7,
     "metadata": {},
     "output_type": "execute_result"
    },
    {
     "data": {
      "image/png": "[encoded data removed]",
      "text/plain": [
       "<Figure size 432x288 with 6 Axes>"
      ]
     },
     "metadata": {
      "needs_background": "light"
     },
     "output_type": "display_data"
    }
   ],
   "source": [
    "fig, ax = plt.subplots(2, 3)\n",
    "nums = np.random.randint(0,6,size=(6,))\n",
    "ax[0,0].imshow(x_train[nums[0]])\n",
    "ax[0,0].axis('off')\n",
    "ax[0,1].imshow(x_train[nums[1]])\n",
    "ax[0,1].axis('off')\n",
    "ax[0,2].imshow(x_train[nums[2]])\n",
    "ax[0,2].axis('off')\n",
    "ax[1,0].imshow(x_train[nums[3]])\n",
    "ax[1,0].axis('off')\n",
    "ax[1,1].imshow(x_train[nums[4]])\n",
    "ax[1,1].axis('off')\n",
    "ax[1,2].imshow(x_train[nums[5]])\n",
    "ax[1,2].axis('off')"
   ]
  },
  {
   "cell_type": "code",
   "execution_count": 8,
   "id": "06ca5084-3f7b-4795-8fc6-530db9a960da",
   "metadata": {},
   "outputs": [],
   "source": [
    "data = x_train[y_train[:]==1]"
   ]
  },
  {
   "cell_type": "code",
   "execution_count": 9,
   "id": "b6f241be-277d-4c9a-b817-56b906ff2e25",
   "metadata": {},
   "outputs": [],
   "source": [
    "f.close()"
   ]
  },
  {
   "cell_type": "code",
   "execution_count": 10,
   "id": "c25903c8-54b3-4f5f-b4d3-0bc4a57b8a44",
   "metadata": {},
   "outputs": [
    {
     "data": {
      "text/plain": [
       "(19969, 3, 3)"
      ]
     },
     "execution_count": 10,
     "metadata": {},
     "output_type": "execute_result"
    }
   ],
   "source": [
    "data.shape"
   ]
  },
  {
   "cell_type": "code",
   "execution_count": 11,
   "id": "b144893d-6868-4985-969e-d71745bb7a90",
   "metadata": {},
   "outputs": [],
   "source": [
    "sums = np.sum(data,axis=(1,2))"
   ]
  },
  {
   "cell_type": "code",
   "execution_count": 12,
   "id": "a7bb75d6-f4c7-4cdc-89f1-025898e29ae4",
   "metadata": {},
   "outputs": [
    {
     "data": {
      "text/plain": [
       "(19969,)"
      ]
     },
     "execution_count": 12,
     "metadata": {},
     "output_type": "execute_result"
    }
   ],
   "source": [
    "sums.shape"
   ]
  },
  {
   "cell_type": "code",
   "execution_count": 13,
   "id": "aee5031e-a726-44b8-bb38-470e3a6fe68b",
   "metadata": {},
   "outputs": [],
   "source": [
    "idx = np.where(sums > 0)[0]"
   ]
  },
  {
   "cell_type": "code",
   "execution_count": 14,
   "id": "0467811d-3531-469a-ab8e-8d3c9f8cfaa0",
   "metadata": {},
   "outputs": [
    {
     "data": {
      "text/plain": [
       "12019"
      ]
     },
     "execution_count": 14,
     "metadata": {},
     "output_type": "execute_result"
    }
   ],
   "source": [
    "len(idx)"
   ]
  },
  {
   "cell_type": "code",
   "execution_count": 15,
   "id": "f5cb3c1e-380b-481b-a8ee-4c82ea1ca3db",
   "metadata": {},
   "outputs": [
    {
     "data": {
      "text/plain": [
       "(12019, 3, 3)"
      ]
     },
     "execution_count": 15,
     "metadata": {},
     "output_type": "execute_result"
    }
   ],
   "source": [
    "data[idx].shape"
   ]
  },
  {
   "cell_type": "code",
   "execution_count": 16,
   "id": "c059675a-06f5-4740-a4fa-19d7ea201614",
   "metadata": {},
   "outputs": [],
   "source": [
    "data = data[idx]"
   ]
  },
  {
   "cell_type": "code",
   "execution_count": 17,
   "id": "f9035a99-9176-4461-8283-9d0788b0cf64",
   "metadata": {},
   "outputs": [
    {
     "data": {
      "text/plain": [
       "(12019, 3, 3)"
      ]
     },
     "execution_count": 17,
     "metadata": {},
     "output_type": "execute_result"
    }
   ],
   "source": [
    "data.shape"
   ]
  },
  {
   "cell_type": "code",
   "execution_count": 18,
   "id": "ed59fe1c-809e-4a85-91c1-2926f30fc901",
   "metadata": {},
   "outputs": [],
   "source": [
    "prob_distr = data.reshape(-1,9)"
   ]
  },
  {
   "cell_type": "code",
   "execution_count": 19,
   "id": "a22a1d4a-1c0a-48af-9dc8-342fb4faeb5a",
   "metadata": {},
   "outputs": [
    {
     "data": {
      "text/plain": [
       "array([0., 0., 0., 0., 1., 0., 0., 0., 0.], dtype=float32)"
      ]
     },
     "execution_count": 19,
     "metadata": {},
     "output_type": "execute_result"
    }
   ],
   "source": [
    "prob_distr[0]"
   ]
  },
  {
   "cell_type": "code",
   "execution_count": 20,
   "id": "d20395c8-8eeb-42fb-ae20-c2332c9518d1",
   "metadata": {},
   "outputs": [],
   "source": [
    "mean_data = np.mean(data,axis=0)"
   ]
  },
  {
   "cell_type": "markdown",
   "id": "0a37c535-cac7-441d-b5c4-c178f8c2f155",
   "metadata": {},
   "source": [
    "## Utillity functions"
   ]
  },
  {
   "cell_type": "code",
   "execution_count": 21,
   "id": "0d6951eb-b4f6-4cf2-a2eb-fc3f38c859c1",
   "metadata": {},
   "outputs": [],
   "source": [
    "def int_to_bin_list(num,bits):\n",
    "    return [(num>>k)&1 for k in range(0,bits)][::-1]"
   ]
  },
  {
   "cell_type": "code",
   "execution_count": 22,
   "id": "f8a88da5-8fb1-413d-a96e-7e14c2573f7c",
   "metadata": {},
   "outputs": [],
   "source": [
    "def convert_dim_to_integer(arr,dim):\n",
    "    # Calculate the number of possible values \n",
    "    num_values = 2 ** arr.shape[dim]\n",
    "    arr = torch.flip(arr,(1,))\n",
    "    # Sum along the last dimension to convert it to integers\n",
    "    integer_array = np.sum(arr * (2 ** np.arange(arr.shape[dim])), axis=-1)\n",
    "\n",
    "    return torch.tensor(integer_array)"
   ]
  },
  {
   "cell_type": "code",
   "execution_count": 23,
   "id": "60c90e4c-9775-4573-afb9-16c9e2851dd9",
   "metadata": {},
   "outputs": [],
   "source": [
    "def normalize_image(img):\n",
    "    return img / nM"
   ]
  },
  {
   "cell_type": "code",
   "execution_count": 24,
   "id": "f23a767d-5534-4718-aec3-b78178e2134d",
   "metadata": {},
   "outputs": [],
   "source": [
    "def basis_array_to_img(basis_array):\n",
    "    basis_array = basis_array.reshape(N,N,qM)\n",
    "    return normalize_image(convert_dim_to_integer(basis_array,2))"
   ]
  },
  {
   "cell_type": "code",
   "execution_count": 25,
   "id": "f077a577-eb6e-4d0d-a388-63aab01fc46d",
   "metadata": {},
   "outputs": [],
   "source": [
    "def batch_basis_array_to_img(batch_basis_array):\n",
    "    batch_basis_array = batch_basis_array.reshape(batch_basis_array.shape[0],N,N,qM)\n",
    "    return normalize_image(convert_dim_to_integer(batch_basis_array,3))"
   ]
  },
  {
   "cell_type": "code",
   "execution_count": 26,
   "id": "2bb9d0d5-b610-4e57-ae8a-5585fa565ad2",
   "metadata": {},
   "outputs": [],
   "source": [
    "def tensor_to_int(tensor):\n",
    "    tensor = tensor.long()\n",
    "    \n",
    "    # Calculate the number of columns in the tensor\n",
    "    num_columns = tensor.size(1)\n",
    "    \n",
    "    # Create a weight tensor for binary to integer conversion\n",
    "    weights = 2 ** torch.arange(num_columns - 1, -1, -1)\n",
    "    \n",
    "    # Calculate the integer values for each row\n",
    "    int_values = torch.sum(tensor * weights, dim=1)\n",
    "    \n",
    "    return int_values"
   ]
  },
  {
   "cell_type": "code",
   "execution_count": 27,
   "id": "6eb71b05-a7a3-483d-a695-b15dc073bd0f",
   "metadata": {},
   "outputs": [],
   "source": [
    "from IPython.display import clear_output\n",
    "\n",
    "matplotlib.rc('xtick', labelsize=20) \n",
    "matplotlib.rc('ytick', labelsize=20) \n",
    "\n",
    "def plot_training_progress(n, samples_tuple,mean_gen_image):\n",
    "    # we don't plot if we don't have enough data\n",
    "    if len(generator_loss_values) < 2:\n",
    "        return\n",
    "\n",
    "    clear_output(wait=True)\n",
    "    fig, ((ax1, ax2, ax3), (ax4, ax5, ax6)) = plt.subplots(2, 3, figsize=(18, 12))\n",
    "    fig.tight_layout(pad=10.0)\n",
    "\n",
    "    # Generator Loss\n",
    "    ax3.plot(generator_loss_values, label=\"generator loss\", color=\"royalblue\")\n",
    "    ax3.plot(discriminator_loss_values, label=\"discriminator loss\", color=\"magenta\")\n",
    "    ax3.legend(loc=\"best\", fontsize=16)\n",
    "    ax3.set_xlabel(\"epoch\", fontsize=16)\n",
    "    ax3.set_ylabel(\"Loss\", fontsize=16)\n",
    "    #ax3.grid()\n",
    "\n",
    "    # Relative Entropy\n",
    "    ax2.plot(entropies)\n",
    "    ax2.set_xlabel(\"epoch\", fontsize=18)\n",
    "    ax2.set_ylabel(\"KL divergence\", fontsize=18)\n",
    "    ax2.set_yscale(\"log\")\n",
    "    #ax2.grid()\n",
    "    \n",
    "    #paramsg = generator.weights\n",
    "    #generated_probabilities = circuit(1,paramsg).detach()\n",
    "    im = ax1.imshow(mean_gen_image, norm=matplotlib.colors.LogNorm())\n",
    "    plt.colorbar(im,ax=ax1)\n",
    "    #ax3.grid()\n",
    "    #plt.savefig(f\"imgs/plt-{n}.png\")\n",
    "    \n",
    "    im2 = ax4.imshow(mean_data, norm=matplotlib.colors.LogNorm())\n",
    "    plt.colorbar(im2,ax=ax4)\n",
    "    \n",
    "    ax5.plot(mses)\n",
    "    ax5.set_xlabel(\"epoch\", fontsize=18)\n",
    "    ax5.set_ylabel(\"MSE\", fontsize=18)\n",
    "    ax5.set_yscale(\"log\")\n",
    "\n",
    "    plt.show()"
   ]
  },
  {
   "cell_type": "code",
   "execution_count": 28,
   "id": "d1e02894-a052-4f89-be4d-212a8bca5b6f",
   "metadata": {},
   "outputs": [],
   "source": [
    "def iterate_minibatches(data, batch_size):\n",
    "    for start_idx in range(0, data.shape[0] - batch_size + 1, batch_size):\n",
    "        idxs = slice(start_idx, start_idx + batch_size)\n",
    "        yield data[idxs]"
   ]
  },
  {
   "cell_type": "markdown",
   "id": "e9d88ba4-b314-4bf9-89f7-2e6b39eb0341",
   "metadata": {},
   "source": [
    "# Model"
   ]
  },
  {
   "cell_type": "markdown",
   "id": "68ddec6b-682d-473a-a250-58b25415e129",
   "metadata": {},
   "source": [
    "## Generator circuits"
   ]
  },
  {
   "cell_type": "code",
   "execution_count": 29,
   "id": "2be3e809-2454-4a4d-9d30-e6185a625ed4",
   "metadata": {},
   "outputs": [],
   "source": [
    "dev = qml.device(\"default.qubit.torch\", wires=num_qubits)\n",
    "\n",
    "@qml.qnode(dev, interface=\"torch\", diff_method=\"backprop\", cachesize=1000000)\n",
    "def circuit(inputs, weights):\n",
    "    #for wire in range(num_qubits): qml.Hadamard(wires=wire)\n",
    "    qml.StronglyEntanglingLayers(weights=weights, wires=list(range(num_qubits)), imprimitive=qml.ops.CZ)\n",
    "    return qml.probs()"
   ]
  },
  {
   "cell_type": "code",
   "execution_count": 30,
   "id": "112bd16e-60d3-46d2-adb3-8056d5f50ae3",
   "metadata": {},
   "outputs": [],
   "source": [
    "dev_sample = qml.device(\"default.qubit\", wires=num_qubits, shots=nbatch)\n",
    "\n",
    "@qml.qnode(dev_sample, interface=\"torch\")\n",
    "def circuit_sample(inputs, weights):\n",
    "    #for wire in range(num_qubits): qml.Hadamard(wires=wire)\n",
    "    qml.StronglyEntanglingLayers(weights=weights, wires=list(range(num_qubits)), imprimitive=qml.ops.CZ)\n",
    "    return qml.sample()"
   ]
  },
  {
   "cell_type": "markdown",
   "id": "7089dc06-52c0-423d-9b12-aad86e602d93",
   "metadata": {},
   "source": [
    "## Hybrid model building"
   ]
  },
  {
   "cell_type": "code",
   "execution_count": 31,
   "id": "8cfee725-a814-4f84-bbe8-4de6ae0e54cc",
   "metadata": {},
   "outputs": [],
   "source": [
    "n_layers=35\n",
    "weight_shapes = {\"weights\": (n_layers, num_qubits,3)}"
   ]
  },
  {
   "cell_type": "code",
   "execution_count": 32,
   "id": "511e3252-b022-4cc8-b2bf-7278878c1a12",
   "metadata": {},
   "outputs": [],
   "source": [
    "qlayer = qml.qnn.TorchLayer(circuit, weight_shapes)"
   ]
  },
  {
   "cell_type": "code",
   "execution_count": 33,
   "id": "d7816b35-0f7d-4312-b68b-4dd943e2f7f3",
   "metadata": {},
   "outputs": [],
   "source": [
    "from torch import nn\n",
    "\n",
    "class Discriminator(nn.Module):\n",
    "    def __init__(self, input_size):\n",
    "        super(Discriminator, self).__init__()\n",
    "\n",
    "        self.linear_input = nn.Linear(input_size, 50)\n",
    "        self.leaky_relu = nn.LeakyReLU(0.2)\n",
    "        self.linear1 = nn.Linear(50, 20)\n",
    "        self.linear2 = nn.Linear(20, 10)\n",
    "        self.linear3 = nn.Linear(10, 1)\n",
    "        self.sigmoid = nn.Sigmoid()\n",
    "        self.flatten = nn.Flatten()\n",
    "\n",
    "    def forward(self, input: torch.Tensor) -> torch.Tensor:\n",
    "        x = self.flatten(input)\n",
    "        x = self.linear_input(x)\n",
    "        x = self.leaky_relu(x)\n",
    "        x = self.linear1(x)\n",
    "        x = self.leaky_relu(x)\n",
    "        x = self.linear2(x)\n",
    "        x = self.leaky_relu(x)\n",
    "        x = self.linear3(x)\n",
    "        x = self.sigmoid(x)\n",
    "        return x"
   ]
  },
  {
   "cell_type": "code",
   "execution_count": 34,
   "id": "ac8741cf-d61a-4b59-b0cd-701822839634",
   "metadata": {},
   "outputs": [],
   "source": [
    "generator = qlayer\n",
    "discriminator = Discriminator(N**2)"
   ]
  },
  {
   "cell_type": "markdown",
   "id": "37c92289-0d20-4ddd-adec-632d94cf6d8b",
   "metadata": {
    "tags": []
   },
   "source": [
    "# Training"
   ]
  },
  {
   "cell_type": "code",
   "execution_count": 35,
   "id": "77ad797a-1bd1-4b9c-8a84-16f1975cae1f",
   "metadata": {},
   "outputs": [],
   "source": [
    "prob_distr_nums = convert_dim_to_integer(torch.tensor(prob_distr),1)"
   ]
  },
  {
   "cell_type": "code",
   "execution_count": 36,
   "id": "2e910359-72a9-429c-a045-dc4f86c9bedf",
   "metadata": {},
   "outputs": [],
   "source": [
    "vals, counts = np.unique(prob_distr_nums, return_counts=True)"
   ]
  },
  {
   "cell_type": "code",
   "execution_count": 37,
   "id": "80418166-65b6-4c40-ae55-efcbb4303d90",
   "metadata": {},
   "outputs": [],
   "source": [
    "counts_full = np.zeros(num_discrete_values)"
   ]
  },
  {
   "cell_type": "code",
   "execution_count": 38,
   "id": "34b89d4a-7630-465b-9837-f90a02c105d7",
   "metadata": {},
   "outputs": [],
   "source": [
    "counts_full[vals.astype(int)] = counts"
   ]
  },
  {
   "cell_type": "code",
   "execution_count": 39,
   "id": "37d48f5a-f3b9-4dfa-ab35-9eec956bdf16",
   "metadata": {},
   "outputs": [],
   "source": [
    "counts_full_norm = counts_full / prob_distr_nums.shape[0]"
   ]
  },
  {
   "cell_type": "code",
   "execution_count": 40,
   "id": "b36a775e-b67d-498a-a1a0-9d5d84523b41",
   "metadata": {},
   "outputs": [],
   "source": [
    "from torch.optim import Adam\n",
    "\n",
    "lr = 0.001  # learning rate\n",
    "#b1 = 0.7  # first momentum parameter\n",
    "b1 = 0.6  # first momentum parameter\n",
    "b2 = 0.999  # second momentum parameter\n",
    "\n",
    "generator_optimizer = Adam(generator.parameters(), lr=lr, betas=(b1, b2), weight_decay=0, amsgrad=True)\n",
    "discriminator_optimizer = Adam(\n",
    "    discriminator.parameters(), lr=lr, betas=(b1, b2), weight_decay=0, amsgrad=True\n",
    ")\n",
    "\n",
    "decayRate = 0.999\n",
    "my_lr_scheduler = torch.optim.lr_scheduler.ExponentialLR(optimizer=generator_optimizer, gamma=decayRate)"
   ]
  },
  {
   "cell_type": "code",
   "execution_count": 41,
   "id": "707a5911-94a7-42b3-9683-da3f762f84c6",
   "metadata": {},
   "outputs": [],
   "source": [
    "def adversarial_loss(inputs, target, w):\n",
    "    bce_loss = target * torch.log(inputs) + (1 - target) * torch.log(1 - inputs)\n",
    "    weighted_loss = w * bce_loss\n",
    "    total_loss = -torch.sum(weighted_loss)\n",
    "    return total_loss"
   ]
  },
  {
   "cell_type": "code",
   "execution_count": 42,
   "id": "44271d15-e370-44d0-9796-a496a4c5ab1d",
   "metadata": {
    "tags": []
   },
   "outputs": [
    {
     "data": {
      "image/png": "[encoded data removed]",
      "text/plain": [
       "<Figure size 1296x864 with 8 Axes>"
      ]
     },
     "metadata": {
      "needs_background": "light"
     },
     "output_type": "display_data"
    },
    {
     "name": "stdout",
     "output_type": "stream",
     "text": [
      "Fit in 78905.09 sec\n"
     ]
    }
   ],
   "source": [
    "import time\n",
    "from scipy.stats import multivariate_normal, entropy\n",
    "\n",
    "torch.nn.init.uniform_(list(generator.parameters())[0], a=-np.pi, b=np.pi)\n",
    "#torch.nn.init.uniform_(list(generator.parameters())[0], a=-0.1, b=0.1)\n",
    "\n",
    "n_epochs = 3000\n",
    "\n",
    "data = torch.tensor(data, requires_grad=False)\n",
    "\n",
    "generator_loss_values = []\n",
    "discriminator_loss_values = []\n",
    "entropies = []\n",
    "mses = []\n",
    "\n",
    "start = time.time()\n",
    "for epoch in range(n_epochs):\n",
    "\n",
    "    valid = torch.ones(nbatch, dtype=torch.float)\n",
    "    fake = torch.zeros(nbatch, dtype=torch.float)\n",
    "\n",
    "    #samples = circuit_sample(1, list(generator.parameters())[0].detach()).float()\n",
    "    #samples = torch.tensor(np.random.randint(0,16, size=(nbatch,)), dtype=torch.float).reshape(nbatch,1)\n",
    "    samples = torch.tensor(np.random.randint(0,2,size=(nbatch,num_qubits)), dtype=torch.float)\n",
    "    samples_idx = convert_dim_to_integer(samples,1)\n",
    "    samples_img = batch_basis_array_to_img(samples)\n",
    "    \n",
    "    #samples = samples.float().reshape(-1,1)\n",
    "    \n",
    "    for j,Xbatch in enumerate(iterate_minibatches(data, batch_size=nbatch)):\n",
    " \n",
    "        # discriminator values\n",
    "        disc_value = discriminator(samples_img.float())\n",
    "    \n",
    "        # gen dist\n",
    "        gen_dist = generator(torch.tensor([]))\n",
    "        \n",
    "        # Train generator\n",
    "        generator_optimizer.zero_grad()\n",
    "        generator_loss = adversarial_loss(disc_value.detach().reshape(-1)+reg, valid, gen_dist[samples_idx.long().reshape(-1)])\n",
    "        \n",
    "        # store for plotting\n",
    "        generator_loss_values.append(generator_loss.detach().item())\n",
    "\n",
    "        generator_loss.backward(retain_graph=True)\n",
    "        generator_optimizer.step()\n",
    "\n",
    "        # Train Discriminator\n",
    "        discriminator_optimizer.zero_grad()\n",
    "     \n",
    "        real_disc_vals = discriminator(Xbatch.float())\n",
    "    \n",
    "        real_loss = adversarial_loss(real_disc_vals.reshape(-1)+reg, valid, torch.tensor(np.ones(nbatch)*1/nbatch, requires_grad=False))\n",
    "        fake_loss = adversarial_loss(disc_value.reshape(-1)+reg, fake, gen_dist.detach()[samples_idx.long().reshape(-1)])\n",
    "        discriminator_loss = (real_loss + fake_loss) / 2    \n",
    "        \n",
    "        # Store for plotting\n",
    "        discriminator_loss_values.append(discriminator_loss.detach().item())\n",
    "    \n",
    "        discriminator_loss.backward()\n",
    "        discriminator_optimizer.step()\n",
    "        \n",
    "        mean_gen_image = torch.sum(gen_dist.detach().squeeze().reshape(-1,1,1)*batch_basis_array_to_img(torch.tensor([int_to_bin_list(x,num_qubits) for x in range(2**num_qubits)])),0)\n",
    "        \n",
    "        \n",
    "        entropy_val = entropy(gen_dist.detach()+0.000001, counts_full_norm+0.000001)\n",
    "        entropies.append(entropy_val)\n",
    "        \n",
    "        mse_val = np.mean((mean_gen_image.numpy()-mean_data)**2)\n",
    "        mses.append(mse_val)\n",
    "        \n",
    "        my_lr_scheduler.step()\n",
    "\n",
    "        plot_training_progress(epoch, (samples,),mean_gen_image)\n",
    "        \n",
    "elapsed = time.time() - start\n",
    "print(f\"Fit in {elapsed:0.2f} sec\")"
   ]
  },
  {
   "cell_type": "code",
   "execution_count": 43,
   "id": "3aa2572c-9d67-4ed0-bf29-094e18e9cd64",
   "metadata": {},
   "outputs": [
    {
     "data": {
      "image/png": "[encoded data removed]",
      "text/plain": [
       "<Figure size 1296x864 with 8 Axes>"
      ]
     },
     "metadata": {
      "needs_background": "light"
     },
     "output_type": "display_data"
    }
   ],
   "source": [
    "plot_training_progress(epoch, (samples,),mean_gen_image)"
   ]
  },
  {
   "cell_type": "code",
   "execution_count": 44,
   "id": "31765b6b-d75a-4082-9458-eaec6d26d25e",
   "metadata": {},
   "outputs": [
    {
     "data": {
      "text/plain": [
       "tensor(1.4515)"
      ]
     },
     "execution_count": 44,
     "metadata": {},
     "output_type": "execute_result"
    }
   ],
   "source": [
    "torch.sum(mean_gen_image)"
   ]
  },
  {
   "cell_type": "code",
   "execution_count": 45,
   "id": "f1aa89fc-035b-4805-882d-08963bba1bcb",
   "metadata": {},
   "outputs": [
    {
     "data": {
      "text/plain": [
       "tensor([0.00000000e+00, 9.65138531e-03, 1.32290540e-02, 1.66403195e-04,\n",
       "        8.32015975e-03, 8.32015975e-05, 0.00000000e+00, 0.00000000e+00,\n",
       "        1.78883435e-02, 1.66403195e-04, 2.49604792e-04, 0.00000000e+00,\n",
       "        8.32015975e-05, 0.00000000e+00, 0.00000000e+00, 0.00000000e+00,\n",
       "        8.75780015e-01, 1.91363674e-03, 3.41126550e-03, 0.00000000e+00,\n",
       "        1.58083035e-03, 8.32015975e-05, 8.32015975e-05, 0.00000000e+00,\n",
       "        4.65928946e-03, 8.32015975e-05, 0.00000000e+00, 0.00000000e+00,\n",
       "        0.00000000e+00, 0.00000000e+00, 0.00000000e+00, 0.00000000e+00,\n",
       "        1.71395291e-02, 8.32015975e-05, 1.66403195e-04, 0.00000000e+00,\n",
       "        0.00000000e+00, 0.00000000e+00, 0.00000000e+00, 0.00000000e+00,\n",
       "        3.32806390e-04, 0.00000000e+00, 0.00000000e+00, 0.00000000e+00,\n",
       "        0.00000000e+00, 0.00000000e+00, 0.00000000e+00, 0.00000000e+00,\n",
       "        4.32648307e-03, 0.00000000e+00, 0.00000000e+00, 0.00000000e+00,\n",
       "        0.00000000e+00, 0.00000000e+00, 0.00000000e+00, 0.00000000e+00,\n",
       "        0.00000000e+00, 0.00000000e+00, 0.00000000e+00, 0.00000000e+00,\n",
       "        0.00000000e+00, 0.00000000e+00, 0.00000000e+00, 0.00000000e+00,\n",
       "        9.48498211e-03, 8.32015975e-05, 0.00000000e+00, 0.00000000e+00,\n",
       "        8.32015975e-05, 0.00000000e+00, 0.00000000e+00, 0.00000000e+00,\n",
       "        8.32015975e-05, 0.00000000e+00, 0.00000000e+00, 0.00000000e+00,\n",
       "        0.00000000e+00, 0.00000000e+00, 0.00000000e+00, 0.00000000e+00,\n",
       "        1.66403195e-03, 0.00000000e+00, 0.00000000e+00, 0.00000000e+00,\n",
       "        0.00000000e+00, 0.00000000e+00, 0.00000000e+00, 0.00000000e+00,\n",
       "        0.00000000e+00, 0.00000000e+00, 0.00000000e+00, 0.00000000e+00,\n",
       "        0.00000000e+00, 0.00000000e+00, 0.00000000e+00, 0.00000000e+00,\n",
       "        0.00000000e+00, 0.00000000e+00, 0.00000000e+00, 0.00000000e+00,\n",
       "        0.00000000e+00, 0.00000000e+00, 0.00000000e+00, 0.00000000e+00,\n",
       "        0.00000000e+00, 0.00000000e+00, 0.00000000e+00, 0.00000000e+00,\n",
       "        0.00000000e+00, 0.00000000e+00, 0.00000000e+00, 0.00000000e+00,\n",
       "        0.00000000e+00, 0.00000000e+00, 0.00000000e+00, 0.00000000e+00,\n",
       "        0.00000000e+00, 0.00000000e+00, 0.00000000e+00, 0.00000000e+00,\n",
       "        0.00000000e+00, 0.00000000e+00, 0.00000000e+00, 0.00000000e+00,\n",
       "        0.00000000e+00, 0.00000000e+00, 0.00000000e+00, 0.00000000e+00,\n",
       "        1.41442716e-02, 0.00000000e+00, 8.32015975e-05, 0.00000000e+00,\n",
       "        0.00000000e+00, 0.00000000e+00, 0.00000000e+00, 0.00000000e+00,\n",
       "        3.32806390e-04, 0.00000000e+00, 0.00000000e+00, 0.00000000e+00,\n",
       "        0.00000000e+00, 0.00000000e+00, 0.00000000e+00, 0.00000000e+00,\n",
       "        3.24486230e-03, 8.32015975e-05, 0.00000000e+00, 0.00000000e+00,\n",
       "        0.00000000e+00, 0.00000000e+00, 0.00000000e+00, 0.00000000e+00,\n",
       "        0.00000000e+00, 0.00000000e+00, 0.00000000e+00, 0.00000000e+00,\n",
       "        0.00000000e+00, 0.00000000e+00, 0.00000000e+00, 0.00000000e+00,\n",
       "        1.66403195e-04, 0.00000000e+00, 0.00000000e+00, 0.00000000e+00,\n",
       "        0.00000000e+00, 0.00000000e+00, 0.00000000e+00, 0.00000000e+00,\n",
       "        0.00000000e+00, 0.00000000e+00, 0.00000000e+00, 0.00000000e+00,\n",
       "        0.00000000e+00, 0.00000000e+00, 0.00000000e+00, 0.00000000e+00,\n",
       "        0.00000000e+00, 0.00000000e+00, 0.00000000e+00, 0.00000000e+00,\n",
       "        0.00000000e+00, 0.00000000e+00, 0.00000000e+00, 0.00000000e+00,\n",
       "        0.00000000e+00, 0.00000000e+00, 0.00000000e+00, 0.00000000e+00,\n",
       "        0.00000000e+00, 0.00000000e+00, 0.00000000e+00, 0.00000000e+00,\n",
       "        1.66403195e-04, 0.00000000e+00, 0.00000000e+00, 0.00000000e+00,\n",
       "        0.00000000e+00, 0.00000000e+00, 0.00000000e+00, 0.00000000e+00,\n",
       "        0.00000000e+00, 0.00000000e+00, 0.00000000e+00, 0.00000000e+00,\n",
       "        0.00000000e+00, 0.00000000e+00, 0.00000000e+00, 0.00000000e+00,\n",
       "        8.32015975e-05, 0.00000000e+00, 0.00000000e+00, 0.00000000e+00,\n",
       "        0.00000000e+00, 0.00000000e+00, 0.00000000e+00, 0.00000000e+00,\n",
       "        0.00000000e+00, 0.00000000e+00, 0.00000000e+00, 0.00000000e+00,\n",
       "        0.00000000e+00, 0.00000000e+00, 0.00000000e+00, 0.00000000e+00,\n",
       "        0.00000000e+00, 0.00000000e+00, 0.00000000e+00, 0.00000000e+00,\n",
       "        0.00000000e+00, 0.00000000e+00, 0.00000000e+00, 0.00000000e+00,\n",
       "        0.00000000e+00, 0.00000000e+00, 0.00000000e+00, 0.00000000e+00,\n",
       "        0.00000000e+00, 0.00000000e+00, 0.00000000e+00, 0.00000000e+00,\n",
       "        0.00000000e+00, 0.00000000e+00, 0.00000000e+00, 0.00000000e+00,\n",
       "        0.00000000e+00, 0.00000000e+00, 0.00000000e+00, 0.00000000e+00,\n",
       "        0.00000000e+00, 0.00000000e+00, 0.00000000e+00, 0.00000000e+00,\n",
       "        0.00000000e+00, 0.00000000e+00, 0.00000000e+00, 0.00000000e+00,\n",
       "        9.56818371e-03, 8.32015975e-05, 0.00000000e+00, 0.00000000e+00,\n",
       "        0.00000000e+00, 0.00000000e+00, 0.00000000e+00, 0.00000000e+00,\n",
       "        8.32015975e-05, 0.00000000e+00, 0.00000000e+00, 0.00000000e+00,\n",
       "        0.00000000e+00, 0.00000000e+00, 0.00000000e+00, 0.00000000e+00,\n",
       "        1.08162077e-03, 0.00000000e+00, 0.00000000e+00, 0.00000000e+00,\n",
       "        0.00000000e+00, 0.00000000e+00, 0.00000000e+00, 0.00000000e+00,\n",
       "        0.00000000e+00, 0.00000000e+00, 0.00000000e+00, 0.00000000e+00,\n",
       "        0.00000000e+00, 0.00000000e+00, 0.00000000e+00, 0.00000000e+00,\n",
       "        0.00000000e+00, 0.00000000e+00, 0.00000000e+00, 0.00000000e+00,\n",
       "        0.00000000e+00, 0.00000000e+00, 0.00000000e+00, 0.00000000e+00,\n",
       "        0.00000000e+00, 0.00000000e+00, 0.00000000e+00, 0.00000000e+00,\n",
       "        0.00000000e+00, 0.00000000e+00, 0.00000000e+00, 0.00000000e+00,\n",
       "        0.00000000e+00, 0.00000000e+00, 0.00000000e+00, 0.00000000e+00,\n",
       "        0.00000000e+00, 0.00000000e+00, 0.00000000e+00, 0.00000000e+00,\n",
       "        0.00000000e+00, 0.00000000e+00, 0.00000000e+00, 0.00000000e+00,\n",
       "        0.00000000e+00, 0.00000000e+00, 0.00000000e+00, 0.00000000e+00,\n",
       "        0.00000000e+00, 0.00000000e+00, 0.00000000e+00, 0.00000000e+00,\n",
       "        0.00000000e+00, 0.00000000e+00, 0.00000000e+00, 0.00000000e+00,\n",
       "        0.00000000e+00, 0.00000000e+00, 0.00000000e+00, 0.00000000e+00,\n",
       "        0.00000000e+00, 0.00000000e+00, 0.00000000e+00, 0.00000000e+00,\n",
       "        0.00000000e+00, 0.00000000e+00, 0.00000000e+00, 0.00000000e+00,\n",
       "        0.00000000e+00, 0.00000000e+00, 0.00000000e+00, 0.00000000e+00,\n",
       "        0.00000000e+00, 0.00000000e+00, 0.00000000e+00, 0.00000000e+00,\n",
       "        0.00000000e+00, 0.00000000e+00, 0.00000000e+00, 0.00000000e+00,\n",
       "        0.00000000e+00, 0.00000000e+00, 0.00000000e+00, 0.00000000e+00,\n",
       "        0.00000000e+00, 0.00000000e+00, 0.00000000e+00, 0.00000000e+00,\n",
       "        0.00000000e+00, 0.00000000e+00, 0.00000000e+00, 0.00000000e+00,\n",
       "        0.00000000e+00, 0.00000000e+00, 0.00000000e+00, 0.00000000e+00,\n",
       "        0.00000000e+00, 0.00000000e+00, 0.00000000e+00, 0.00000000e+00,\n",
       "        0.00000000e+00, 0.00000000e+00, 0.00000000e+00, 0.00000000e+00,\n",
       "        0.00000000e+00, 0.00000000e+00, 0.00000000e+00, 0.00000000e+00,\n",
       "        0.00000000e+00, 0.00000000e+00, 0.00000000e+00, 0.00000000e+00,\n",
       "        0.00000000e+00, 0.00000000e+00, 0.00000000e+00, 0.00000000e+00,\n",
       "        0.00000000e+00, 0.00000000e+00, 0.00000000e+00, 0.00000000e+00,\n",
       "        0.00000000e+00, 0.00000000e+00, 0.00000000e+00, 0.00000000e+00,\n",
       "        0.00000000e+00, 0.00000000e+00, 0.00000000e+00, 0.00000000e+00,\n",
       "        0.00000000e+00, 0.00000000e+00, 0.00000000e+00, 0.00000000e+00,\n",
       "        0.00000000e+00, 0.00000000e+00, 0.00000000e+00, 0.00000000e+00,\n",
       "        0.00000000e+00, 0.00000000e+00, 0.00000000e+00, 0.00000000e+00,\n",
       "        0.00000000e+00, 0.00000000e+00, 0.00000000e+00, 0.00000000e+00,\n",
       "        0.00000000e+00, 0.00000000e+00, 0.00000000e+00, 0.00000000e+00,\n",
       "        0.00000000e+00, 0.00000000e+00, 0.00000000e+00, 0.00000000e+00,\n",
       "        0.00000000e+00, 0.00000000e+00, 0.00000000e+00, 0.00000000e+00,\n",
       "        0.00000000e+00, 0.00000000e+00, 0.00000000e+00, 0.00000000e+00,\n",
       "        0.00000000e+00, 0.00000000e+00, 0.00000000e+00, 0.00000000e+00,\n",
       "        0.00000000e+00, 0.00000000e+00, 0.00000000e+00, 0.00000000e+00,\n",
       "        0.00000000e+00, 0.00000000e+00, 0.00000000e+00, 0.00000000e+00,\n",
       "        0.00000000e+00, 0.00000000e+00, 0.00000000e+00, 0.00000000e+00,\n",
       "        0.00000000e+00, 0.00000000e+00, 0.00000000e+00, 0.00000000e+00,\n",
       "        0.00000000e+00, 0.00000000e+00, 0.00000000e+00, 0.00000000e+00,\n",
       "        0.00000000e+00, 0.00000000e+00, 0.00000000e+00, 0.00000000e+00,\n",
       "        0.00000000e+00, 0.00000000e+00, 0.00000000e+00, 0.00000000e+00,\n",
       "        0.00000000e+00, 0.00000000e+00, 0.00000000e+00, 0.00000000e+00,\n",
       "        0.00000000e+00, 0.00000000e+00, 0.00000000e+00, 0.00000000e+00,\n",
       "        0.00000000e+00, 0.00000000e+00, 0.00000000e+00, 0.00000000e+00,\n",
       "        0.00000000e+00, 0.00000000e+00, 0.00000000e+00, 0.00000000e+00,\n",
       "        0.00000000e+00, 0.00000000e+00, 0.00000000e+00, 0.00000000e+00,\n",
       "        0.00000000e+00, 0.00000000e+00, 0.00000000e+00, 0.00000000e+00,\n",
       "        0.00000000e+00, 0.00000000e+00, 0.00000000e+00, 0.00000000e+00,\n",
       "        0.00000000e+00, 0.00000000e+00, 0.00000000e+00, 0.00000000e+00,\n",
       "        0.00000000e+00, 0.00000000e+00, 0.00000000e+00, 0.00000000e+00,\n",
       "        0.00000000e+00, 0.00000000e+00, 0.00000000e+00, 0.00000000e+00,\n",
       "        0.00000000e+00, 0.00000000e+00, 0.00000000e+00, 0.00000000e+00,\n",
       "        0.00000000e+00, 0.00000000e+00, 0.00000000e+00, 0.00000000e+00], requires_grad=True)"
      ]
     },
     "execution_count": 45,
     "metadata": {},
     "output_type": "execute_result"
    }
   ],
   "source": [
    "counts_full_norm"
   ]
  },
  {
   "cell_type": "code",
   "execution_count": 46,
   "id": "375c8ccc-3579-4c38-bd5c-397e2220ae6e",
   "metadata": {},
   "outputs": [
    {
     "data": {
      "text/plain": [
       "tensor([1.3033e-02, 9.7224e-03, 1.0834e-02, 4.1518e-04, 1.6682e-02, 6.2980e-04,\n",
       "        2.7486e-04, 2.9849e-04, 1.1631e-02, 3.1378e-03, 2.2686e-03, 1.6198e-04,\n",
       "        8.4491e-04, 2.7099e-05, 5.5342e-04, 6.0211e-04, 6.8625e-01, 4.3419e-03,\n",
       "        3.6349e-03, 5.0258e-04, 1.3472e-04, 1.8724e-04, 4.8966e-04, 4.3716e-04,\n",
       "        2.3718e-03, 2.7486e-03, 1.5272e-03, 3.3830e-04, 7.2378e-04, 8.1218e-04,\n",
       "        9.3835e-05, 1.8386e-04, 2.3034e-02, 1.1392e-03, 1.3509e-03, 4.0460e-04,\n",
       "        2.2736e-03, 3.4650e-04, 4.9777e-04, 2.7999e-04, 1.6624e-03, 3.0971e-04,\n",
       "        4.5225e-04, 4.0202e-04, 4.7910e-05, 9.3352e-05, 6.8104e-05, 2.6998e-05,\n",
       "        2.9684e-03, 3.6798e-04, 2.0212e-03, 2.1767e-05, 2.4185e-04, 7.9084e-05,\n",
       "        1.1862e-04, 1.5808e-04, 1.0415e-03, 4.2848e-04, 2.9999e-04, 6.0979e-05,\n",
       "        9.7719e-04, 1.3874e-04, 1.7853e-05, 2.1209e-04, 9.0643e-03, 1.0376e-03,\n",
       "        6.7114e-04, 6.5953e-04, 1.5494e-03, 3.7441e-04, 4.2905e-04, 3.7811e-04,\n",
       "        2.5998e-03, 6.0936e-04, 1.3654e-03, 1.8969e-04, 6.1149e-04, 4.7606e-04,\n",
       "        4.4043e-04, 2.4008e-04, 6.8829e-04, 1.9741e-03, 1.9301e-03, 1.1177e-04,\n",
       "        4.5884e-04, 4.2960e-05, 8.1042e-05, 4.2523e-05, 2.1396e-04, 3.0657e-04,\n",
       "        1.8805e-05, 7.2408e-06, 3.3487e-04, 1.8785e-04, 4.9232e-04, 5.3297e-05,\n",
       "        2.1761e-03, 2.1091e-04, 2.5568e-04, 8.3144e-05, 2.7106e-04, 5.9812e-04,\n",
       "        1.1955e-04, 3.8981e-04, 2.3841e-04, 2.0385e-04, 5.0813e-04, 1.3295e-04,\n",
       "        7.1953e-04, 2.6865e-04, 6.0415e-04, 1.8379e-04, 2.4090e-03, 3.1548e-04,\n",
       "        1.6426e-04, 4.2832e-05, 1.7287e-03, 1.6432e-04, 1.2876e-04, 2.6941e-04,\n",
       "        3.2944e-04, 3.4940e-04, 1.1843e-04, 1.7671e-04, 3.0428e-05, 2.4007e-04,\n",
       "        1.4593e-04, 1.0551e-04, 1.1667e-02, 3.1920e-03, 3.1119e-03, 1.2880e-03,\n",
       "        4.1568e-04, 1.6525e-05, 6.1769e-04, 3.7481e-04, 2.1381e-04, 4.1835e-05,\n",
       "        2.2836e-04, 8.9621e-05, 4.9678e-05, 3.3324e-04, 1.4796e-05, 8.9941e-05,\n",
       "        4.2783e-03, 3.7117e-04, 9.6076e-05, 1.5118e-03, 1.3236e-05, 2.9319e-05,\n",
       "        8.3815e-04, 6.8829e-05, 1.3972e-05, 6.1303e-04, 2.1547e-04, 5.8594e-06,\n",
       "        1.2651e-04, 3.1941e-04, 4.2204e-04, 1.9190e-05, 1.5249e-04, 4.4287e-04,\n",
       "        4.6253e-04, 1.7387e-04, 7.2567e-04, 2.3517e-04, 2.3243e-04, 2.5877e-04,\n",
       "        2.7126e-04, 2.9123e-04, 3.5942e-04, 2.1978e-04, 5.3142e-05, 2.2304e-04,\n",
       "        1.3797e-04, 7.4042e-05, 4.5776e-04, 1.9527e-05, 1.0555e-04, 4.4004e-04,\n",
       "        3.5611e-04, 1.2287e-04, 1.7603e-04, 1.5526e-04, 5.5877e-04, 4.1726e-04,\n",
       "        4.4013e-04, 2.7460e-04, 2.3277e-05, 4.4197e-05, 8.9295e-04, 1.0160e-04,\n",
       "        1.7538e-03, 3.1178e-04, 7.4323e-04, 5.7468e-05, 1.8442e-04, 4.0487e-04,\n",
       "        8.7975e-05, 8.4884e-05, 4.2375e-06, 2.4856e-04, 1.8631e-04, 2.1374e-04,\n",
       "        1.4271e-04, 2.8782e-04, 1.3213e-04, 7.5495e-05, 4.6733e-06, 1.9494e-04,\n",
       "        2.1637e-05, 4.3951e-05, 5.0053e-04, 2.3826e-04, 5.2032e-04, 3.4660e-04,\n",
       "        4.2188e-04, 3.7778e-05, 2.2742e-04, 1.0517e-04, 7.1354e-04, 1.8317e-04,\n",
       "        7.0065e-05, 1.6258e-04, 7.0229e-04, 4.9190e-04, 1.0862e-04, 3.3896e-05,\n",
       "        3.5983e-04, 9.6848e-04, 1.0105e-04, 1.3623e-04, 1.5229e-04, 5.6361e-04,\n",
       "        5.5080e-05, 1.3483e-04, 2.0941e-05, 1.7897e-04, 3.8088e-05, 7.5324e-05,\n",
       "        5.1327e-04, 1.6047e-06, 1.6142e-06, 1.4913e-04, 2.3824e-04, 7.4184e-05,\n",
       "        4.0803e-07, 2.8238e-05, 4.0725e-05, 2.7612e-05, 6.1668e-06, 8.0851e-06,\n",
       "        4.9906e-05, 3.5126e-04, 8.5512e-07, 9.0173e-05, 1.9438e-02, 1.3165e-03,\n",
       "        6.8537e-04, 5.6525e-04, 4.0208e-04, 4.9180e-05, 7.3456e-04, 1.3522e-05,\n",
       "        6.3634e-05, 6.9348e-04, 6.7926e-04, 6.7701e-04, 8.3831e-05, 1.9512e-05,\n",
       "        1.5081e-04, 1.2824e-04, 2.3588e-03, 1.1959e-03, 2.3995e-04, 2.4405e-04,\n",
       "        2.1846e-05, 2.9160e-04, 3.0107e-04, 7.9491e-05, 1.9448e-03, 1.2598e-03,\n",
       "        5.0350e-04, 3.3686e-05, 9.1255e-04, 9.7288e-05, 4.1639e-04, 8.3436e-05,\n",
       "        1.3769e-03, 7.0314e-04, 3.2459e-04, 3.8748e-05, 3.4476e-04, 2.0090e-04,\n",
       "        3.7593e-04, 2.6813e-05, 6.5675e-05, 3.0217e-04, 6.4330e-05, 1.8992e-05,\n",
       "        4.6766e-05, 1.6573e-04, 2.9870e-05, 1.5890e-05, 6.3061e-04, 6.8514e-04,\n",
       "        3.5616e-05, 1.4621e-04, 5.6244e-04, 4.5565e-05, 6.1688e-05, 6.8406e-05,\n",
       "        3.6954e-04, 1.7566e-04, 2.8322e-05, 1.8003e-04, 1.5452e-04, 1.3317e-04,\n",
       "        2.4806e-04, 1.1161e-05, 5.4519e-04, 4.3197e-04, 2.3328e-05, 3.0697e-05,\n",
       "        1.2019e-03, 5.6730e-05, 1.7623e-04, 4.9335e-04, 1.0249e-03, 7.7969e-05,\n",
       "        2.2975e-04, 3.3166e-04, 2.1371e-04, 2.7771e-06, 2.1872e-04, 1.2842e-04,\n",
       "        2.2196e-06, 2.3907e-04, 3.9658e-04, 2.2505e-04, 8.7507e-04, 1.6402e-04,\n",
       "        1.3480e-05, 3.6164e-04, 4.4596e-04, 6.9277e-05, 3.6396e-04, 4.0747e-06,\n",
       "        1.2365e-05, 1.5116e-04, 2.4312e-05, 6.3156e-05, 4.3507e-05, 4.1522e-04,\n",
       "        8.7873e-04, 3.9313e-05, 1.2241e-04, 3.8785e-05, 2.0495e-04, 1.6711e-04,\n",
       "        7.8421e-04, 3.3848e-04, 4.9466e-05, 7.1864e-05, 1.3135e-04, 3.3185e-04,\n",
       "        2.6967e-05, 2.9795e-05, 1.0750e-06, 8.8518e-04, 2.7841e-04, 4.3826e-05,\n",
       "        8.3089e-05, 5.7976e-05, 4.2726e-04, 2.0398e-04, 3.5482e-04, 2.1328e-04,\n",
       "        3.5475e-04, 3.0792e-05, 2.5365e-04, 1.6813e-05, 1.4575e-05, 2.6148e-04,\n",
       "        9.7846e-04, 6.8673e-04, 3.2146e-04, 3.1801e-05, 1.5737e-04, 9.6014e-07,\n",
       "        2.2542e-04, 2.3332e-05, 2.0552e-04, 9.7786e-06, 4.2801e-04, 3.5550e-05,\n",
       "        1.1329e-04, 1.2747e-04, 2.3924e-05, 3.7691e-05, 2.1360e-03, 5.3325e-04,\n",
       "        2.1197e-04, 3.4168e-05, 1.3044e-03, 9.6321e-05, 4.0900e-05, 1.3260e-04,\n",
       "        8.9521e-04, 1.2667e-04, 1.2615e-04, 3.6913e-05, 4.2567e-05, 2.3730e-04,\n",
       "        9.2980e-07, 1.0808e-04, 2.0870e-04, 8.2225e-04, 3.0805e-04, 1.7835e-05,\n",
       "        9.6068e-05, 6.0939e-04, 1.1843e-04, 5.5137e-05, 1.4895e-04, 1.9644e-04,\n",
       "        1.4515e-05, 1.9108e-04, 8.6915e-05, 2.8407e-05, 1.4448e-04, 2.5513e-05,\n",
       "        1.7271e-04, 8.4589e-04, 3.2444e-04, 1.5801e-04, 2.8323e-04, 4.6118e-06,\n",
       "        6.1711e-06, 5.4232e-05, 8.2289e-05, 6.0183e-05, 1.1747e-04, 8.9876e-06,\n",
       "        1.3750e-05, 3.1725e-05, 1.8833e-04, 8.7628e-05, 1.6190e-03, 1.7185e-04,\n",
       "        9.6827e-05, 4.0340e-04, 6.6181e-05, 2.6642e-04, 2.9555e-05, 8.5312e-05,\n",
       "        2.2357e-03, 3.2633e-04, 8.0404e-05, 1.4209e-04, 5.6420e-04, 9.1683e-05,\n",
       "        1.7249e-04, 1.5149e-04, 2.4892e-04, 6.4274e-04, 4.7904e-05, 3.6870e-04,\n",
       "        6.7685e-05, 8.5066e-05, 3.7963e-04, 1.3751e-06, 4.9226e-04, 1.0080e-04,\n",
       "        9.5372e-05, 9.3012e-05, 4.2349e-05, 3.9059e-05, 4.2840e-05, 9.2560e-05,\n",
       "        4.6578e-04, 1.3705e-05, 3.5061e-04, 6.6905e-05, 3.3602e-04, 3.2662e-05,\n",
       "        1.1066e-04, 6.8839e-05, 1.0376e-04, 2.2798e-05, 1.8707e-04, 1.0099e-04,\n",
       "        9.4085e-05, 1.3438e-04, 1.0712e-04, 1.4239e-04, 4.0671e-05, 4.3997e-05,\n",
       "        1.1585e-04, 1.2038e-04, 9.9748e-05, 1.5702e-05, 2.5106e-04, 2.5345e-05,\n",
       "        1.9514e-05, 1.0173e-04, 3.1078e-05, 1.4814e-05, 2.1662e-04, 2.1871e-04,\n",
       "        7.7268e-05, 1.1032e-04], dtype=torch.float64)"
      ]
     },
     "execution_count": 46,
     "metadata": {},
     "output_type": "execute_result"
    }
   ],
   "source": [
    "circuit(1, list(generator.parameters())[0].detach())"
   ]
  },
  {
   "cell_type": "code",
   "execution_count": 47,
   "id": "3c94c27b-30b6-4e7c-be58-3f5b46e7e897",
   "metadata": {},
   "outputs": [
    {
     "data": {
      "text/plain": [
       "tensor([[0., 0., 0.],\n",
       "        [0., 1., 0.],\n",
       "        [0., 0., 0.]])"
      ]
     },
     "execution_count": 47,
     "metadata": {},
     "output_type": "execute_result"
    }
   ],
   "source": [
    "basis_array_to_img(circuit_sample(1, list(generator.parameters())[0].detach())[0])"
   ]
  },
  {
   "cell_type": "code",
   "execution_count": 48,
   "id": "1c4e9797-8f0f-4f80-9582-2b40df75db6f",
   "metadata": {},
   "outputs": [
    {
     "data": {
      "text/plain": [
       "torch.Size([512, 3, 3])"
      ]
     },
     "execution_count": 48,
     "metadata": {},
     "output_type": "execute_result"
    }
   ],
   "source": [
    "batch_basis_array_to_img(torch.tensor([int_to_bin_list(x,num_qubits) for x in range(2**num_qubits)])).shape"
   ]
  }
 ],
 "metadata": {
  "kernelspec": {
   "display_name": "tfq",
   "language": "python",
   "name": "tfq"
  },
  "language_info": {
   "codemirror_mode": {
    "name": "ipython",
    "version": 3
   },
   "file_extension": ".py",
   "mimetype": "text/x-python",
   "name": "python",
   "nbconvert_exporter": "python",
   "pygments_lexer": "ipython3",
   "version": "3.9.12"
  }
 },
 "nbformat": 4,
 "nbformat_minor": 5
}
